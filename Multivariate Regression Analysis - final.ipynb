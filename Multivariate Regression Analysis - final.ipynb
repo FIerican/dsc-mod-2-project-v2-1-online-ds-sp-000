{
 "cells": [
  {
   "cell_type": "markdown",
   "metadata": {},
   "source": [
    "## Final Project Submission\n",
    "\n",
    "Please fill out:\n",
    "* Student name: Eric An\n",
    "* Student pace: self paced\n",
    "* Scheduled project review date/time: TBD\n",
    "* Instructor name: Jeff Herman\n",
    "* Blog post URL: TBD"
   ]
  },
  {
   "cell_type": "markdown",
   "metadata": {},
   "source": [
    "# Business Understanding"
   ]
  },
  {
   "cell_type": "markdown",
   "metadata": {},
   "source": [
    "This notebook will examine the King County House Sales dataset and come up with a model using multivariate linear regression to predict the sale price of houses as accurately as possible, while also examining what factors most influence the average sale price of a home. The experiment is to determine if there are certain factors that can be taken advantage of to maximize a resident's profit when selling their home."
   ]
  },
  {
   "cell_type": "markdown",
   "metadata": {},
   "source": [
    "# Data Preparation"
   ]
  },
  {
   "cell_type": "markdown",
   "metadata": {},
   "source": [
    "### Libraries"
   ]
  },
  {
   "cell_type": "code",
   "execution_count": 1,
   "metadata": {},
   "outputs": [
    {
     "name": "stderr",
     "output_type": "stream",
     "text": [
      "/opt/anaconda3/envs/learn-env/lib/python3.6/site-packages/statsmodels/tools/_testing.py:19: FutureWarning: pandas.util.testing is deprecated. Use the functions in the public API at pandas.testing instead.\n",
      "  import pandas.util.testing as tm\n"
     ]
    }
   ],
   "source": [
    "import pandas as pd\n",
    "import numpy as np\n",
    "import matplotlib.pyplot as plt\n",
    "%matplotlib inline\n",
    "import seaborn as sns\n",
    "from statsmodels.formula.api import ols\n",
    "import statsmodels.api as sm\n",
    "import statsmodels.formula.api as smf\n",
    "from sklearn.linear_model import LinearRegression\n",
    "from sklearn.metrics import mean_squared_error, r2_score\n",
    "from sklearn import model_selection\n",
    "from sklearn.model_selection import train_test_split\n",
    "from sklearn.feature_selection import RFE\n",
    "from sklearn.model_selection import KFold\n",
    "from sklearn.model_selection import cross_val_score"
   ]
  },
  {
   "cell_type": "markdown",
   "metadata": {},
   "source": [
    "### Preprocessing"
   ]
  },
  {
   "cell_type": "code",
   "execution_count": 2,
   "metadata": {
    "scrolled": true
   },
   "outputs": [],
   "source": [
    "df = pd.read_csv('kc_house_data.csv')"
   ]
  },
  {
   "cell_type": "markdown",
   "metadata": {},
   "source": [
    "#### dataset exploration"
   ]
  },
  {
   "cell_type": "code",
   "execution_count": 3,
   "metadata": {},
   "outputs": [
    {
     "data": {
      "text/html": [
       "<div>\n",
       "<style scoped>\n",
       "    .dataframe tbody tr th:only-of-type {\n",
       "        vertical-align: middle;\n",
       "    }\n",
       "\n",
       "    .dataframe tbody tr th {\n",
       "        vertical-align: top;\n",
       "    }\n",
       "\n",
       "    .dataframe thead th {\n",
       "        text-align: right;\n",
       "    }\n",
       "</style>\n",
       "<table border=\"1\" class=\"dataframe\">\n",
       "  <thead>\n",
       "    <tr style=\"text-align: right;\">\n",
       "      <th></th>\n",
       "      <th>id</th>\n",
       "      <th>date</th>\n",
       "      <th>price</th>\n",
       "      <th>bedrooms</th>\n",
       "      <th>bathrooms</th>\n",
       "      <th>sqft_living</th>\n",
       "      <th>sqft_lot</th>\n",
       "      <th>floors</th>\n",
       "      <th>waterfront</th>\n",
       "      <th>view</th>\n",
       "      <th>...</th>\n",
       "      <th>grade</th>\n",
       "      <th>sqft_above</th>\n",
       "      <th>sqft_basement</th>\n",
       "      <th>yr_built</th>\n",
       "      <th>yr_renovated</th>\n",
       "      <th>zipcode</th>\n",
       "      <th>lat</th>\n",
       "      <th>long</th>\n",
       "      <th>sqft_living15</th>\n",
       "      <th>sqft_lot15</th>\n",
       "    </tr>\n",
       "  </thead>\n",
       "  <tbody>\n",
       "    <tr>\n",
       "      <th>0</th>\n",
       "      <td>7129300520</td>\n",
       "      <td>10/13/2014</td>\n",
       "      <td>221900.0</td>\n",
       "      <td>3</td>\n",
       "      <td>1.00</td>\n",
       "      <td>1180</td>\n",
       "      <td>5650</td>\n",
       "      <td>1.0</td>\n",
       "      <td>NaN</td>\n",
       "      <td>0.0</td>\n",
       "      <td>...</td>\n",
       "      <td>7</td>\n",
       "      <td>1180</td>\n",
       "      <td>0.0</td>\n",
       "      <td>1955</td>\n",
       "      <td>0.0</td>\n",
       "      <td>98178</td>\n",
       "      <td>47.5112</td>\n",
       "      <td>-122.257</td>\n",
       "      <td>1340</td>\n",
       "      <td>5650</td>\n",
       "    </tr>\n",
       "    <tr>\n",
       "      <th>1</th>\n",
       "      <td>6414100192</td>\n",
       "      <td>12/9/2014</td>\n",
       "      <td>538000.0</td>\n",
       "      <td>3</td>\n",
       "      <td>2.25</td>\n",
       "      <td>2570</td>\n",
       "      <td>7242</td>\n",
       "      <td>2.0</td>\n",
       "      <td>0.0</td>\n",
       "      <td>0.0</td>\n",
       "      <td>...</td>\n",
       "      <td>7</td>\n",
       "      <td>2170</td>\n",
       "      <td>400.0</td>\n",
       "      <td>1951</td>\n",
       "      <td>1991.0</td>\n",
       "      <td>98125</td>\n",
       "      <td>47.7210</td>\n",
       "      <td>-122.319</td>\n",
       "      <td>1690</td>\n",
       "      <td>7639</td>\n",
       "    </tr>\n",
       "    <tr>\n",
       "      <th>2</th>\n",
       "      <td>5631500400</td>\n",
       "      <td>2/25/2015</td>\n",
       "      <td>180000.0</td>\n",
       "      <td>2</td>\n",
       "      <td>1.00</td>\n",
       "      <td>770</td>\n",
       "      <td>10000</td>\n",
       "      <td>1.0</td>\n",
       "      <td>0.0</td>\n",
       "      <td>0.0</td>\n",
       "      <td>...</td>\n",
       "      <td>6</td>\n",
       "      <td>770</td>\n",
       "      <td>0.0</td>\n",
       "      <td>1933</td>\n",
       "      <td>NaN</td>\n",
       "      <td>98028</td>\n",
       "      <td>47.7379</td>\n",
       "      <td>-122.233</td>\n",
       "      <td>2720</td>\n",
       "      <td>8062</td>\n",
       "    </tr>\n",
       "    <tr>\n",
       "      <th>3</th>\n",
       "      <td>2487200875</td>\n",
       "      <td>12/9/2014</td>\n",
       "      <td>604000.0</td>\n",
       "      <td>4</td>\n",
       "      <td>3.00</td>\n",
       "      <td>1960</td>\n",
       "      <td>5000</td>\n",
       "      <td>1.0</td>\n",
       "      <td>0.0</td>\n",
       "      <td>0.0</td>\n",
       "      <td>...</td>\n",
       "      <td>7</td>\n",
       "      <td>1050</td>\n",
       "      <td>910.0</td>\n",
       "      <td>1965</td>\n",
       "      <td>0.0</td>\n",
       "      <td>98136</td>\n",
       "      <td>47.5208</td>\n",
       "      <td>-122.393</td>\n",
       "      <td>1360</td>\n",
       "      <td>5000</td>\n",
       "    </tr>\n",
       "    <tr>\n",
       "      <th>4</th>\n",
       "      <td>1954400510</td>\n",
       "      <td>2/18/2015</td>\n",
       "      <td>510000.0</td>\n",
       "      <td>3</td>\n",
       "      <td>2.00</td>\n",
       "      <td>1680</td>\n",
       "      <td>8080</td>\n",
       "      <td>1.0</td>\n",
       "      <td>0.0</td>\n",
       "      <td>0.0</td>\n",
       "      <td>...</td>\n",
       "      <td>8</td>\n",
       "      <td>1680</td>\n",
       "      <td>0.0</td>\n",
       "      <td>1987</td>\n",
       "      <td>0.0</td>\n",
       "      <td>98074</td>\n",
       "      <td>47.6168</td>\n",
       "      <td>-122.045</td>\n",
       "      <td>1800</td>\n",
       "      <td>7503</td>\n",
       "    </tr>\n",
       "  </tbody>\n",
       "</table>\n",
       "<p>5 rows × 21 columns</p>\n",
       "</div>"
      ],
      "text/plain": [
       "           id        date     price  bedrooms  bathrooms  sqft_living  \\\n",
       "0  7129300520  10/13/2014  221900.0         3       1.00         1180   \n",
       "1  6414100192   12/9/2014  538000.0         3       2.25         2570   \n",
       "2  5631500400   2/25/2015  180000.0         2       1.00          770   \n",
       "3  2487200875   12/9/2014  604000.0         4       3.00         1960   \n",
       "4  1954400510   2/18/2015  510000.0         3       2.00         1680   \n",
       "\n",
       "   sqft_lot  floors  waterfront  view  ...  grade  sqft_above  sqft_basement  \\\n",
       "0      5650     1.0         NaN   0.0  ...      7        1180            0.0   \n",
       "1      7242     2.0         0.0   0.0  ...      7        2170          400.0   \n",
       "2     10000     1.0         0.0   0.0  ...      6         770            0.0   \n",
       "3      5000     1.0         0.0   0.0  ...      7        1050          910.0   \n",
       "4      8080     1.0         0.0   0.0  ...      8        1680            0.0   \n",
       "\n",
       "  yr_built  yr_renovated  zipcode      lat     long  sqft_living15  sqft_lot15  \n",
       "0     1955           0.0    98178  47.5112 -122.257           1340        5650  \n",
       "1     1951        1991.0    98125  47.7210 -122.319           1690        7639  \n",
       "2     1933           NaN    98028  47.7379 -122.233           2720        8062  \n",
       "3     1965           0.0    98136  47.5208 -122.393           1360        5000  \n",
       "4     1987           0.0    98074  47.6168 -122.045           1800        7503  \n",
       "\n",
       "[5 rows x 21 columns]"
      ]
     },
     "metadata": {},
     "output_type": "display_data"
    },
    {
     "name": "stdout",
     "output_type": "stream",
     "text": [
      "<class 'pandas.core.frame.DataFrame'>\n",
      "RangeIndex: 21597 entries, 0 to 21596\n",
      "Data columns (total 21 columns):\n",
      " #   Column         Non-Null Count  Dtype  \n",
      "---  ------         --------------  -----  \n",
      " 0   id             21597 non-null  int64  \n",
      " 1   date           21597 non-null  object \n",
      " 2   price          21597 non-null  float64\n",
      " 3   bedrooms       21597 non-null  int64  \n",
      " 4   bathrooms      21597 non-null  float64\n",
      " 5   sqft_living    21597 non-null  int64  \n",
      " 6   sqft_lot       21597 non-null  int64  \n",
      " 7   floors         21597 non-null  float64\n",
      " 8   waterfront     19221 non-null  float64\n",
      " 9   view           21534 non-null  float64\n",
      " 10  condition      21597 non-null  int64  \n",
      " 11  grade          21597 non-null  int64  \n",
      " 12  sqft_above     21597 non-null  int64  \n",
      " 13  sqft_basement  21597 non-null  object \n",
      " 14  yr_built       21597 non-null  int64  \n",
      " 15  yr_renovated   17755 non-null  float64\n",
      " 16  zipcode        21597 non-null  int64  \n",
      " 17  lat            21597 non-null  float64\n",
      " 18  long           21597 non-null  float64\n",
      " 19  sqft_living15  21597 non-null  int64  \n",
      " 20  sqft_lot15     21597 non-null  int64  \n",
      "dtypes: float64(8), int64(11), object(2)\n",
      "memory usage: 3.5+ MB\n"
     ]
    },
    {
     "data": {
      "text/plain": [
       "None"
      ]
     },
     "metadata": {},
     "output_type": "display_data"
    }
   ],
   "source": [
    "display(df.head())\n",
    "display(df.info())"
   ]
  },
  {
   "cell_type": "markdown",
   "metadata": {},
   "source": [
    "> **Observations:** We see the feature `sqft_basement` classified as an `object`, when it should be a integer value. From the category mapping file, we also recognize several features that should be classified as `category` or `object` (ie. `view`, `waterfront`, `grade`, `condition`, `zipcode`)"
   ]
  },
  {
   "cell_type": "code",
   "execution_count": 4,
   "metadata": {
    "scrolled": false
   },
   "outputs": [
    {
     "data": {
      "text/html": [
       "<div>\n",
       "<style scoped>\n",
       "    .dataframe tbody tr th:only-of-type {\n",
       "        vertical-align: middle;\n",
       "    }\n",
       "\n",
       "    .dataframe tbody tr th {\n",
       "        vertical-align: top;\n",
       "    }\n",
       "\n",
       "    .dataframe thead th {\n",
       "        text-align: right;\n",
       "    }\n",
       "</style>\n",
       "<table border=\"1\" class=\"dataframe\">\n",
       "  <thead>\n",
       "    <tr style=\"text-align: right;\">\n",
       "      <th></th>\n",
       "      <th>id</th>\n",
       "      <th>price</th>\n",
       "      <th>bedrooms</th>\n",
       "      <th>bathrooms</th>\n",
       "      <th>sqft_living</th>\n",
       "      <th>sqft_lot</th>\n",
       "      <th>floors</th>\n",
       "      <th>waterfront</th>\n",
       "      <th>view</th>\n",
       "      <th>condition</th>\n",
       "      <th>grade</th>\n",
       "      <th>sqft_above</th>\n",
       "      <th>yr_built</th>\n",
       "      <th>yr_renovated</th>\n",
       "      <th>zipcode</th>\n",
       "      <th>lat</th>\n",
       "      <th>long</th>\n",
       "      <th>sqft_living15</th>\n",
       "      <th>sqft_lot15</th>\n",
       "    </tr>\n",
       "  </thead>\n",
       "  <tbody>\n",
       "    <tr>\n",
       "      <th>count</th>\n",
       "      <td>2.159700e+04</td>\n",
       "      <td>2.159700e+04</td>\n",
       "      <td>21597.000000</td>\n",
       "      <td>21597.000000</td>\n",
       "      <td>21597.000000</td>\n",
       "      <td>2.159700e+04</td>\n",
       "      <td>21597.000000</td>\n",
       "      <td>19221.000000</td>\n",
       "      <td>21534.000000</td>\n",
       "      <td>21597.000000</td>\n",
       "      <td>21597.000000</td>\n",
       "      <td>21597.000000</td>\n",
       "      <td>21597.000000</td>\n",
       "      <td>17755.000000</td>\n",
       "      <td>21597.000000</td>\n",
       "      <td>21597.000000</td>\n",
       "      <td>21597.000000</td>\n",
       "      <td>21597.000000</td>\n",
       "      <td>21597.000000</td>\n",
       "    </tr>\n",
       "    <tr>\n",
       "      <th>mean</th>\n",
       "      <td>4.580474e+09</td>\n",
       "      <td>5.402966e+05</td>\n",
       "      <td>3.373200</td>\n",
       "      <td>2.115826</td>\n",
       "      <td>2080.321850</td>\n",
       "      <td>1.509941e+04</td>\n",
       "      <td>1.494096</td>\n",
       "      <td>0.007596</td>\n",
       "      <td>0.233863</td>\n",
       "      <td>3.409825</td>\n",
       "      <td>7.657915</td>\n",
       "      <td>1788.596842</td>\n",
       "      <td>1970.999676</td>\n",
       "      <td>83.636778</td>\n",
       "      <td>98077.951845</td>\n",
       "      <td>47.560093</td>\n",
       "      <td>-122.213982</td>\n",
       "      <td>1986.620318</td>\n",
       "      <td>12758.283512</td>\n",
       "    </tr>\n",
       "    <tr>\n",
       "      <th>std</th>\n",
       "      <td>2.876736e+09</td>\n",
       "      <td>3.673681e+05</td>\n",
       "      <td>0.926299</td>\n",
       "      <td>0.768984</td>\n",
       "      <td>918.106125</td>\n",
       "      <td>4.141264e+04</td>\n",
       "      <td>0.539683</td>\n",
       "      <td>0.086825</td>\n",
       "      <td>0.765686</td>\n",
       "      <td>0.650546</td>\n",
       "      <td>1.173200</td>\n",
       "      <td>827.759761</td>\n",
       "      <td>29.375234</td>\n",
       "      <td>399.946414</td>\n",
       "      <td>53.513072</td>\n",
       "      <td>0.138552</td>\n",
       "      <td>0.140724</td>\n",
       "      <td>685.230472</td>\n",
       "      <td>27274.441950</td>\n",
       "    </tr>\n",
       "    <tr>\n",
       "      <th>min</th>\n",
       "      <td>1.000102e+06</td>\n",
       "      <td>7.800000e+04</td>\n",
       "      <td>1.000000</td>\n",
       "      <td>0.500000</td>\n",
       "      <td>370.000000</td>\n",
       "      <td>5.200000e+02</td>\n",
       "      <td>1.000000</td>\n",
       "      <td>0.000000</td>\n",
       "      <td>0.000000</td>\n",
       "      <td>1.000000</td>\n",
       "      <td>3.000000</td>\n",
       "      <td>370.000000</td>\n",
       "      <td>1900.000000</td>\n",
       "      <td>0.000000</td>\n",
       "      <td>98001.000000</td>\n",
       "      <td>47.155900</td>\n",
       "      <td>-122.519000</td>\n",
       "      <td>399.000000</td>\n",
       "      <td>651.000000</td>\n",
       "    </tr>\n",
       "    <tr>\n",
       "      <th>25%</th>\n",
       "      <td>2.123049e+09</td>\n",
       "      <td>3.220000e+05</td>\n",
       "      <td>3.000000</td>\n",
       "      <td>1.750000</td>\n",
       "      <td>1430.000000</td>\n",
       "      <td>5.040000e+03</td>\n",
       "      <td>1.000000</td>\n",
       "      <td>0.000000</td>\n",
       "      <td>0.000000</td>\n",
       "      <td>3.000000</td>\n",
       "      <td>7.000000</td>\n",
       "      <td>1190.000000</td>\n",
       "      <td>1951.000000</td>\n",
       "      <td>0.000000</td>\n",
       "      <td>98033.000000</td>\n",
       "      <td>47.471100</td>\n",
       "      <td>-122.328000</td>\n",
       "      <td>1490.000000</td>\n",
       "      <td>5100.000000</td>\n",
       "    </tr>\n",
       "    <tr>\n",
       "      <th>50%</th>\n",
       "      <td>3.904930e+09</td>\n",
       "      <td>4.500000e+05</td>\n",
       "      <td>3.000000</td>\n",
       "      <td>2.250000</td>\n",
       "      <td>1910.000000</td>\n",
       "      <td>7.618000e+03</td>\n",
       "      <td>1.500000</td>\n",
       "      <td>0.000000</td>\n",
       "      <td>0.000000</td>\n",
       "      <td>3.000000</td>\n",
       "      <td>7.000000</td>\n",
       "      <td>1560.000000</td>\n",
       "      <td>1975.000000</td>\n",
       "      <td>0.000000</td>\n",
       "      <td>98065.000000</td>\n",
       "      <td>47.571800</td>\n",
       "      <td>-122.231000</td>\n",
       "      <td>1840.000000</td>\n",
       "      <td>7620.000000</td>\n",
       "    </tr>\n",
       "    <tr>\n",
       "      <th>75%</th>\n",
       "      <td>7.308900e+09</td>\n",
       "      <td>6.450000e+05</td>\n",
       "      <td>4.000000</td>\n",
       "      <td>2.500000</td>\n",
       "      <td>2550.000000</td>\n",
       "      <td>1.068500e+04</td>\n",
       "      <td>2.000000</td>\n",
       "      <td>0.000000</td>\n",
       "      <td>0.000000</td>\n",
       "      <td>4.000000</td>\n",
       "      <td>8.000000</td>\n",
       "      <td>2210.000000</td>\n",
       "      <td>1997.000000</td>\n",
       "      <td>0.000000</td>\n",
       "      <td>98118.000000</td>\n",
       "      <td>47.678000</td>\n",
       "      <td>-122.125000</td>\n",
       "      <td>2360.000000</td>\n",
       "      <td>10083.000000</td>\n",
       "    </tr>\n",
       "    <tr>\n",
       "      <th>max</th>\n",
       "      <td>9.900000e+09</td>\n",
       "      <td>7.700000e+06</td>\n",
       "      <td>33.000000</td>\n",
       "      <td>8.000000</td>\n",
       "      <td>13540.000000</td>\n",
       "      <td>1.651359e+06</td>\n",
       "      <td>3.500000</td>\n",
       "      <td>1.000000</td>\n",
       "      <td>4.000000</td>\n",
       "      <td>5.000000</td>\n",
       "      <td>13.000000</td>\n",
       "      <td>9410.000000</td>\n",
       "      <td>2015.000000</td>\n",
       "      <td>2015.000000</td>\n",
       "      <td>98199.000000</td>\n",
       "      <td>47.777600</td>\n",
       "      <td>-121.315000</td>\n",
       "      <td>6210.000000</td>\n",
       "      <td>871200.000000</td>\n",
       "    </tr>\n",
       "  </tbody>\n",
       "</table>\n",
       "</div>"
      ],
      "text/plain": [
       "                 id         price      bedrooms     bathrooms   sqft_living  \\\n",
       "count  2.159700e+04  2.159700e+04  21597.000000  21597.000000  21597.000000   \n",
       "mean   4.580474e+09  5.402966e+05      3.373200      2.115826   2080.321850   \n",
       "std    2.876736e+09  3.673681e+05      0.926299      0.768984    918.106125   \n",
       "min    1.000102e+06  7.800000e+04      1.000000      0.500000    370.000000   \n",
       "25%    2.123049e+09  3.220000e+05      3.000000      1.750000   1430.000000   \n",
       "50%    3.904930e+09  4.500000e+05      3.000000      2.250000   1910.000000   \n",
       "75%    7.308900e+09  6.450000e+05      4.000000      2.500000   2550.000000   \n",
       "max    9.900000e+09  7.700000e+06     33.000000      8.000000  13540.000000   \n",
       "\n",
       "           sqft_lot        floors    waterfront          view     condition  \\\n",
       "count  2.159700e+04  21597.000000  19221.000000  21534.000000  21597.000000   \n",
       "mean   1.509941e+04      1.494096      0.007596      0.233863      3.409825   \n",
       "std    4.141264e+04      0.539683      0.086825      0.765686      0.650546   \n",
       "min    5.200000e+02      1.000000      0.000000      0.000000      1.000000   \n",
       "25%    5.040000e+03      1.000000      0.000000      0.000000      3.000000   \n",
       "50%    7.618000e+03      1.500000      0.000000      0.000000      3.000000   \n",
       "75%    1.068500e+04      2.000000      0.000000      0.000000      4.000000   \n",
       "max    1.651359e+06      3.500000      1.000000      4.000000      5.000000   \n",
       "\n",
       "              grade    sqft_above      yr_built  yr_renovated       zipcode  \\\n",
       "count  21597.000000  21597.000000  21597.000000  17755.000000  21597.000000   \n",
       "mean       7.657915   1788.596842   1970.999676     83.636778  98077.951845   \n",
       "std        1.173200    827.759761     29.375234    399.946414     53.513072   \n",
       "min        3.000000    370.000000   1900.000000      0.000000  98001.000000   \n",
       "25%        7.000000   1190.000000   1951.000000      0.000000  98033.000000   \n",
       "50%        7.000000   1560.000000   1975.000000      0.000000  98065.000000   \n",
       "75%        8.000000   2210.000000   1997.000000      0.000000  98118.000000   \n",
       "max       13.000000   9410.000000   2015.000000   2015.000000  98199.000000   \n",
       "\n",
       "                lat          long  sqft_living15     sqft_lot15  \n",
       "count  21597.000000  21597.000000   21597.000000   21597.000000  \n",
       "mean      47.560093   -122.213982    1986.620318   12758.283512  \n",
       "std        0.138552      0.140724     685.230472   27274.441950  \n",
       "min       47.155900   -122.519000     399.000000     651.000000  \n",
       "25%       47.471100   -122.328000    1490.000000    5100.000000  \n",
       "50%       47.571800   -122.231000    1840.000000    7620.000000  \n",
       "75%       47.678000   -122.125000    2360.000000   10083.000000  \n",
       "max       47.777600   -121.315000    6210.000000  871200.000000  "
      ]
     },
     "execution_count": 4,
     "metadata": {},
     "output_type": "execute_result"
    }
   ],
   "source": [
    "df.describe()"
   ]
  },
  {
   "cell_type": "markdown",
   "metadata": {},
   "source": [
    "> **Observations:** The maximum value of `bedrooms` is 33, a potentially significant outlier when 75% of the data is 4 bedrooms or less (same reasoning can be applied to `sqft_living`, `sqft_above`, `sqft_living15`, `sqft_lot15`)"
   ]
  },
  {
   "cell_type": "code",
   "execution_count": 5,
   "metadata": {
    "scrolled": true
   },
   "outputs": [
    {
     "name": "stdout",
     "output_type": "stream",
     "text": [
      "id 795000620     3\n",
      "1825069031    2\n",
      "2019200220    2\n",
      "7129304540    2\n",
      "1781500435    2\n",
      "             ..\n",
      "7812801125    1\n",
      "4364700875    1\n",
      "3021059276    1\n",
      "880000205     1\n",
      "1777500160    1\n",
      "Name: id, Length: 21420, dtype: int64\n",
      "date 6/23/2014    142\n",
      "6/26/2014    131\n",
      "6/25/2014    131\n",
      "7/8/2014     127\n",
      "4/27/2015    126\n",
      "            ... \n",
      "1/17/2015      1\n",
      "1/31/2015      1\n",
      "5/15/2015      1\n",
      "5/17/2014      1\n",
      "3/8/2015       1\n",
      "Name: date, Length: 372, dtype: int64\n",
      "price 350000.0    172\n",
      "450000.0    172\n",
      "550000.0    159\n",
      "500000.0    152\n",
      "425000.0    150\n",
      "           ... \n",
      "870515.0      1\n",
      "336950.0      1\n",
      "386100.0      1\n",
      "176250.0      1\n",
      "884744.0      1\n",
      "Name: price, Length: 3622, dtype: int64\n",
      "bedrooms 3     9824\n",
      "4     6882\n",
      "2     2760\n",
      "5     1601\n",
      "6      272\n",
      "1      196\n",
      "7       38\n",
      "8       13\n",
      "9        6\n",
      "10       3\n",
      "11       1\n",
      "33       1\n",
      "Name: bedrooms, dtype: int64\n",
      "bathrooms 2.50    5377\n",
      "1.00    3851\n",
      "1.75    3048\n",
      "2.25    2047\n",
      "2.00    1930\n",
      "1.50    1445\n",
      "2.75    1185\n",
      "3.00     753\n",
      "3.50     731\n",
      "3.25     589\n",
      "3.75     155\n",
      "4.00     136\n",
      "4.50     100\n",
      "4.25      79\n",
      "0.75      71\n",
      "4.75      23\n",
      "5.00      21\n",
      "5.25      13\n",
      "5.50      10\n",
      "1.25       9\n",
      "6.00       6\n",
      "5.75       4\n",
      "0.50       4\n",
      "8.00       2\n",
      "6.25       2\n",
      "6.75       2\n",
      "6.50       2\n",
      "7.50       1\n",
      "7.75       1\n",
      "Name: bathrooms, dtype: int64\n",
      "sqft_living 1300    138\n",
      "1400    135\n",
      "1440    133\n",
      "1660    129\n",
      "1010    129\n",
      "       ... \n",
      "4970      1\n",
      "2905      1\n",
      "2793      1\n",
      "4810      1\n",
      "1975      1\n",
      "Name: sqft_living, Length: 1034, dtype: int64\n",
      "sqft_lot 5000      358\n",
      "6000      290\n",
      "4000      251\n",
      "7200      220\n",
      "7500      119\n",
      "         ... \n",
      "1448        1\n",
      "38884       1\n",
      "17313       1\n",
      "35752       1\n",
      "315374      1\n",
      "Name: sqft_lot, Length: 9776, dtype: int64\n",
      "floors 1.0    10673\n",
      "2.0     8235\n",
      "1.5     1910\n",
      "3.0      611\n",
      "2.5      161\n",
      "3.5        7\n",
      "Name: floors, dtype: int64\n",
      "waterfront 0.0    19075\n",
      "1.0      146\n",
      "Name: waterfront, dtype: int64\n",
      "view 0.0    19422\n",
      "2.0      957\n",
      "3.0      508\n",
      "1.0      330\n",
      "4.0      317\n",
      "Name: view, dtype: int64\n",
      "condition 3    14020\n",
      "4     5677\n",
      "5     1701\n",
      "2      170\n",
      "1       29\n",
      "Name: condition, dtype: int64\n",
      "grade 7     8974\n",
      "8     6065\n",
      "9     2615\n",
      "6     2038\n",
      "10    1134\n",
      "11     399\n",
      "5      242\n",
      "12      89\n",
      "4       27\n",
      "13      13\n",
      "3        1\n",
      "Name: grade, dtype: int64\n",
      "sqft_above 1300    212\n",
      "1010    210\n",
      "1200    206\n",
      "1220    192\n",
      "1140    184\n",
      "       ... \n",
      "2601      1\n",
      "440       1\n",
      "2473      1\n",
      "2441      1\n",
      "1975      1\n",
      "Name: sqft_above, Length: 942, dtype: int64\n",
      "sqft_basement 0.0       12826\n",
      "?           454\n",
      "600.0       217\n",
      "500.0       209\n",
      "700.0       208\n",
      "          ...  \n",
      "1024.0        1\n",
      "506.0         1\n",
      "2600.0        1\n",
      "602.0         1\n",
      "652.0         1\n",
      "Name: sqft_basement, Length: 304, dtype: int64\n",
      "yr_built 2014    559\n",
      "2006    453\n",
      "2005    450\n",
      "2004    433\n",
      "2003    420\n",
      "       ... \n",
      "1933     30\n",
      "1901     29\n",
      "1902     27\n",
      "1935     24\n",
      "1934     21\n",
      "Name: yr_built, Length: 116, dtype: int64\n",
      "yr_renovated 0.0       17011\n",
      "2014.0       73\n",
      "2003.0       31\n",
      "2013.0       31\n",
      "2007.0       30\n",
      "          ...  \n",
      "1946.0        1\n",
      "1959.0        1\n",
      "1971.0        1\n",
      "1951.0        1\n",
      "1954.0        1\n",
      "Name: yr_renovated, Length: 70, dtype: int64\n",
      "zipcode 98103    602\n",
      "98038    589\n",
      "98115    583\n",
      "98052    574\n",
      "98117    553\n",
      "        ... \n",
      "98102    104\n",
      "98010    100\n",
      "98024     80\n",
      "98148     57\n",
      "98039     50\n",
      "Name: zipcode, Length: 70, dtype: int64\n",
      "lat 47.6624    17\n",
      "47.5491    17\n",
      "47.5322    17\n",
      "47.6846    17\n",
      "47.6711    16\n",
      "           ..\n",
      "47.2785     1\n",
      "47.4162     1\n",
      "47.3870     1\n",
      "47.2313     1\n",
      "47.2715     1\n",
      "Name: lat, Length: 5033, dtype: int64\n",
      "long -122.290    115\n",
      "-122.300    111\n",
      "-122.362    104\n",
      "-122.291    100\n",
      "-122.372     99\n",
      "           ... \n",
      "-121.403      1\n",
      "-121.804      1\n",
      "-121.726      1\n",
      "-121.895      1\n",
      "-121.893      1\n",
      "Name: long, Length: 751, dtype: int64\n",
      "sqft_living15 1540    197\n",
      "1440    195\n",
      "1560    192\n",
      "1500    180\n",
      "1460    169\n",
      "       ... \n",
      "4890      1\n",
      "2873      1\n",
      "952       1\n",
      "3193      1\n",
      "2049      1\n",
      "Name: sqft_living15, Length: 777, dtype: int64\n",
      "sqft_lot15 5000      427\n",
      "4000      356\n",
      "6000      288\n",
      "7200      210\n",
      "4800      145\n",
      "         ... \n",
      "11036       1\n",
      "8989        1\n",
      "871200      1\n",
      "809         1\n",
      "6147        1\n",
      "Name: sqft_lot15, Length: 8682, dtype: int64\n"
     ]
    }
   ],
   "source": [
    "# obtain normalized value counts for each column\n",
    "for col in df.columns:\n",
    "    print(col, df[col].value_counts())"
   ]
  },
  {
   "cell_type": "code",
   "execution_count": 6,
   "metadata": {
    "scrolled": true
   },
   "outputs": [
    {
     "name": "stdout",
     "output_type": "stream",
     "text": [
      "id 21420\n",
      "date 372\n",
      "price 3622\n",
      "bedrooms 12\n",
      "bathrooms 29\n",
      "sqft_living 1034\n",
      "sqft_lot 9776\n",
      "floors 6\n",
      "waterfront 2\n",
      "view 5\n",
      "condition 5\n",
      "grade 11\n",
      "sqft_above 942\n",
      "sqft_basement 304\n",
      "yr_built 116\n",
      "yr_renovated 70\n",
      "zipcode 70\n",
      "lat 5033\n",
      "long 751\n",
      "sqft_living15 777\n",
      "sqft_lot15 8682\n"
     ]
    }
   ],
   "source": [
    "# obtain unique values for each column\n",
    "for col in df.columns:\n",
    "    print(col, df[col].nunique())"
   ]
  },
  {
   "cell_type": "markdown",
   "metadata": {},
   "source": [
    "> We see `sqft_basement` has a placeholder of \"?\" instead of NaN. We can also confirm that certain features have very little unique values, which usually points to it being categorical variable."
   ]
  },
  {
   "cell_type": "markdown",
   "metadata": {},
   "source": [
    "#### dataset cleaning"
   ]
  },
  {
   "cell_type": "markdown",
   "metadata": {},
   "source": [
    "##### setting dates"
   ]
  },
  {
   "cell_type": "code",
   "execution_count": 7,
   "metadata": {},
   "outputs": [
    {
     "data": {
      "text/plain": [
       "Timestamp('2015-05-27 00:00:00')"
      ]
     },
     "metadata": {},
     "output_type": "display_data"
    },
    {
     "data": {
      "text/plain": [
       "Timestamp('2014-05-02 00:00:00')"
      ]
     },
     "metadata": {},
     "output_type": "display_data"
    }
   ],
   "source": [
    "import datetime as dt\n",
    "df.date = pd.to_datetime(df['date'])\n",
    "display(df.date.max())\n",
    "display(df.date.min())\n",
    "# convert to Gregorian ordinal value for preprocessing\n",
    "df.date = df.date.map(dt.datetime.toordinal)"
   ]
  },
  {
   "cell_type": "markdown",
   "metadata": {},
   "source": [
    "##### detecting and resolving null/missing/duplicate values"
   ]
  },
  {
   "cell_type": "code",
   "execution_count": 8,
   "metadata": {
    "scrolled": false
   },
   "outputs": [],
   "source": [
    "# convert '?' values in `sqft_basement` feature to 0\n",
    "df.sqft_basement = df.sqft_basement.replace('?', np.nan).astype('float').fillna(0)"
   ]
  },
  {
   "cell_type": "code",
   "execution_count": 9,
   "metadata": {},
   "outputs": [
    {
     "data": {
      "text/plain": [
       "0.0      13280\n",
       "600.0      217\n",
       "Name: sqft_basement, dtype: int64"
      ]
     },
     "metadata": {},
     "output_type": "display_data"
    },
    {
     "data": {
      "text/plain": [
       "0.0      0.614900\n",
       "600.0    0.010048\n",
       "Name: sqft_basement, dtype: float64"
      ]
     },
     "metadata": {},
     "output_type": "display_data"
    }
   ],
   "source": [
    "# confirm changes (0 value increased to 13280 (count) and to 0.614900 (normalized))\n",
    "display(df.sqft_basement.value_counts().nlargest(n=2))\n",
    "display(df.sqft_basement.value_counts(normalize=True).nlargest(n=2))"
   ]
  },
  {
   "cell_type": "code",
   "execution_count": 10,
   "metadata": {
    "scrolled": true
   },
   "outputs": [
    {
     "data": {
      "text/plain": [
       "id                  0\n",
       "date                0\n",
       "price               0\n",
       "bedrooms            0\n",
       "bathrooms           0\n",
       "sqft_living         0\n",
       "sqft_lot            0\n",
       "floors              0\n",
       "waterfront       2376\n",
       "view               63\n",
       "condition           0\n",
       "grade               0\n",
       "sqft_above          0\n",
       "sqft_basement       0\n",
       "yr_built            0\n",
       "yr_renovated     3842\n",
       "zipcode             0\n",
       "lat                 0\n",
       "long                0\n",
       "sqft_living15       0\n",
       "sqft_lot15          0\n",
       "dtype: int64"
      ]
     },
     "execution_count": 10,
     "metadata": {},
     "output_type": "execute_result"
    }
   ],
   "source": [
    "# examine dataset for NaN values\n",
    "df.isna().sum()"
   ]
  },
  {
   "cell_type": "markdown",
   "metadata": {},
   "source": [
    "> For the `waterfront` and `view` features, we will replace the NaN values with the column mode, as these are categorical values.\n",
    "\n",
    "> For the `yr_renovated` feature, we will replace the NaN values with '0', as we're inferring the value means the house was never renovated or the renovation date is unknown."
   ]
  },
  {
   "cell_type": "code",
   "execution_count": 11,
   "metadata": {},
   "outputs": [],
   "source": [
    "# replace NaN values in `waterfront` with mode\n",
    "df.waterfront = df.waterfront.fillna(df.waterfront.mode()[0])"
   ]
  },
  {
   "cell_type": "code",
   "execution_count": 12,
   "metadata": {},
   "outputs": [],
   "source": [
    "# replace NaN values in `view` with mode\n",
    "df.view = df.view.fillna(df.view.mode()[0])"
   ]
  },
  {
   "cell_type": "code",
   "execution_count": 13,
   "metadata": {},
   "outputs": [],
   "source": [
    "# replace NaN values in `yr_renovated` with 0\n",
    "df.yr_renovated = df.yr_renovated.fillna(0)"
   ]
  },
  {
   "cell_type": "code",
   "execution_count": 14,
   "metadata": {
    "scrolled": true
   },
   "outputs": [
    {
     "data": {
      "text/plain": [
       "id               0\n",
       "date             0\n",
       "price            0\n",
       "bedrooms         0\n",
       "bathrooms        0\n",
       "sqft_living      0\n",
       "sqft_lot         0\n",
       "floors           0\n",
       "waterfront       0\n",
       "view             0\n",
       "condition        0\n",
       "grade            0\n",
       "sqft_above       0\n",
       "sqft_basement    0\n",
       "yr_built         0\n",
       "yr_renovated     0\n",
       "zipcode          0\n",
       "lat              0\n",
       "long             0\n",
       "sqft_living15    0\n",
       "sqft_lot15       0\n",
       "dtype: int64"
      ]
     },
     "execution_count": 14,
     "metadata": {},
     "output_type": "execute_result"
    }
   ],
   "source": [
    "# confirm NaN values are resolved\n",
    "df.isna().sum()"
   ]
  },
  {
   "cell_type": "code",
   "execution_count": 15,
   "metadata": {
    "scrolled": false
   },
   "outputs": [
    {
     "data": {
      "text/html": [
       "<div>\n",
       "<style scoped>\n",
       "    .dataframe tbody tr th:only-of-type {\n",
       "        vertical-align: middle;\n",
       "    }\n",
       "\n",
       "    .dataframe tbody tr th {\n",
       "        vertical-align: top;\n",
       "    }\n",
       "\n",
       "    .dataframe thead th {\n",
       "        text-align: right;\n",
       "    }\n",
       "</style>\n",
       "<table border=\"1\" class=\"dataframe\">\n",
       "  <thead>\n",
       "    <tr style=\"text-align: right;\">\n",
       "      <th></th>\n",
       "      <th>id</th>\n",
       "      <th>date</th>\n",
       "      <th>price</th>\n",
       "      <th>bedrooms</th>\n",
       "      <th>bathrooms</th>\n",
       "      <th>sqft_living</th>\n",
       "      <th>sqft_lot</th>\n",
       "      <th>floors</th>\n",
       "      <th>waterfront</th>\n",
       "      <th>view</th>\n",
       "      <th>...</th>\n",
       "      <th>grade</th>\n",
       "      <th>sqft_above</th>\n",
       "      <th>sqft_basement</th>\n",
       "      <th>yr_built</th>\n",
       "      <th>yr_renovated</th>\n",
       "      <th>zipcode</th>\n",
       "      <th>lat</th>\n",
       "      <th>long</th>\n",
       "      <th>sqft_living15</th>\n",
       "      <th>sqft_lot15</th>\n",
       "    </tr>\n",
       "  </thead>\n",
       "  <tbody>\n",
       "  </tbody>\n",
       "</table>\n",
       "<p>0 rows × 21 columns</p>\n",
       "</div>"
      ],
      "text/plain": [
       "Empty DataFrame\n",
       "Columns: [id, date, price, bedrooms, bathrooms, sqft_living, sqft_lot, floors, waterfront, view, condition, grade, sqft_above, sqft_basement, yr_built, yr_renovated, zipcode, lat, long, sqft_living15, sqft_lot15]\n",
       "Index: []\n",
       "\n",
       "[0 rows x 21 columns]"
      ]
     },
     "execution_count": 15,
     "metadata": {},
     "output_type": "execute_result"
    }
   ],
   "source": [
    "# check for duplicate values by unique id and date sold\n",
    "df[df.duplicated(['id','date'])]"
   ]
  },
  {
   "cell_type": "markdown",
   "metadata": {},
   "source": [
    "##### examining outliers"
   ]
  },
  {
   "cell_type": "code",
   "execution_count": 16,
   "metadata": {
    "scrolled": false
   },
   "outputs": [
    {
     "data": {
      "image/png": "[encoded data removed]",
      "text/plain": [
       "<Figure size 1440x2160 with 18 Axes>"
      ]
     },
     "metadata": {
      "needs_background": "light"
     },
     "output_type": "display_data"
    }
   ],
   "source": [
    "# create a list of column names\n",
    "columns = list(df.columns)\n",
    "\n",
    "# remove non-applicable columns\n",
    "cols = [col for col in columns if col not in ('id','price', 'date')]\n",
    "\n",
    "# create a boxplot for each feature to examine outliers\n",
    "fig, axes = plt.subplots(nrows=6, ncols=3, figsize=(20,30))\n",
    "for xcol, ax in zip(cols, axes.flatten()):\n",
    "    boxplot = df.boxplot(column=xcol, ax=ax)"
   ]
  },
  {
   "cell_type": "markdown",
   "metadata": {},
   "source": [
    "> There are several continuous features (`bedrooms`, `sqft_lot`, `sqft_lot15`) that have observations that are far from the spread of the rest of the data. We'll examine the outliers a little closer below."
   ]
  },
  {
   "cell_type": "code",
   "execution_count": 17,
   "metadata": {},
   "outputs": [
    {
     "data": {
      "text/html": [
       "<div>\n",
       "<style scoped>\n",
       "    .dataframe tbody tr th:only-of-type {\n",
       "        vertical-align: middle;\n",
       "    }\n",
       "\n",
       "    .dataframe tbody tr th {\n",
       "        vertical-align: top;\n",
       "    }\n",
       "\n",
       "    .dataframe thead th {\n",
       "        text-align: right;\n",
       "    }\n",
       "</style>\n",
       "<table border=\"1\" class=\"dataframe\">\n",
       "  <thead>\n",
       "    <tr style=\"text-align: right;\">\n",
       "      <th></th>\n",
       "      <th>id</th>\n",
       "      <th>date</th>\n",
       "      <th>price</th>\n",
       "      <th>bedrooms</th>\n",
       "      <th>bathrooms</th>\n",
       "      <th>sqft_living</th>\n",
       "      <th>sqft_lot</th>\n",
       "      <th>floors</th>\n",
       "      <th>waterfront</th>\n",
       "      <th>view</th>\n",
       "      <th>...</th>\n",
       "      <th>grade</th>\n",
       "      <th>sqft_above</th>\n",
       "      <th>sqft_basement</th>\n",
       "      <th>yr_built</th>\n",
       "      <th>yr_renovated</th>\n",
       "      <th>zipcode</th>\n",
       "      <th>lat</th>\n",
       "      <th>long</th>\n",
       "      <th>sqft_living15</th>\n",
       "      <th>sqft_lot15</th>\n",
       "    </tr>\n",
       "  </thead>\n",
       "  <tbody>\n",
       "    <tr>\n",
       "      <th>8748</th>\n",
       "      <td>1773100755</td>\n",
       "      <td>735466</td>\n",
       "      <td>520000.0</td>\n",
       "      <td>11</td>\n",
       "      <td>3.00</td>\n",
       "      <td>3000</td>\n",
       "      <td>4960</td>\n",
       "      <td>2.0</td>\n",
       "      <td>0.0</td>\n",
       "      <td>0.0</td>\n",
       "      <td>...</td>\n",
       "      <td>7</td>\n",
       "      <td>2400</td>\n",
       "      <td>600.0</td>\n",
       "      <td>1918</td>\n",
       "      <td>1999.0</td>\n",
       "      <td>98106</td>\n",
       "      <td>47.5560</td>\n",
       "      <td>-122.363</td>\n",
       "      <td>1420</td>\n",
       "      <td>4960</td>\n",
       "    </tr>\n",
       "    <tr>\n",
       "      <th>15856</th>\n",
       "      <td>2402100895</td>\n",
       "      <td>735409</td>\n",
       "      <td>640000.0</td>\n",
       "      <td>33</td>\n",
       "      <td>1.75</td>\n",
       "      <td>1620</td>\n",
       "      <td>6000</td>\n",
       "      <td>1.0</td>\n",
       "      <td>0.0</td>\n",
       "      <td>0.0</td>\n",
       "      <td>...</td>\n",
       "      <td>7</td>\n",
       "      <td>1040</td>\n",
       "      <td>580.0</td>\n",
       "      <td>1947</td>\n",
       "      <td>0.0</td>\n",
       "      <td>98103</td>\n",
       "      <td>47.6878</td>\n",
       "      <td>-122.331</td>\n",
       "      <td>1330</td>\n",
       "      <td>4700</td>\n",
       "    </tr>\n",
       "  </tbody>\n",
       "</table>\n",
       "<p>2 rows × 21 columns</p>\n",
       "</div>"
      ],
      "text/plain": [
       "               id    date     price  bedrooms  bathrooms  sqft_living  \\\n",
       "8748   1773100755  735466  520000.0        11       3.00         3000   \n",
       "15856  2402100895  735409  640000.0        33       1.75         1620   \n",
       "\n",
       "       sqft_lot  floors  waterfront  view  ...  grade  sqft_above  \\\n",
       "8748       4960     2.0         0.0   0.0  ...      7        2400   \n",
       "15856      6000     1.0         0.0   0.0  ...      7        1040   \n",
       "\n",
       "       sqft_basement  yr_built  yr_renovated  zipcode      lat     long  \\\n",
       "8748           600.0      1918        1999.0    98106  47.5560 -122.363   \n",
       "15856          580.0      1947           0.0    98103  47.6878 -122.331   \n",
       "\n",
       "       sqft_living15  sqft_lot15  \n",
       "8748            1420        4960  \n",
       "15856           1330        4700  \n",
       "\n",
       "[2 rows x 21 columns]"
      ]
     },
     "execution_count": 17,
     "metadata": {},
     "output_type": "execute_result"
    }
   ],
   "source": [
    "df[df.bedrooms > 10]"
   ]
  },
  {
   "cell_type": "code",
   "execution_count": 18,
   "metadata": {
    "scrolled": true
   },
   "outputs": [
    {
     "data": {
      "text/html": [
       "<div>\n",
       "<style scoped>\n",
       "    .dataframe tbody tr th:only-of-type {\n",
       "        vertical-align: middle;\n",
       "    }\n",
       "\n",
       "    .dataframe tbody tr th {\n",
       "        vertical-align: top;\n",
       "    }\n",
       "\n",
       "    .dataframe thead th {\n",
       "        text-align: right;\n",
       "    }\n",
       "</style>\n",
       "<table border=\"1\" class=\"dataframe\">\n",
       "  <thead>\n",
       "    <tr style=\"text-align: right;\">\n",
       "      <th></th>\n",
       "      <th>id</th>\n",
       "      <th>date</th>\n",
       "      <th>price</th>\n",
       "      <th>bedrooms</th>\n",
       "      <th>bathrooms</th>\n",
       "      <th>sqft_living</th>\n",
       "      <th>sqft_lot</th>\n",
       "      <th>floors</th>\n",
       "      <th>waterfront</th>\n",
       "      <th>view</th>\n",
       "      <th>...</th>\n",
       "      <th>grade</th>\n",
       "      <th>sqft_above</th>\n",
       "      <th>sqft_basement</th>\n",
       "      <th>yr_built</th>\n",
       "      <th>yr_renovated</th>\n",
       "      <th>zipcode</th>\n",
       "      <th>lat</th>\n",
       "      <th>long</th>\n",
       "      <th>sqft_living15</th>\n",
       "      <th>sqft_lot15</th>\n",
       "    </tr>\n",
       "  </thead>\n",
       "  <tbody>\n",
       "    <tr>\n",
       "      <th>1717</th>\n",
       "      <td>1020069017</td>\n",
       "      <td>735684</td>\n",
       "      <td>700000.0</td>\n",
       "      <td>4</td>\n",
       "      <td>1.00</td>\n",
       "      <td>1300</td>\n",
       "      <td>1651359</td>\n",
       "      <td>1.0</td>\n",
       "      <td>0.0</td>\n",
       "      <td>3.0</td>\n",
       "      <td>...</td>\n",
       "      <td>6</td>\n",
       "      <td>1300</td>\n",
       "      <td>0.0</td>\n",
       "      <td>1920</td>\n",
       "      <td>0.0</td>\n",
       "      <td>98022</td>\n",
       "      <td>47.2313</td>\n",
       "      <td>-122.023</td>\n",
       "      <td>2560</td>\n",
       "      <td>425581</td>\n",
       "    </tr>\n",
       "    <tr>\n",
       "      <th>7640</th>\n",
       "      <td>2623069031</td>\n",
       "      <td>735374</td>\n",
       "      <td>542500.0</td>\n",
       "      <td>5</td>\n",
       "      <td>3.25</td>\n",
       "      <td>3010</td>\n",
       "      <td>1074218</td>\n",
       "      <td>1.5</td>\n",
       "      <td>0.0</td>\n",
       "      <td>0.0</td>\n",
       "      <td>...</td>\n",
       "      <td>8</td>\n",
       "      <td>2010</td>\n",
       "      <td>1000.0</td>\n",
       "      <td>1931</td>\n",
       "      <td>0.0</td>\n",
       "      <td>98027</td>\n",
       "      <td>47.4564</td>\n",
       "      <td>-122.004</td>\n",
       "      <td>2450</td>\n",
       "      <td>68825</td>\n",
       "    </tr>\n",
       "    <tr>\n",
       "      <th>7762</th>\n",
       "      <td>2323089009</td>\n",
       "      <td>735617</td>\n",
       "      <td>855000.0</td>\n",
       "      <td>4</td>\n",
       "      <td>3.50</td>\n",
       "      <td>4030</td>\n",
       "      <td>1024068</td>\n",
       "      <td>2.0</td>\n",
       "      <td>0.0</td>\n",
       "      <td>0.0</td>\n",
       "      <td>...</td>\n",
       "      <td>10</td>\n",
       "      <td>4030</td>\n",
       "      <td>0.0</td>\n",
       "      <td>2006</td>\n",
       "      <td>0.0</td>\n",
       "      <td>98045</td>\n",
       "      <td>47.4619</td>\n",
       "      <td>-121.744</td>\n",
       "      <td>1830</td>\n",
       "      <td>11700</td>\n",
       "    </tr>\n",
       "    <tr>\n",
       "      <th>17305</th>\n",
       "      <td>3326079016</td>\n",
       "      <td>735722</td>\n",
       "      <td>190000.0</td>\n",
       "      <td>2</td>\n",
       "      <td>1.00</td>\n",
       "      <td>710</td>\n",
       "      <td>1164794</td>\n",
       "      <td>1.0</td>\n",
       "      <td>0.0</td>\n",
       "      <td>0.0</td>\n",
       "      <td>...</td>\n",
       "      <td>5</td>\n",
       "      <td>710</td>\n",
       "      <td>0.0</td>\n",
       "      <td>1915</td>\n",
       "      <td>0.0</td>\n",
       "      <td>98014</td>\n",
       "      <td>47.6888</td>\n",
       "      <td>-121.909</td>\n",
       "      <td>1680</td>\n",
       "      <td>16730</td>\n",
       "    </tr>\n",
       "  </tbody>\n",
       "</table>\n",
       "<p>4 rows × 21 columns</p>\n",
       "</div>"
      ],
      "text/plain": [
       "               id    date     price  bedrooms  bathrooms  sqft_living  \\\n",
       "1717   1020069017  735684  700000.0         4       1.00         1300   \n",
       "7640   2623069031  735374  542500.0         5       3.25         3010   \n",
       "7762   2323089009  735617  855000.0         4       3.50         4030   \n",
       "17305  3326079016  735722  190000.0         2       1.00          710   \n",
       "\n",
       "       sqft_lot  floors  waterfront  view  ...  grade  sqft_above  \\\n",
       "1717    1651359     1.0         0.0   3.0  ...      6        1300   \n",
       "7640    1074218     1.5         0.0   0.0  ...      8        2010   \n",
       "7762    1024068     2.0         0.0   0.0  ...     10        4030   \n",
       "17305   1164794     1.0         0.0   0.0  ...      5         710   \n",
       "\n",
       "       sqft_basement  yr_built  yr_renovated  zipcode      lat     long  \\\n",
       "1717             0.0      1920           0.0    98022  47.2313 -122.023   \n",
       "7640          1000.0      1931           0.0    98027  47.4564 -122.004   \n",
       "7762             0.0      2006           0.0    98045  47.4619 -121.744   \n",
       "17305            0.0      1915           0.0    98014  47.6888 -121.909   \n",
       "\n",
       "       sqft_living15  sqft_lot15  \n",
       "1717            2560      425581  \n",
       "7640            2450       68825  \n",
       "7762            1830       11700  \n",
       "17305           1680       16730  \n",
       "\n",
       "[4 rows x 21 columns]"
      ]
     },
     "execution_count": 18,
     "metadata": {},
     "output_type": "execute_result"
    }
   ],
   "source": [
    "df[df.sqft_lot > 1000000]"
   ]
  },
  {
   "cell_type": "code",
   "execution_count": 19,
   "metadata": {
    "scrolled": false
   },
   "outputs": [
    {
     "data": {
      "text/html": [
       "<div>\n",
       "<style scoped>\n",
       "    .dataframe tbody tr th:only-of-type {\n",
       "        vertical-align: middle;\n",
       "    }\n",
       "\n",
       "    .dataframe tbody tr th {\n",
       "        vertical-align: top;\n",
       "    }\n",
       "\n",
       "    .dataframe thead th {\n",
       "        text-align: right;\n",
       "    }\n",
       "</style>\n",
       "<table border=\"1\" class=\"dataframe\">\n",
       "  <thead>\n",
       "    <tr style=\"text-align: right;\">\n",
       "      <th></th>\n",
       "      <th>id</th>\n",
       "      <th>date</th>\n",
       "      <th>price</th>\n",
       "      <th>bedrooms</th>\n",
       "      <th>bathrooms</th>\n",
       "      <th>sqft_living</th>\n",
       "      <th>sqft_lot</th>\n",
       "      <th>floors</th>\n",
       "      <th>waterfront</th>\n",
       "      <th>view</th>\n",
       "      <th>...</th>\n",
       "      <th>grade</th>\n",
       "      <th>sqft_above</th>\n",
       "      <th>sqft_basement</th>\n",
       "      <th>yr_built</th>\n",
       "      <th>yr_renovated</th>\n",
       "      <th>zipcode</th>\n",
       "      <th>lat</th>\n",
       "      <th>long</th>\n",
       "      <th>sqft_living15</th>\n",
       "      <th>sqft_lot15</th>\n",
       "    </tr>\n",
       "  </thead>\n",
       "  <tbody>\n",
       "    <tr>\n",
       "      <th>9705</th>\n",
       "      <td>225079036</td>\n",
       "      <td>735605</td>\n",
       "      <td>937500.0</td>\n",
       "      <td>4</td>\n",
       "      <td>4.0</td>\n",
       "      <td>5545</td>\n",
       "      <td>871200</td>\n",
       "      <td>2.0</td>\n",
       "      <td>0.0</td>\n",
       "      <td>0.0</td>\n",
       "      <td>...</td>\n",
       "      <td>11</td>\n",
       "      <td>3605</td>\n",
       "      <td>1940.0</td>\n",
       "      <td>2003</td>\n",
       "      <td>0.0</td>\n",
       "      <td>98014</td>\n",
       "      <td>47.6760</td>\n",
       "      <td>-121.882</td>\n",
       "      <td>3420</td>\n",
       "      <td>871200</td>\n",
       "    </tr>\n",
       "    <tr>\n",
       "      <th>13451</th>\n",
       "      <td>3420069060</td>\n",
       "      <td>735544</td>\n",
       "      <td>790000.0</td>\n",
       "      <td>3</td>\n",
       "      <td>2.5</td>\n",
       "      <td>2640</td>\n",
       "      <td>432036</td>\n",
       "      <td>1.5</td>\n",
       "      <td>0.0</td>\n",
       "      <td>3.0</td>\n",
       "      <td>...</td>\n",
       "      <td>10</td>\n",
       "      <td>2640</td>\n",
       "      <td>0.0</td>\n",
       "      <td>1996</td>\n",
       "      <td>0.0</td>\n",
       "      <td>98022</td>\n",
       "      <td>47.1795</td>\n",
       "      <td>-122.036</td>\n",
       "      <td>1500</td>\n",
       "      <td>560617</td>\n",
       "    </tr>\n",
       "    <tr>\n",
       "      <th>20436</th>\n",
       "      <td>1125079111</td>\n",
       "      <td>735703</td>\n",
       "      <td>1600000.0</td>\n",
       "      <td>4</td>\n",
       "      <td>5.5</td>\n",
       "      <td>6530</td>\n",
       "      <td>871200</td>\n",
       "      <td>2.0</td>\n",
       "      <td>0.0</td>\n",
       "      <td>2.0</td>\n",
       "      <td>...</td>\n",
       "      <td>11</td>\n",
       "      <td>6530</td>\n",
       "      <td>0.0</td>\n",
       "      <td>2008</td>\n",
       "      <td>0.0</td>\n",
       "      <td>98014</td>\n",
       "      <td>47.6640</td>\n",
       "      <td>-121.878</td>\n",
       "      <td>1280</td>\n",
       "      <td>858132</td>\n",
       "    </tr>\n",
       "  </tbody>\n",
       "</table>\n",
       "<p>3 rows × 21 columns</p>\n",
       "</div>"
      ],
      "text/plain": [
       "               id    date      price  bedrooms  bathrooms  sqft_living  \\\n",
       "9705    225079036  735605   937500.0         4        4.0         5545   \n",
       "13451  3420069060  735544   790000.0         3        2.5         2640   \n",
       "20436  1125079111  735703  1600000.0         4        5.5         6530   \n",
       "\n",
       "       sqft_lot  floors  waterfront  view  ...  grade  sqft_above  \\\n",
       "9705     871200     2.0         0.0   0.0  ...     11        3605   \n",
       "13451    432036     1.5         0.0   3.0  ...     10        2640   \n",
       "20436    871200     2.0         0.0   2.0  ...     11        6530   \n",
       "\n",
       "       sqft_basement  yr_built  yr_renovated  zipcode      lat     long  \\\n",
       "9705          1940.0      2003           0.0    98014  47.6760 -121.882   \n",
       "13451            0.0      1996           0.0    98022  47.1795 -122.036   \n",
       "20436            0.0      2008           0.0    98014  47.6640 -121.878   \n",
       "\n",
       "       sqft_living15  sqft_lot15  \n",
       "9705            3420      871200  \n",
       "13451           1500      560617  \n",
       "20436           1280      858132  \n",
       "\n",
       "[3 rows x 21 columns]"
      ]
     },
     "execution_count": 19,
     "metadata": {},
     "output_type": "execute_result"
    }
   ],
   "source": [
    "df[df.sqft_lot15 > 550000]"
   ]
  },
  {
   "cell_type": "markdown",
   "metadata": {},
   "source": [
    "> After looking at the outlier data points, we feel comfortable only removing the `bedrooms` data point with `id` of `2402100895`. This seems like an obvious miscalculation as fitting 33 bedrooms on a 6000 sq. ft. lot seems unrealistic. <br><br> We'll leave the other outliers alone for now and determine at a later point if removing these data points will affect the model's accuracy. Another option to consider is normalizing the feature to pull in the high numbers, as well. However, this would decrase the interpretability of the model. <br><br>  We don't want to unnecessarily remove outlier data just to improve accuracy, as we acknowledge outliers can and do exist in the real world."
   ]
  },
  {
   "cell_type": "code",
   "execution_count": 20,
   "metadata": {
    "scrolled": true
   },
   "outputs": [],
   "source": [
    "# drop the aforementioned outlier from `bedrooms`\n",
    "df = df[df.id != 2402100895]"
   ]
  },
  {
   "cell_type": "markdown",
   "metadata": {},
   "source": [
    "##### datatype misclassification"
   ]
  },
  {
   "cell_type": "markdown",
   "metadata": {},
   "source": [
    "Earlier, we mentioned possible datatype classification errors in certain categories. Let's take a closer look at the joint plots - these visualizations will provide us a great initial look at the distribution of each feature as well as a simple regression line to see there is a linear relationship with the target variable, `price`."
   ]
  },
  {
   "cell_type": "code",
   "execution_count": 21,
   "metadata": {
    "scrolled": true
   },
   "outputs": [
    {
     "data": {
      "image/png": "[encoded data removed]",
      "text/plain": [
       "<Figure size 216x216 with 3 Axes>"
      ]
     },
     "metadata": {
      "needs_background": "light"
     },
     "output_type": "display_data"
    },
    {
     "data": {
      "image/png": "[encoded data removed]",
      "text/plain": [
       "<Figure size 216x216 with 3 Axes>"
      ]
     },
     "metadata": {
      "needs_background": "light"
     },
     "output_type": "display_data"
    },
    {
     "data": {
      "image/png": "[encoded data removed]",
      "text/plain": [
       "<Figure size 216x216 with 3 Axes>"
      ]
     },
     "metadata": {
      "needs_background": "light"
     },
     "output_type": "display_data"
    },
    {
     "data": {
      "image/png": "[encoded data removed]",
      "text/plain": [
       "<Figure size 216x216 with 3 Axes>"
      ]
     },
     "metadata": {
      "needs_background": "light"
     },
     "output_type": "display_data"
    },
    {
     "data": {
      "image/png": "[encoded data removed]",
      "text/plain": [
       "<Figure size 216x216 with 3 Axes>"
      ]
     },
     "metadata": {
      "needs_background": "light"
     },
     "output_type": "display_data"
    },
    {
     "data": {
      "image/png": "[encoded data removed]",
      "text/plain": [
       "<Figure size 216x216 with 3 Axes>"
      ]
     },
     "metadata": {
      "needs_background": "light"
     },
     "output_type": "display_data"
    },
    {
     "data": {
      "image/png": "[encoded data removed]",
      "text/plain": [
       "<Figure size 216x216 with 3 Axes>"
      ]
     },
     "metadata": {
      "needs_background": "light"
     },
     "output_type": "display_data"
    },
    {
     "data": {
      "image/png": "[encoded data removed]",
      "text/plain": [
       "<Figure size 216x216 with 3 Axes>"
      ]
     },
     "metadata": {
      "needs_background": "light"
     },
     "output_type": "display_data"
    },
    {
     "data": {
      "image/png": "[encoded data removed]",
      "text/plain": [
       "<Figure size 216x216 with 3 Axes>"
      ]
     },
     "metadata": {
      "needs_background": "light"
     },
     "output_type": "display_data"
    },
    {
     "data": {
      "image/png": "[encoded data removed]",
      "text/plain": [
       "<Figure size 216x216 with 3 Axes>"
      ]
     },
     "metadata": {
      "needs_background": "light"
     },
     "output_type": "display_data"
    },
    {
     "data": {
      "image/png": "[encoded data removed]",
      "text/plain": [
       "<Figure size 216x216 with 3 Axes>"
      ]
     },
     "metadata": {
      "needs_background": "light"
     },
     "output_type": "display_data"
    },
    {
     "data": {
      "image/png": "[encoded data removed]",
      "text/plain": [
       "<Figure size 216x216 with 3 Axes>"
      ]
     },
     "metadata": {
      "needs_background": "light"
     },
     "output_type": "display_data"
    },
    {
     "data": {
      "image/png": "[encoded data removed]",
      "text/plain": [
       "<Figure size 216x216 with 3 Axes>"
      ]
     },
     "metadata": {
      "needs_background": "light"
     },
     "output_type": "display_data"
    },
    {
     "data": {
      "image/png": "[encoded data removed]",
      "text/plain": [
       "<Figure size 216x216 with 3 Axes>"
      ]
     },
     "metadata": {
      "needs_background": "light"
     },
     "output_type": "display_data"
    },
    {
     "data": {
      "image/png": "[encoded data removed]",
      "text/plain": [
       "<Figure size 216x216 with 3 Axes>"
      ]
     },
     "metadata": {
      "needs_background": "light"
     },
     "output_type": "display_data"
    },
    {
     "data": {
      "image/png": "[encoded data removed]",
      "text/plain": [
       "<Figure size 216x216 with 3 Axes>"
      ]
     },
     "metadata": {
      "needs_background": "light"
     },
     "output_type": "display_data"
    },
    {
     "data": {
      "image/png": "[encoded data removed]",
      "text/plain": [
       "<Figure size 216x216 with 3 Axes>"
      ]
     },
     "metadata": {
      "needs_background": "light"
     },
     "output_type": "display_data"
    },
    {
     "data": {
      "image/png": "[encoded data removed]",
      "text/plain": [
       "<Figure size 216x216 with 3 Axes>"
      ]
     },
     "metadata": {
      "needs_background": "light"
     },
     "output_type": "display_data"
    }
   ],
   "source": [
    "# use the `cols` variable defined above when we examined outliers\n",
    "for col in cols:\n",
    "    sns.jointplot(x= df[col], y= df['price'], data=df, kind='reg', height=3)"
   ]
  },
  {
   "cell_type": "markdown",
   "metadata": {},
   "source": [
    "> A visual inspection confirms our observation earlier about the datatype misclassification of certain features that are dichotomous (`waterfront`), nominal (`zipcode`), and ordinal (`view`, `condition`, `grade`). Note that `yr_built` and `yr_renovated` could be considered categorical as well, but due to the number of values, we are treating them as continous variables in this regression.<br><br>\n",
    "*reference for classifying categorical/continous variables: https://statistics.laerd.com/statistical-guides/types-of-variable.php*"
   ]
  },
  {
   "cell_type": "code",
   "execution_count": 22,
   "metadata": {},
   "outputs": [],
   "source": [
    "# change relevant features to `object` dtype\n",
    "cat_features = ['waterfront', 'view', 'condition', 'grade', 'zipcode']\n",
    "\n",
    "for feat in cat_features:\n",
    "        df[feat] = df[feat].astype('object')"
   ]
  },
  {
   "cell_type": "code",
   "execution_count": 23,
   "metadata": {
    "scrolled": false
   },
   "outputs": [
    {
     "name": "stdout",
     "output_type": "stream",
     "text": [
      "<class 'pandas.core.frame.DataFrame'>\n",
      "Int64Index: 21596 entries, 0 to 21596\n",
      "Data columns (total 21 columns):\n",
      " #   Column         Non-Null Count  Dtype  \n",
      "---  ------         --------------  -----  \n",
      " 0   id             21596 non-null  int64  \n",
      " 1   date           21596 non-null  int64  \n",
      " 2   price          21596 non-null  float64\n",
      " 3   bedrooms       21596 non-null  int64  \n",
      " 4   bathrooms      21596 non-null  float64\n",
      " 5   sqft_living    21596 non-null  int64  \n",
      " 6   sqft_lot       21596 non-null  int64  \n",
      " 7   floors         21596 non-null  float64\n",
      " 8   waterfront     21596 non-null  object \n",
      " 9   view           21596 non-null  object \n",
      " 10  condition      21596 non-null  object \n",
      " 11  grade          21596 non-null  object \n",
      " 12  sqft_above     21596 non-null  int64  \n",
      " 13  sqft_basement  21596 non-null  float64\n",
      " 14  yr_built       21596 non-null  int64  \n",
      " 15  yr_renovated   21596 non-null  float64\n",
      " 16  zipcode        21596 non-null  object \n",
      " 17  lat            21596 non-null  float64\n",
      " 18  long           21596 non-null  float64\n",
      " 19  sqft_living15  21596 non-null  int64  \n",
      " 20  sqft_lot15     21596 non-null  int64  \n",
      "dtypes: float64(7), int64(9), object(5)\n",
      "memory usage: 3.6+ MB\n"
     ]
    }
   ],
   "source": [
    "# confirm datatypes have been successfully updated\n",
    "df.info()"
   ]
  },
  {
   "cell_type": "markdown",
   "metadata": {},
   "source": [
    "#### address multicollinearity"
   ]
  },
  {
   "cell_type": "markdown",
   "metadata": {},
   "source": [
    "In our experiment, we want to understand the role of each independent variable, or predictor, keeping all other predictors constant (the premise of regression analysis). Therefore, we need to address multicollinearity as it violates this premise and coefficients and p-values might not be reliable for correlated predictors."
   ]
  },
  {
   "cell_type": "code",
   "execution_count": 24,
   "metadata": {},
   "outputs": [
    {
     "data": {
      "image/png": "[encoded data removed]",
      "text/plain": [
       "<Figure size 864x576 with 2 Axes>"
      ]
     },
     "metadata": {},
     "output_type": "display_data"
    }
   ],
   "source": [
    "# create a heatmap, setting 0.75 as a threshold for determining multicollinearity\n",
    "corr = df.corr()\n",
    "mask = np.zeros_like(corr)\n",
    "mask[np.triu_indices_from(mask)] = True\n",
    "with sns.axes_style(\"white\"):\n",
    "    f, ax = plt.subplots(figsize=(12, 8))\n",
    "    ax = sns.heatmap(corr, mask=mask, vmin=-0.75, vmax=0.75, annot=True, cmap=\"RdBu_r\")\n",
    "    bottom, top = ax.get_ylim()\n",
    "    ax.set_ylim(bottom + 0.5, top - 0.5)"
   ]
  },
  {
   "cell_type": "markdown",
   "metadata": {},
   "source": [
    "> We see the following highly correlated features:\n",
    "- `bathrooms` and `sqft_living` (0.76)\n",
    "- `sqft_above` and  `sqft_living` (0.88)\n",
    "- `sqft_living15` and `sqft_living` (0.76)\n",
    "\n",
    "We'll look at each feature's relationship to the target variable, `price`, using simple linear regression to determine which to keep for our model."
   ]
  },
  {
   "cell_type": "code",
   "execution_count": 25,
   "metadata": {
    "scrolled": true
   },
   "outputs": [
    {
     "data": {
      "text/html": [
       "<div>\n",
       "<style scoped>\n",
       "    .dataframe tbody tr th:only-of-type {\n",
       "        vertical-align: middle;\n",
       "    }\n",
       "\n",
       "    .dataframe tbody tr th {\n",
       "        vertical-align: top;\n",
       "    }\n",
       "\n",
       "    .dataframe thead th {\n",
       "        text-align: right;\n",
       "    }\n",
       "</style>\n",
       "<table border=\"1\" class=\"dataframe\">\n",
       "  <thead>\n",
       "    <tr style=\"text-align: right;\">\n",
       "      <th></th>\n",
       "      <th>ind_var</th>\n",
       "      <th>r_squared</th>\n",
       "      <th>intercept</th>\n",
       "      <th>slope</th>\n",
       "      <th>p-value</th>\n",
       "    </tr>\n",
       "  </thead>\n",
       "  <tbody>\n",
       "    <tr>\n",
       "      <th>0</th>\n",
       "      <td>sqft_living</td>\n",
       "      <td>0.492704</td>\n",
       "      <td>-4.401154e+04</td>\n",
       "      <td>280.868805</td>\n",
       "      <td>0.0</td>\n",
       "    </tr>\n",
       "    <tr>\n",
       "      <th>1</th>\n",
       "      <td>bathrooms</td>\n",
       "      <td>0.276587</td>\n",
       "      <td>8.692165e+03</td>\n",
       "      <td>251247.251822</td>\n",
       "      <td>0.0</td>\n",
       "    </tr>\n",
       "    <tr>\n",
       "      <th>2</th>\n",
       "      <td>sqft_above</td>\n",
       "      <td>0.366499</td>\n",
       "      <td>5.971596e+04</td>\n",
       "      <td>268.683626</td>\n",
       "      <td>0.0</td>\n",
       "    </tr>\n",
       "    <tr>\n",
       "      <th>3</th>\n",
       "      <td>sqft_living15</td>\n",
       "      <td>0.342537</td>\n",
       "      <td>-8.308198e+04</td>\n",
       "      <td>313.781344</td>\n",
       "      <td>0.0</td>\n",
       "    </tr>\n",
       "    <tr>\n",
       "      <th>4</th>\n",
       "      <td>price</td>\n",
       "      <td>1.000000</td>\n",
       "      <td>1.195986e-10</td>\n",
       "      <td>1.000000</td>\n",
       "      <td>0.0</td>\n",
       "    </tr>\n",
       "  </tbody>\n",
       "</table>\n",
       "</div>"
      ],
      "text/plain": [
       "         ind_var  r_squared     intercept          slope  p-value\n",
       "0    sqft_living   0.492704 -4.401154e+04     280.868805      0.0\n",
       "1      bathrooms   0.276587  8.692165e+03  251247.251822      0.0\n",
       "2     sqft_above   0.366499  5.971596e+04     268.683626      0.0\n",
       "3  sqft_living15   0.342537 -8.308198e+04     313.781344      0.0\n",
       "4          price   1.000000  1.195986e-10       1.000000      0.0"
      ]
     },
     "execution_count": 25,
     "metadata": {},
     "output_type": "execute_result"
    }
   ],
   "source": [
    "# create a dataframe with relevant features to run a simple OLS regression for each feature\n",
    "subset = ['sqft_living', 'bathrooms', 'sqft_above', 'sqft_living15', 'price']\n",
    "data = df.loc[:, subset]\n",
    "\n",
    "results = []\n",
    "for column in data.columns:\n",
    "    \n",
    "    # simple OLS regression model\n",
    "    f = f'price~{column}'\n",
    "    model = smf.ols(formula=f, data=data).fit()\n",
    "    \n",
    "    results.append([column, model.rsquared, model.params[0], model.params[1], model.pvalues[1]])\n",
    "    \n",
    "# show results in a DataFrame\n",
    "pd.DataFrame(results, columns=['ind_var', 'r_squared', 'intercept', 'slope', 'p-value'])"
   ]
  },
  {
   "cell_type": "markdown",
   "metadata": {},
   "source": [
    "A good general rule is to drop the feature that isn’t as strongly correlated with the target variable. Even though these variables are significant with a 0.05 $a$ threshold, we see that `bathrooms`, `sqft_above`, and `sqft_living15` relatively capture a smaller proportion of the variation that can be attributed to the target variable of `price`.\n",
    "\n",
    "Dropping `sqft_above` makes sense as it can represent the same space as `sqft_living`. \n",
    "\n",
    "`bathrooms` could be turned into a dichotomous variable (yes/no), but every property would have bathroom(s). Alternatively, if we combined it with `bedrooms` as a new feature, we would be sacrificing interpretability for accuracy, so we made a choice to drop it, as well.\n",
    "\n",
    "We decided to drop the `sqft_living15` feature as well, rather than create a combined feature with `sqft_lot15` for the same reasons of balancing interpretability and accuracy."
   ]
  },
  {
   "cell_type": "markdown",
   "metadata": {},
   "source": [
    "At this point, we will also drop a couple more features that are not highly correlated with price - any feature with a correlation value below 0.1, as this results in an r_squared value less than 0.01: `sqft_lot`, `yr_built`, `long`, `sqft_lot15`.\n",
    "\n",
    "In the process of dropping `long`, we will drop `lat` as `zipcode` can represent the same information in a different format and to address a potential multicollinearity issue.\n",
    "\n",
    "We will also drop `view` in this case, as we do not have enough knowledge about the dataset to understand how to interpret this feature.\n",
    "\n",
    "Finally, we will drop `date` and `id` as these features are not highly correlated with price."
   ]
  },
  {
   "cell_type": "code",
   "execution_count": 26,
   "metadata": {},
   "outputs": [],
   "source": [
    "# drop aforementioned features to create the final preprocessed dataframe\n",
    "drop_cols = ['bathrooms', 'sqft_above', 'sqft_living15', 'sqft_lot', \n",
    "             'yr_built', 'long', 'sqft_lot15', 'date', 'id', 'lat', 'view']\n",
    "data = df.drop(drop_cols, axis=1)\n",
    "\n",
    "# reset index after having dropped the outlier earlier\n",
    "data.reset_index(inplace=True, drop=True)"
   ]
  },
  {
   "cell_type": "markdown",
   "metadata": {},
   "source": [
    "### Modeling"
   ]
  },
  {
   "cell_type": "markdown",
   "metadata": {},
   "source": [
    "First, let's set up our predictors and target variable."
   ]
  },
  {
   "cell_type": "code",
   "execution_count": 27,
   "metadata": {
    "scrolled": true
   },
   "outputs": [],
   "source": [
    "# set independent and dependent variables\n",
    "X = data.drop(['price'], axis=1)\n",
    "y = data['price']"
   ]
  },
  {
   "cell_type": "markdown",
   "metadata": {},
   "source": [
    "#### normalizing target value"
   ]
  },
  {
   "cell_type": "markdown",
   "metadata": {},
   "source": [
    "Before taking steps to fit our model, let's take a quick look at the distribution of our target variable, `price`. "
   ]
  },
  {
   "cell_type": "code",
   "execution_count": 28,
   "metadata": {},
   "outputs": [
    {
     "data": {
      "text/plain": [
       "<matplotlib.axes._subplots.AxesSubplot at 0x7fcf196a8ac8>"
      ]
     },
     "execution_count": 28,
     "metadata": {},
     "output_type": "execute_result"
    },
    {
     "data": {
      "image/png": "[encoded data removed]",
      "text/plain": [
       "<Figure size 432x288 with 1 Axes>"
      ]
     },
     "metadata": {
      "needs_background": "light"
     },
     "output_type": "display_data"
    }
   ],
   "source": [
    "sns.distplot(y)"
   ]
  },
  {
   "cell_type": "markdown",
   "metadata": {},
   "source": [
    "> We can see the data is heavily positively skewed and needs to be normalized. An alternative option would be trim the outliers, but that would unnecessarily cut down on our data. Slightly increasing the difficulty of the model interpretability is the easier choice in this case."
   ]
  },
  {
   "cell_type": "code",
   "execution_count": 29,
   "metadata": {
    "scrolled": false
   },
   "outputs": [
    {
     "data": {
      "text/plain": [
       "<matplotlib.axes._subplots.AxesSubplot at 0x7fcf194caf98>"
      ]
     },
     "execution_count": 29,
     "metadata": {},
     "output_type": "execute_result"
    },
    {
     "data": {
      "image/png": "[encoded data removed]",
      "text/plain": [
       "<Figure size 432x288 with 1 Axes>"
      ]
     },
     "metadata": {
      "needs_background": "light"
     },
     "output_type": "display_data"
    }
   ],
   "source": [
    "# normalize the target variable\n",
    "log_y = np.log(y)\n",
    "sns.distplot(log_y)"
   ]
  },
  {
   "cell_type": "code",
   "execution_count": 30,
   "metadata": {},
   "outputs": [
    {
     "data": {
      "text/plain": [
       "RangeIndex(start=0, stop=21596, step=1)"
      ]
     },
     "metadata": {},
     "output_type": "display_data"
    },
    {
     "data": {
      "text/plain": [
       "RangeIndex(start=0, stop=21596, step=1)"
      ]
     },
     "metadata": {},
     "output_type": "display_data"
    }
   ],
   "source": [
    "# confirm that the indexes match up and are the same class\n",
    "display(X.index)\n",
    "display(log_y.index)"
   ]
  },
  {
   "cell_type": "markdown",
   "metadata": {},
   "source": [
    "#### train-test-split"
   ]
  },
  {
   "cell_type": "markdown",
   "metadata": {},
   "source": [
    "We'll split the data into training and test sets - using the training set to select features to train our model and the test set to test the performance of these features. Keep in mind we're using our log transformed target variable, `log_y` and normalized `X_scaled` dataframe."
   ]
  },
  {
   "cell_type": "code",
   "execution_count": 31,
   "metadata": {
    "scrolled": true
   },
   "outputs": [
    {
     "name": "stdout",
     "output_type": "stream",
     "text": [
      "17276 4320 17276 4320\n"
     ]
    }
   ],
   "source": [
    "# set a random state for results reproducibility \n",
    "X_train, X_test, y_train, y_test = train_test_split(X, log_y, test_size=0.20, random_state=73)\n",
    "print(len(X_train), len(X_test), len(y_train), len(y_test))"
   ]
  },
  {
   "cell_type": "markdown",
   "metadata": {},
   "source": [
    "#### create baseline model"
   ]
  },
  {
   "cell_type": "markdown",
   "metadata": {},
   "source": [
    "We will be fitting a linear regression line multiple times as we find the optimal model, so we'll create a reusable function to create DRY code."
   ]
  },
  {
   "cell_type": "code",
   "execution_count": 32,
   "metadata": {
    "scrolled": true
   },
   "outputs": [],
   "source": [
    "def sk_lin_reg(X_train, X_test, y_train, y_test):\n",
    "    # fit the model to the train data\n",
    "    linreg = LinearRegression()\n",
    "    linreg.fit(X_train, y_train)\n",
    "\n",
    "    # calculate predictions on training and test sets\n",
    "    y_hat_train = linreg.predict(X_train)\n",
    "    y_hat_test = linreg.predict(X_test)\n",
    "\n",
    "    print('r_squared:', linreg.score(X_test, y_test))\n",
    "    print('Train Mean Squared Error:', mean_squared_error(y_train, y_hat_train))\n",
    "    print('Test Mean Squared Error:', mean_squared_error(y_test, y_hat_test))"
   ]
  },
  {
   "cell_type": "code",
   "execution_count": 33,
   "metadata": {},
   "outputs": [
    {
     "name": "stdout",
     "output_type": "stream",
     "text": [
      "r_squared: 0.5952140449626017\n",
      "Train Mean Squared Error: 0.10989221860324405\n",
      "Test Mean Squared Error: 0.11191222777130777\n"
     ]
    }
   ],
   "source": [
    "sk_lin_reg(X_train, X_test, y_train, y_test)"
   ]
  },
  {
   "cell_type": "markdown",
   "metadata": {},
   "source": [
    "The **r_squared** score is the proportion of the variance in the target variable, `price`, that is predictable from the independent variables or features. In other words, 59.5% of the variance in `price` can be explained by the predictors in our model.\n",
    "\n",
    "There is no correct value for **Mean Squared Error**. Simply put, the lower the value the better and 0 means the model is perfect. Since it's a relative measure against another model, we'll use this MSE calculation as a baseline."
   ]
  },
  {
   "cell_type": "markdown",
   "metadata": {},
   "source": [
    "#### scaling continuous features"
   ]
  },
  {
   "cell_type": "code",
   "execution_count": 34,
   "metadata": {},
   "outputs": [],
   "source": [
    "# create separate lists for continuous and categorical column names:\n",
    "cont_features = [col for col in X.columns if X[col].dtype in [np.float64, np.int64]]\n",
    "\n",
    "X_train_cont = X_train.loc[:, cont_features]\n",
    "X_test_cont = X_test.loc[:, cont_features]\n",
    "\n",
    "# min-max scaling\n",
    "from sklearn.preprocessing import MinMaxScaler\n",
    "scaler = MinMaxScaler()\n",
    "X_train_scaled = scaler.fit_transform(X_train_cont)\n",
    "X_test_scaled = scaler.transform(X_test_cont)\n",
    "\n",
    "cont_train_df = pd.DataFrame(X_train_scaled, columns=X_train_cont.columns, index=X_train.index)\n",
    "cont_test_df = pd.DataFrame(X_test_scaled, columns=X_test_cont.columns, index=X_test.index)"
   ]
  },
  {
   "cell_type": "markdown",
   "metadata": {},
   "source": [
    "#### one hot encoding categorical features"
   ]
  },
  {
   "cell_type": "code",
   "execution_count": 35,
   "metadata": {},
   "outputs": [],
   "source": [
    "# create dataframe of only categorical features\n",
    "cat_features = [col for col in X.columns if X[col].dtype in [np.object]]\n",
    "X_train_cat = X_train.loc[:, cat_features]\n",
    "X_test_cat = X_test.loc[:, cat_features]\n",
    "\n",
    "# OneHotEncode categorical variables\n",
    "from sklearn.preprocessing import OneHotEncoder\n",
    "ohe = OneHotEncoder(drop='first') # we're dropping the first category created for each feature to prevent multicollinearity\n",
    "\n",
    "X_train_ohe = ohe.fit_transform(X_train_cat)\n",
    "X_test_ohe = ohe.transform(X_test_cat)\n",
    "\n",
    "columns = ohe.get_feature_names(input_features=X_train_cat.columns)\n",
    "cat_train_df = pd.DataFrame(X_train_ohe.todense(), columns=columns, index=X_train.index)\n",
    "cat_test_df = pd.DataFrame(X_test_ohe.todense(), columns=columns, index=X_test.index)"
   ]
  },
  {
   "cell_type": "markdown",
   "metadata": {},
   "source": [
    "#### create a dataframe by combining all features"
   ]
  },
  {
   "cell_type": "code",
   "execution_count": 36,
   "metadata": {},
   "outputs": [],
   "source": [
    "X_train_all = pd.concat([cont_train_df, cat_train_df], axis=1)\n",
    "X_test_all = pd.concat([cont_test_df, cat_test_df], axis=1)"
   ]
  },
  {
   "cell_type": "markdown",
   "metadata": {},
   "source": [
    "#### fit model again"
   ]
  },
  {
   "cell_type": "markdown",
   "metadata": {},
   "source": [
    "Having one-hot encoded our data, let's examine the impact on our model. Earlier, we created a function for predicting linear regression using scikit-learn's library. We will create another function for predicint linear regression using statsmodel's library."
   ]
  },
  {
   "cell_type": "code",
   "execution_count": 37,
   "metadata": {},
   "outputs": [],
   "source": [
    "def sm_lin_reg(x, y):\n",
    "    # add a constant term\n",
    "    predictors_int = sm.add_constant(x)\n",
    "    return sm.OLS(y, predictors_int).fit()"
   ]
  },
  {
   "cell_type": "code",
   "execution_count": 38,
   "metadata": {
    "scrolled": true
   },
   "outputs": [
    {
     "name": "stdout",
     "output_type": "stream",
     "text": [
      "                            OLS Regression Results                            \n",
      "==============================================================================\n",
      "Dep. Variable:                  price   R-squared:                       0.863\n",
      "Model:                            OLS   Adj. R-squared:                  0.862\n",
      "Method:                 Least Squares   F-statistic:                     1213.\n",
      "Date:                Mon, 02 Nov 2020   Prob (F-statistic):               0.00\n",
      "Time:                        13:52:11   Log-Likelihood:                 3710.2\n",
      "No. Observations:               17276   AIC:                            -7240.\n",
      "Df Residuals:                   17186   BIC:                            -6542.\n",
      "Df Model:                          89                                         \n",
      "Covariance Type:            nonrobust                                         \n",
      "==================================================================================\n",
      "                     coef    std err          t      P>|t|      [0.025      0.975]\n",
      "----------------------------------------------------------------------------------\n",
      "const             12.1060      0.201     60.129      0.000      11.711      12.501\n",
      "bedrooms          -0.0366      0.022     -1.669      0.095      -0.080       0.006\n",
      "sqft_living        3.5542      0.049     72.635      0.000       3.458       3.650\n",
      "floors            -0.1258      0.010    -12.953      0.000      -0.145      -0.107\n",
      "sqft_basement     -0.3415      0.023    -14.713      0.000      -0.387      -0.296\n",
      "yr_renovated       0.1009      0.009     11.705      0.000       0.084       0.118\n",
      "waterfront_1.0     0.6636      0.019     35.153      0.000       0.627       0.701\n",
      "condition_2       -0.0284      0.046     -0.614      0.539      -0.119       0.062\n",
      "condition_3        0.0977      0.043      2.257      0.024       0.013       0.183\n",
      "condition_4        0.1508      0.043      3.480      0.001       0.066       0.236\n",
      "condition_5        0.2159      0.044      4.959      0.000       0.131       0.301\n",
      "grade_4           -0.4480      0.201     -2.231      0.026      -0.841      -0.054\n",
      "grade_5           -0.3658      0.197     -1.859      0.063      -0.752       0.020\n",
      "grade_6           -0.2740      0.196     -1.395      0.163      -0.659       0.111\n",
      "grade_7           -0.1407      0.196     -0.716      0.474      -0.526       0.244\n",
      "grade_8           -0.0130      0.196     -0.066      0.947      -0.398       0.372\n",
      "grade_9            0.1136      0.196      0.578      0.563      -0.272       0.499\n",
      "grade_10           0.1879      0.197      0.956      0.339      -0.197       0.573\n",
      "grade_11           0.2445      0.197      1.242      0.214      -0.141       0.631\n",
      "grade_12           0.2648      0.198      1.336      0.182      -0.124       0.653\n",
      "grade_13           0.2435      0.207      1.177      0.239      -0.162       0.649\n",
      "zipcode_98002     -0.0298      0.020     -1.519      0.129      -0.068       0.009\n",
      "zipcode_98003      0.0145      0.018      0.820      0.412      -0.020       0.049\n",
      "zipcode_98004      1.0984      0.017     63.223      0.000       1.064       1.132\n",
      "zipcode_98005      0.7252      0.021     34.386      0.000       0.684       0.767\n",
      "zipcode_98006      0.6465      0.016     41.538      0.000       0.616       0.677\n",
      "zipcode_98007      0.6300      0.022     28.053      0.000       0.586       0.674\n",
      "zipcode_98008      0.6410      0.018     36.163      0.000       0.606       0.676\n",
      "zipcode_98010      0.2672      0.024     10.953      0.000       0.219       0.315\n",
      "zipcode_98011      0.4479      0.019     23.115      0.000       0.410       0.486\n",
      "zipcode_98014      0.3514      0.023     15.250      0.000       0.306       0.397\n",
      "zipcode_98019      0.3501      0.020     17.785      0.000       0.312       0.389\n",
      "zipcode_98022      0.1136      0.019      6.135      0.000       0.077       0.150\n",
      "zipcode_98023     -0.0340      0.015     -2.213      0.027      -0.064      -0.004\n",
      "zipcode_98024      0.4797      0.028     17.429      0.000       0.426       0.534\n",
      "zipcode_98027      0.5124      0.016     32.112      0.000       0.481       0.544\n",
      "zipcode_98028      0.4270      0.018     24.110      0.000       0.392       0.462\n",
      "zipcode_98029      0.5827      0.017     34.251      0.000       0.549       0.616\n",
      "zipcode_98030      0.0538      0.018      2.964      0.003       0.018       0.089\n",
      "zipcode_98031      0.0745      0.018      4.239      0.000       0.040       0.109\n",
      "zipcode_98032     -0.0705      0.023     -3.045      0.002      -0.116      -0.025\n",
      "zipcode_98033      0.7796      0.016     49.336      0.000       0.749       0.811\n",
      "zipcode_98034      0.5443      0.015     36.288      0.000       0.515       0.574\n",
      "zipcode_98038      0.1748      0.015     11.887      0.000       0.146       0.204\n",
      "zipcode_98039      1.2438      0.033     37.181      0.000       1.178       1.309\n",
      "zipcode_98040      0.8785      0.018     49.210      0.000       0.844       0.913\n",
      "zipcode_98042      0.0646      0.015      4.341      0.000       0.035       0.094\n",
      "zipcode_98045      0.3534      0.019     18.721      0.000       0.316       0.390\n",
      "zipcode_98052      0.6204      0.015     41.566      0.000       0.591       0.650\n",
      "zipcode_98053      0.5768      0.016     35.671      0.000       0.545       0.608\n",
      "zipcode_98055      0.1476      0.018      8.325      0.000       0.113       0.182\n",
      "zipcode_98056      0.3140      0.016     19.648      0.000       0.283       0.345\n",
      "zipcode_98058      0.1567      0.015     10.140      0.000       0.126       0.187\n",
      "zipcode_98059      0.3453      0.016     22.232      0.000       0.315       0.376\n",
      "zipcode_98065      0.4278      0.017     24.752      0.000       0.394       0.462\n",
      "zipcode_98070      0.4085      0.024     17.044      0.000       0.361       0.455\n",
      "zipcode_98072      0.5028      0.018     28.727      0.000       0.468       0.537\n",
      "zipcode_98074      0.5403      0.016     34.379      0.000       0.510       0.571\n",
      "zipcode_98075      0.5589      0.017     33.413      0.000       0.526       0.592\n",
      "zipcode_98077      0.4630      0.019     24.034      0.000       0.425       0.501\n",
      "zipcode_98092      0.0367      0.017      2.198      0.028       0.004       0.069\n",
      "zipcode_98102      0.9461      0.024     39.433      0.000       0.899       0.993\n",
      "zipcode_98103      0.7935      0.015     53.284      0.000       0.764       0.823\n",
      "zipcode_98105      0.9432      0.018     51.361      0.000       0.907       0.979\n",
      "zipcode_98106      0.3199      0.017     19.078      0.000       0.287       0.353\n",
      "zipcode_98107      0.8244      0.018     45.911      0.000       0.789       0.860\n",
      "zipcode_98108      0.3550      0.020     17.613      0.000       0.316       0.395\n",
      "zipcode_98109      0.9866      0.024     40.544      0.000       0.939       1.034\n",
      "zipcode_98112      1.0275      0.018     57.541      0.000       0.992       1.062\n",
      "zipcode_98115      0.7998      0.015     53.729      0.000       0.771       0.829\n",
      "zipcode_98116      0.7652      0.017     45.234      0.000       0.732       0.798\n",
      "zipcode_98117      0.7831      0.015     52.509      0.000       0.754       0.812\n",
      "zipcode_98118      0.4471      0.015     29.230      0.000       0.417       0.477\n",
      "zipcode_98119      0.9859      0.020     49.524      0.000       0.947       1.025\n",
      "zipcode_98122      0.7884      0.018     44.636      0.000       0.754       0.823\n",
      "zipcode_98125      0.5585      0.016     34.977      0.000       0.527       0.590\n",
      "zipcode_98126      0.5302      0.017     31.454      0.000       0.497       0.563\n",
      "zipcode_98133      0.4305      0.015     28.140      0.000       0.400       0.460\n",
      "zipcode_98136      0.6817      0.018     38.500      0.000       0.647       0.716\n",
      "zipcode_98144      0.6703      0.017     39.979      0.000       0.637       0.703\n",
      "zipcode_98146      0.2742      0.018     15.530      0.000       0.240       0.309\n",
      "zipcode_98148      0.1615      0.031      5.231      0.000       0.101       0.222\n",
      "zipcode_98155      0.4141      0.016     26.625      0.000       0.384       0.445\n",
      "zipcode_98166      0.3229      0.018     18.003      0.000       0.288       0.358\n",
      "zipcode_98168      0.0636      0.018      3.513      0.000       0.028       0.099\n",
      "zipcode_98177      0.6119      0.018     33.639      0.000       0.576       0.648\n",
      "zipcode_98178      0.1579      0.018      8.862      0.000       0.123       0.193\n",
      "zipcode_98188      0.0882      0.022      3.965      0.000       0.045       0.132\n",
      "zipcode_98198      0.0757      0.017      4.331      0.000       0.041       0.110\n",
      "zipcode_98199      0.8536      0.017     49.535      0.000       0.820       0.887\n",
      "==============================================================================\n",
      "Omnibus:                     1206.993   Durbin-Watson:                   2.013\n",
      "Prob(Omnibus):                  0.000   Jarque-Bera (JB):             6303.552\n",
      "Skew:                          -0.028   Prob(JB):                         0.00\n",
      "Kurtosis:                       5.959   Cond. No.                         611.\n",
      "==============================================================================\n",
      "\n",
      "Warnings:\n",
      "[1] Standard Errors assume that the covariance matrix of the errors is correctly specified.\n"
     ]
    }
   ],
   "source": [
    "model_ohe = sm_lin_reg(X_train_all, y_train)\n",
    "print(model_ohe.summary())"
   ]
  },
  {
   "cell_type": "code",
   "execution_count": 39,
   "metadata": {
    "scrolled": false
   },
   "outputs": [
    {
     "name": "stdout",
     "output_type": "stream",
     "text": [
      "r_squared: 0.8657877727312486\n",
      "Train Mean Squared Error: 0.038105545474115196\n",
      "Test Mean Squared Error: 0.03710600420018853\n"
     ]
    }
   ],
   "source": [
    "sk_lin_reg(X_train_all, X_test_all, y_train, y_test)"
   ]
  },
  {
   "cell_type": "markdown",
   "metadata": {},
   "source": [
    "> We do see the **r_squared** value having increased from our baseline model of **0.595** to **0.866**. However, we have also increased the number of predictors from **11** to **89**. "
   ]
  },
  {
   "cell_type": "markdown",
   "metadata": {},
   "source": [
    "#### remove insignificant predictors"
   ]
  },
  {
   "cell_type": "markdown",
   "metadata": {},
   "source": [
    "We'll remove some predictors that are causing noise in the model by examining the p-value significance levels of the predictors. If a coefficient's p-value is below 0.05, we can reject the null hypothesis that there is no effect on the model and continue to include it.\n",
    "\n",
    "In line with keeping the DRY principle, we will create a function for this process, as we will iterate a couple times."
   ]
  },
  {
   "cell_type": "code",
   "execution_count": 40,
   "metadata": {},
   "outputs": [],
   "source": [
    "def remove_low_p(model):\n",
    "    # keep predictors with p-value < 0.05\n",
    "    summary = model.summary()\n",
    "    p_table = summary.tables[1]\n",
    "    p_table = pd.DataFrame(p_table.data)\n",
    "    p_table.columns = p_table.iloc[0] # rename column names to the stats\n",
    "    p_table = p_table.drop(0) # drop first row\n",
    "    p_table = p_table.set_index(p_table.columns[0]) # set index as feature names\n",
    "    p_table['P>|t|'] = p_table['P>|t|'].astype(float)\n",
    "    x_cols = list(p_table[p_table['P>|t|'] < 0.05].index)\n",
    "    x_cols.remove('const')\n",
    "    print('initial # of features:', len(p_table))\n",
    "    print('resulting # of features:', len(x_cols))\n",
    "    return x_cols    "
   ]
  },
  {
   "cell_type": "code",
   "execution_count": 41,
   "metadata": {
    "scrolled": true
   },
   "outputs": [
    {
     "name": "stdout",
     "output_type": "stream",
     "text": [
      "initial # of features: 90\n",
      "resulting # of features: 76\n"
     ]
    }
   ],
   "source": [
    "# pass in the model we just created after OHE\n",
    "x_cols = remove_low_p(model_ohe)"
   ]
  },
  {
   "cell_type": "markdown",
   "metadata": {},
   "source": [
    "> We were able to reduce the number of coefficents by **14 predictors**."
   ]
  },
  {
   "cell_type": "markdown",
   "metadata": {},
   "source": [
    "We'll check the model's coeffients again to see if there are any more p-values greater than 0.05 using the same steps above."
   ]
  },
  {
   "cell_type": "code",
   "execution_count": 42,
   "metadata": {
    "scrolled": true
   },
   "outputs": [
    {
     "name": "stdout",
     "output_type": "stream",
     "text": [
      "initial # of features: 77\n",
      "resulting # of features: 74\n"
     ]
    }
   ],
   "source": [
    "# create a new DataFrame with the significant features\n",
    "df_significant = X_train_all[x_cols]\n",
    "model = sm_lin_reg(df_significant, y_train)\n",
    "x_cols = remove_low_p(model)"
   ]
  },
  {
   "cell_type": "markdown",
   "metadata": {},
   "source": [
    "Let's check it one more time, as three more features were additionally shown to be insignificant."
   ]
  },
  {
   "cell_type": "code",
   "execution_count": 43,
   "metadata": {},
   "outputs": [
    {
     "name": "stdout",
     "output_type": "stream",
     "text": [
      "initial # of features: 77\n",
      "resulting # of features: 74\n"
     ]
    }
   ],
   "source": [
    "df_significant_revised = X_train_all[x_cols]\n",
    "model = sm_lin_reg(df_significant, y_train)\n",
    "x_cols = remove_low_p(model)"
   ]
  },
  {
   "cell_type": "markdown",
   "metadata": {},
   "source": [
    "> We see that the number of predictors stayed the same. Hence, there are no more predictors with p-values greater than 0.05."
   ]
  },
  {
   "cell_type": "code",
   "execution_count": 44,
   "metadata": {},
   "outputs": [],
   "source": [
    "# create the final DataFrame with the significant features\n",
    "df_significant_final = X_train_all[x_cols]"
   ]
  },
  {
   "cell_type": "code",
   "execution_count": 45,
   "metadata": {},
   "outputs": [],
   "source": [
    "# remove the insignificant features from the test set\n",
    "X_test_all = X_test_all[x_cols]"
   ]
  },
  {
   "cell_type": "code",
   "execution_count": 46,
   "metadata": {},
   "outputs": [
    {
     "name": "stdout",
     "output_type": "stream",
     "text": [
      "r_squared: 0.8444633715004892\n",
      "Train Mean Squared Error: 0.04431932356837763\n",
      "Test Mean Squared Error: 0.043001616975100694\n"
     ]
    }
   ],
   "source": [
    "# run linear model as before\n",
    "sk_lin_reg(df_significant_final, X_test_all, y_train, y_test)"
   ]
  },
  {
   "cell_type": "markdown",
   "metadata": {},
   "source": [
    "> As a result of removing insignificant predictors with p-values above 0.05, our **r_squared** value has *slightly decreased* to 0.844, but we do see a **noticeable drop** in our MSE from our base line model, which is a good sign this model is more accurately predicting the variability, while eliminating some of the noise created by creating dummy variables."
   ]
  },
  {
   "cell_type": "markdown",
   "metadata": {},
   "source": [
    "#### removing features using recursive feature elimination (RFE)"
   ]
  },
  {
   "cell_type": "markdown",
   "metadata": {},
   "source": [
    "We'll use the RFE technique to further refine the model and remove features that are adding noise to the model."
   ]
  },
  {
   "cell_type": "code",
   "execution_count": 47,
   "metadata": {},
   "outputs": [],
   "source": [
    "linreg = LinearRegression()\n",
    "\n",
    "def rfe(x,y,number):\n",
    "    selector = RFE(linreg, n_features_to_select=number)\n",
    "    selector = selector.fit(x, y)\n",
    "    estimators = selector.estimator_\n",
    "    X_RFE = x[x.columns[selector.support_]]\n",
    "    return X_RFE\n",
    "\n",
    "r_squared_values = []\n",
    "\n",
    "for number in range(1,len(x_cols)):\n",
    "    X_RFE = rfe(df_significant_final, y_train, number)\n",
    "    linreg.fit(X_RFE, y_train)\n",
    "    r_squared_values.append(linreg.score(X_RFE, y_train))"
   ]
  },
  {
   "cell_type": "code",
   "execution_count": 48,
   "metadata": {
    "scrolled": true
   },
   "outputs": [
    {
     "data": {
      "image/png": "[encoded data removed]",
      "text/plain": [
       "<Figure size 432x288 with 1 Axes>"
      ]
     },
     "metadata": {
      "needs_background": "light"
     },
     "output_type": "display_data"
    }
   ],
   "source": [
    "plt.plot(range(1,len(x_cols)),r_squared_values)\n",
    "plt.xlabel('# of selectors')\n",
    "plt.ylabel('r_squared')\n",
    "plt.show();"
   ]
  },
  {
   "cell_type": "markdown",
   "metadata": {},
   "source": [
    "> The graph shows a *very slight plateau* in r_squared when the # of features is around ~35. We'll take a look at this range to determine the exact number of features to select."
   ]
  },
  {
   "cell_type": "code",
   "execution_count": 49,
   "metadata": {},
   "outputs": [
    {
     "name": "stdout",
     "output_type": "stream",
     "text": [
      "35 0.7866297510233257\n",
      "36 0.7897788324936884\n",
      "37 0.7906162279130213\n",
      "38 0.7927183945290475\n",
      "39 0.7974782478709279\n",
      "40 0.8001992515224141\n",
      "41 0.8052693933775544\n",
      "42 0.8101639551761715\n",
      "43 0.8114010057986487\n",
      "44 0.8139402646815541\n"
     ]
    },
    {
     "data": {
      "text/plain": [
       "[0.004003257525241209,\n",
       " 0.0010602910395672226,\n",
       " 0.0026588963669202633,\n",
       " 0.006004469398881893,\n",
       " 0.003412009868294982,\n",
       " 0.006336099222155173,\n",
       " 0.006078166932543761,\n",
       " 0.001526913922266827,\n",
       " 0.0031294746552674693]"
      ]
     },
     "execution_count": 49,
     "metadata": {},
     "output_type": "execute_result"
    }
   ],
   "source": [
    "# obtain # of features to select by examining the r_squared values from our list\n",
    "y = []\n",
    "for value in range(35,45):\n",
    "    x = r_squared_values[value]\n",
    "    y.append(x)\n",
    "    print(value, x)\n",
    "\n",
    "# print out incremental change in r_squared when increasing the # of features\n",
    "[(a1 - a2) / a2 for a1, a2 in zip(y[1:], y)]"
   ]
  },
  {
   "cell_type": "markdown",
   "metadata": {},
   "source": [
    "> We see the smallest incremental increase in r_squared value at 36 features."
   ]
  },
  {
   "cell_type": "code",
   "execution_count": 50,
   "metadata": {
    "scrolled": true
   },
   "outputs": [
    {
     "data": {
      "text/plain": [
       "Index(['sqft_living', 'sqft_basement', 'waterfront_1.0', 'zipcode_98004',\n",
       "       'zipcode_98005', 'zipcode_98006', 'zipcode_98007', 'zipcode_98008',\n",
       "       'zipcode_98027', 'zipcode_98029', 'zipcode_98033', 'zipcode_98034',\n",
       "       'zipcode_98039', 'zipcode_98040', 'zipcode_98052', 'zipcode_98053',\n",
       "       'zipcode_98072', 'zipcode_98074', 'zipcode_98075', 'zipcode_98102',\n",
       "       'zipcode_98103', 'zipcode_98105', 'zipcode_98107', 'zipcode_98109',\n",
       "       'zipcode_98112', 'zipcode_98115', 'zipcode_98116', 'zipcode_98117',\n",
       "       'zipcode_98119', 'zipcode_98122', 'zipcode_98125', 'zipcode_98126',\n",
       "       'zipcode_98136', 'zipcode_98144', 'zipcode_98177', 'zipcode_98199'],\n",
       "      dtype='object')"
      ]
     },
     "execution_count": 50,
     "metadata": {},
     "output_type": "execute_result"
    }
   ],
   "source": [
    "# we see the r_squared plateau at 35 features, so we'll use 35 features in our model\n",
    "X_RFE_36 = rfe(df_significant_final, y_train, 36)\n",
    "X_RFE_36.columns"
   ]
  },
  {
   "cell_type": "markdown",
   "metadata": {},
   "source": [
    "### final model"
   ]
  },
  {
   "cell_type": "code",
   "execution_count": 51,
   "metadata": {
    "scrolled": true
   },
   "outputs": [
    {
     "name": "stdout",
     "output_type": "stream",
     "text": [
      "                            OLS Regression Results                            \n",
      "==============================================================================\n",
      "Dep. Variable:                  price   R-squared:                       0.787\n",
      "Model:                            OLS   Adj. R-squared:                  0.786\n",
      "Method:                 Least Squares   F-statistic:                     1765.\n",
      "Date:                Mon, 02 Nov 2020   Prob (F-statistic):               0.00\n",
      "Time:                        13:53:01   Log-Likelihood:                -95.097\n",
      "No. Observations:               17276   AIC:                             264.2\n",
      "Df Residuals:                   17239   BIC:                             551.2\n",
      "Df Model:                          36                                         \n",
      "Covariance Type:            nonrobust                                         \n",
      "==================================================================================\n",
      "                     coef    std err          t      P>|t|      [0.025      0.975]\n",
      "----------------------------------------------------------------------------------\n",
      "const             12.1775      0.004   2780.995      0.000      12.169      12.186\n",
      "sqft_living        4.7801      0.032    149.807      0.000       4.718       4.843\n",
      "sqft_basement     -0.3842      0.023    -16.436      0.000      -0.430      -0.338\n",
      "waterfront_1.0     0.7164      0.023     31.281      0.000       0.672       0.761\n",
      "zipcode_98004      0.9388      0.016     58.586      0.000       0.907       0.970\n",
      "zipcode_98005      0.5844      0.022     26.766      0.000       0.542       0.627\n",
      "zipcode_98006      0.5060      0.013     39.627      0.000       0.481       0.531\n",
      "zipcode_98007      0.4789      0.024     20.020      0.000       0.432       0.526\n",
      "zipcode_98008      0.4685      0.017     28.067      0.000       0.436       0.501\n",
      "zipcode_98027      0.3204      0.014     23.451      0.000       0.294       0.347\n",
      "zipcode_98029      0.4114      0.015     26.656      0.000       0.381       0.442\n",
      "zipcode_98033      0.5993      0.013     44.684      0.000       0.573       0.626\n",
      "zipcode_98034      0.3391      0.012     28.308      0.000       0.316       0.363\n",
      "zipcode_98039      1.0727      0.039     27.639      0.000       0.997       1.149\n",
      "zipcode_98040      0.7482      0.017     44.827      0.000       0.716       0.781\n",
      "zipcode_98052      0.4484      0.012     38.208      0.000       0.425       0.471\n",
      "zipcode_98053      0.3687      0.014     26.338      0.000       0.341       0.396\n",
      "zipcode_98072      0.3191      0.016     19.494      0.000       0.287       0.351\n",
      "zipcode_98074      0.3783      0.013     28.771      0.000       0.353       0.404\n",
      "zipcode_98075      0.3911      0.015     26.297      0.000       0.362       0.420\n",
      "zipcode_98102      0.7897      0.026     30.414      0.000       0.739       0.841\n",
      "zipcode_98103      0.5992      0.011     52.373      0.000       0.577       0.622\n",
      "zipcode_98105      0.7606      0.018     42.919      0.000       0.726       0.795\n",
      "zipcode_98107      0.6303      0.017     37.327      0.000       0.597       0.663\n",
      "zipcode_98109      0.8247      0.027     31.048      0.000       0.773       0.877\n",
      "zipcode_98112      0.8695      0.017     51.843      0.000       0.837       0.902\n",
      "zipcode_98115      0.5996      0.012     51.245      0.000       0.577       0.623\n",
      "zipcode_98116      0.5909      0.015     38.643      0.000       0.561       0.621\n",
      "zipcode_98117      0.5862      0.012     49.971      0.000       0.563       0.609\n",
      "zipcode_98119      0.8308      0.020     41.515      0.000       0.792       0.870\n",
      "zipcode_98122      0.6169      0.016     37.473      0.000       0.585       0.649\n",
      "zipcode_98125      0.3374      0.014     24.504      0.000       0.310       0.364\n",
      "zipcode_98126      0.3102      0.015     20.359      0.000       0.280       0.340\n",
      "zipcode_98136      0.4896      0.017     29.376      0.000       0.457       0.522\n",
      "zipcode_98144      0.4649      0.015     30.921      0.000       0.435       0.494\n",
      "zipcode_98177      0.4386      0.017     25.178      0.000       0.404       0.473\n",
      "zipcode_98199      0.6924      0.016     43.762      0.000       0.661       0.723\n",
      "==============================================================================\n",
      "Omnibus:                      751.752   Durbin-Watson:                   2.004\n",
      "Prob(Omnibus):                  0.000   Jarque-Bera (JB):             2517.913\n",
      "Skew:                          -0.061   Prob(JB):                         0.00\n",
      "Kurtosis:                       4.866   Cond. No.                         21.6\n",
      "==============================================================================\n",
      "\n",
      "Warnings:\n",
      "[1] Standard Errors assume that the covariance matrix of the errors is correctly specified.\n"
     ]
    }
   ],
   "source": [
    "# run OLS regression using statsmodel\n",
    "final_model = sm_lin_reg(X_RFE_36, y_train)\n",
    "print(final_model.summary())"
   ]
  },
  {
   "cell_type": "markdown",
   "metadata": {},
   "source": [
    "> Our analysis entailed performing EDA on the King County House Sales dataset to create a model that can predict the sale price of houses as accurately as possible. Our model can explain **78.7%** of the variance in the selling price of a house."
   ]
  },
  {
   "cell_type": "markdown",
   "metadata": {},
   "source": [
    "#### checking for the normality assumption"
   ]
  },
  {
   "cell_type": "code",
   "execution_count": 52,
   "metadata": {
    "scrolled": true
   },
   "outputs": [
    {
     "name": "stderr",
     "output_type": "stream",
     "text": [
      "/opt/anaconda3/envs/learn-env/lib/python3.6/site-packages/ipykernel_launcher.py:5: UserWarning: Matplotlib is currently using module://ipykernel.pylab.backend_inline, which is a non-GUI backend, so cannot show the figure.\n",
      "  \"\"\"\n"
     ]
    },
    {
     "data": {
      "image/png": "[encoded data removed]",
      "text/plain": [
       "<Figure size 432x288 with 1 Axes>"
      ]
     },
     "metadata": {
      "needs_background": "light"
     },
     "output_type": "display_data"
    }
   ],
   "source": [
    "# Q-Q plot to check for the normality assumption\n",
    "import scipy.stats as stats\n",
    "residuals = model.resid\n",
    "fig = sm.graphics.qqplot(residuals, dist=stats.norm, line='45', fit=True)\n",
    "fig.show()"
   ]
  },
  {
   "cell_type": "markdown",
   "metadata": {},
   "source": [
    "> We do see that the current model doesn't satisfy the normality assumption. Let's address it by examining the outliers causing the tail."
   ]
  },
  {
   "cell_type": "code",
   "execution_count": 53,
   "metadata": {
    "scrolled": true
   },
   "outputs": [],
   "source": [
    "outliers = pd.DataFrame(residuals.sort_values()[:15])"
   ]
  },
  {
   "cell_type": "code",
   "execution_count": 54,
   "metadata": {},
   "outputs": [],
   "source": [
    "# create a list of the outliers' indices\n",
    "outlier_list = list(outliers[0].index)"
   ]
  },
  {
   "cell_type": "code",
   "execution_count": 55,
   "metadata": {
    "code_folding": []
   },
   "outputs": [],
   "source": [
    "# create a function to remove the outliers from the training data\n",
    "def remove_outlier(outlier_list,x,y):\n",
    "    for outlier in outlier_list:\n",
    "        x = x[x.index != outlier]\n",
    "        y = y[y.index != outlier]\n",
    "    return x,y"
   ]
  },
  {
   "cell_type": "code",
   "execution_count": 56,
   "metadata": {
    "scrolled": true
   },
   "outputs": [],
   "source": [
    "# run the function on our dataset\n",
    "X_RFE_36, y_train = remove_outlier(outlier_list, X_RFE_36, y_train)"
   ]
  },
  {
   "cell_type": "code",
   "execution_count": 57,
   "metadata": {
    "scrolled": true
   },
   "outputs": [
    {
     "name": "stdout",
     "output_type": "stream",
     "text": [
      "                            OLS Regression Results                            \n",
      "==============================================================================\n",
      "Dep. Variable:                  price   R-squared:                       0.791\n",
      "Model:                            OLS   Adj. R-squared:                  0.790\n",
      "Method:                 Least Squares   F-statistic:                     1806.\n",
      "Date:                Mon, 02 Nov 2020   Prob (F-statistic):               0.00\n",
      "Time:                        13:53:01   Log-Likelihood:                 105.88\n",
      "No. Observations:               17261   AIC:                            -137.8\n",
      "Df Residuals:                   17224   BIC:                             149.2\n",
      "Df Model:                          36                                         \n",
      "Covariance Type:            nonrobust                                         \n",
      "==================================================================================\n",
      "                     coef    std err          t      P>|t|      [0.025      0.975]\n",
      "----------------------------------------------------------------------------------\n",
      "const             12.1709      0.004   2791.849      0.000      12.162      12.179\n",
      "sqft_living        4.8326      0.032    152.001      0.000       4.770       4.895\n",
      "sqft_basement     -0.3730      0.023    -16.098      0.000      -0.418      -0.328\n",
      "waterfront_1.0     0.7214      0.023     31.756      0.000       0.677       0.766\n",
      "zipcode_98004      0.9342      0.016     58.960      0.000       0.903       0.965\n",
      "zipcode_98005      0.5808      0.022     26.909      0.000       0.539       0.623\n",
      "zipcode_98006      0.5043      0.013     39.905      0.000       0.480       0.529\n",
      "zipcode_98007      0.4778      0.024     20.207      0.000       0.431       0.524\n",
      "zipcode_98008      0.4671      0.016     28.307      0.000       0.435       0.499\n",
      "zipcode_98027      0.3175      0.014     23.507      0.000       0.291       0.344\n",
      "zipcode_98029      0.4102      0.015     26.890      0.000       0.380       0.440\n",
      "zipcode_98033      0.6037      0.013     45.407      0.000       0.578       0.630\n",
      "zipcode_98034      0.3415      0.012     28.810      0.000       0.318       0.365\n",
      "zipcode_98039      1.0644      0.038     27.742      0.000       0.989       1.140\n",
      "zipcode_98040      0.7531      0.017     45.479      0.000       0.721       0.786\n",
      "zipcode_98052      0.4464      0.012     38.473      0.000       0.424       0.469\n",
      "zipcode_98053      0.3736      0.014     26.972      0.000       0.346       0.401\n",
      "zipcode_98072      0.3172      0.016     19.599      0.000       0.285       0.349\n",
      "zipcode_98074      0.3752      0.013     28.865      0.000       0.350       0.401\n",
      "zipcode_98075      0.3865      0.015     26.289      0.000       0.358       0.415\n",
      "zipcode_98102      0.8010      0.026     31.041      0.000       0.750       0.852\n",
      "zipcode_98103      0.6002      0.011     53.067      0.000       0.578       0.622\n",
      "zipcode_98105      0.7589      0.018     43.319      0.000       0.725       0.793\n",
      "zipcode_98107      0.6314      0.017     37.830      0.000       0.599       0.664\n",
      "zipcode_98109      0.8505      0.027     32.014      0.000       0.798       0.903\n",
      "zipcode_98112      0.8663      0.017     52.254      0.000       0.834       0.899\n",
      "zipcode_98115      0.5994      0.012     51.828      0.000       0.577       0.622\n",
      "zipcode_98116      0.5905      0.015     39.067      0.000       0.561       0.620\n",
      "zipcode_98117      0.5867      0.012     50.599      0.000       0.564       0.609\n",
      "zipcode_98119      0.8466      0.020     42.521      0.000       0.808       0.886\n",
      "zipcode_98122      0.6213      0.016     38.096      0.000       0.589       0.653\n",
      "zipcode_98125      0.3378      0.014     24.818      0.000       0.311       0.364\n",
      "zipcode_98126      0.3116      0.015     20.689      0.000       0.282       0.341\n",
      "zipcode_98136      0.4899      0.016     29.735      0.000       0.458       0.522\n",
      "zipcode_98144      0.4643      0.015     31.247      0.000       0.435       0.493\n",
      "zipcode_98177      0.4363      0.017     25.335      0.000       0.403       0.470\n",
      "zipcode_98199      0.6907      0.016     44.161      0.000       0.660       0.721\n",
      "==============================================================================\n",
      "Omnibus:                      400.806   Durbin-Watson:                   2.001\n",
      "Prob(Omnibus):                  0.000   Jarque-Bera (JB):              906.275\n",
      "Skew:                           0.064   Prob(JB):                    1.60e-197\n",
      "Kurtosis:                       4.115   Cond. No.                         21.6\n",
      "==============================================================================\n",
      "\n",
      "Warnings:\n",
      "[1] Standard Errors assume that the covariance matrix of the errors is correctly specified.\n"
     ]
    }
   ],
   "source": [
    "# fit the model one more time to get model results\n",
    "model = sm_lin_reg(X_RFE_36, y_train)\n",
    "print(model.summary())"
   ]
  },
  {
   "cell_type": "code",
   "execution_count": 58,
   "metadata": {
    "scrolled": true
   },
   "outputs": [
    {
     "name": "stderr",
     "output_type": "stream",
     "text": [
      "/opt/anaconda3/envs/learn-env/lib/python3.6/site-packages/ipykernel_launcher.py:5: UserWarning: Matplotlib is currently using module://ipykernel.pylab.backend_inline, which is a non-GUI backend, so cannot show the figure.\n",
      "  \"\"\"\n"
     ]
    },
    {
     "data": {
      "image/png": "[encoded data removed]",
      "text/plain": [
       "<Figure size 432x288 with 1 Axes>"
      ]
     },
     "metadata": {
      "needs_background": "light"
     },
     "output_type": "display_data"
    }
   ],
   "source": [
    "# Q-Q plot to check for the normality assumption\n",
    "import scipy.stats as stats\n",
    "residuals = model.resid\n",
    "fig = sm.graphics.qqplot(residuals, dist=stats.norm, line='45', fit=True)\n",
    "fig.show()"
   ]
  },
  {
   "cell_type": "markdown",
   "metadata": {},
   "source": [
    "> After removing 15 of the biggest outliers that were creating a tail in our normality plot, we see a plot resembling more of a normal distribution and the r_squared value having slightly increased to 80.1%."
   ]
  },
  {
   "cell_type": "markdown",
   "metadata": {},
   "source": [
    "#### comparing coefficients"
   ]
  },
  {
   "cell_type": "markdown",
   "metadata": {},
   "source": [
    "We can compare the coefficients to determine which predictor has the greatest impact on the average sale price of the house."
   ]
  },
  {
   "cell_type": "code",
   "execution_count": 59,
   "metadata": {
    "scrolled": false
   },
   "outputs": [
    {
     "name": "stdout",
     "output_type": "stream",
     "text": [
      "top 10 coefficients: \n",
      " const            12.170878\n",
      "sqft_living       4.832552\n",
      "zipcode_98039     1.064377\n",
      "zipcode_98004     0.934154\n",
      "zipcode_98112     0.866315\n",
      "zipcode_98109     0.850481\n",
      "zipcode_98119     0.846624\n",
      "zipcode_98102     0.801014\n",
      "zipcode_98105     0.758870\n",
      "zipcode_98040     0.753054\n",
      "Name: coefficient, dtype: float64\n",
      "-----------\n",
      "bottom 10 coefficients: \n",
      " sqft_basement   -0.373004\n",
      "zipcode_98126    0.311614\n",
      "zipcode_98072    0.317169\n",
      "zipcode_98027    0.317529\n",
      "zipcode_98125    0.337793\n",
      "zipcode_98034    0.341467\n",
      "zipcode_98053    0.373633\n",
      "zipcode_98074    0.375230\n",
      "zipcode_98075    0.386514\n",
      "zipcode_98029    0.410198\n",
      "Name: coefficient, dtype: float64\n"
     ]
    }
   ],
   "source": [
    "# use the final model's parameters to sort the coefficients in descending order\n",
    "results = pd.DataFrame(model.params, columns=['coefficient'])\n",
    "\n",
    "# display top 10 results\n",
    "print('top 10 coefficients: \\n', results['coefficient'].sort_values(ascending=False)[:10])\n",
    "print('-----------')\n",
    "# display last 10 results\n",
    "print('bottom 10 coefficients: \\n', results['coefficient'].sort_values(ascending=True)[:10])"
   ]
  },
  {
   "cell_type": "markdown",
   "metadata": {},
   "source": [
    "> We see that the `sqft_living` - or in other words, the square footage of living space, has the most impact on the average sale price of a home. Also impactful is having the property located in certain zipcodes like `98039`, `98004`, and `98112`."
   ]
  },
  {
   "cell_type": "markdown",
   "metadata": {},
   "source": [
    "#### revert feature data to original scale"
   ]
  },
  {
   "cell_type": "markdown",
   "metadata": {},
   "source": [
    "Before we interpret our coefficients, we have to remember that our target variable, `price`, is in a log-transformed state, but the predictors are in the original metric. In addition, since our features have been scaled, we'll first need to create a complimentary model with unscaled coefficients to corretly interpret the model."
   ]
  },
  {
   "cell_type": "code",
   "execution_count": 60,
   "metadata": {},
   "outputs": [
    {
     "data": {
      "text/plain": [
       "Index(['sqft_living', 'sqft_basement', 'waterfront_1.0', 'zipcode_98004',\n",
       "       'zipcode_98005', 'zipcode_98006', 'zipcode_98007', 'zipcode_98008',\n",
       "       'zipcode_98027', 'zipcode_98029', 'zipcode_98033', 'zipcode_98034',\n",
       "       'zipcode_98039', 'zipcode_98040', 'zipcode_98052', 'zipcode_98053',\n",
       "       'zipcode_98072', 'zipcode_98074', 'zipcode_98075', 'zipcode_98102',\n",
       "       'zipcode_98103', 'zipcode_98105', 'zipcode_98107', 'zipcode_98109',\n",
       "       'zipcode_98112', 'zipcode_98115', 'zipcode_98116', 'zipcode_98117',\n",
       "       'zipcode_98119', 'zipcode_98122', 'zipcode_98125', 'zipcode_98126',\n",
       "       'zipcode_98136', 'zipcode_98144', 'zipcode_98177', 'zipcode_98199'],\n",
       "      dtype='object')"
      ]
     },
     "execution_count": 60,
     "metadata": {},
     "output_type": "execute_result"
    }
   ],
   "source": [
    "# a reminder on what features exist in our final model\n",
    "X_RFE_36.columns"
   ]
  },
  {
   "cell_type": "code",
   "execution_count": 61,
   "metadata": {
    "scrolled": true
   },
   "outputs": [
    {
     "data": {
      "text/html": [
       "<div>\n",
       "<style scoped>\n",
       "    .dataframe tbody tr th:only-of-type {\n",
       "        vertical-align: middle;\n",
       "    }\n",
       "\n",
       "    .dataframe tbody tr th {\n",
       "        vertical-align: top;\n",
       "    }\n",
       "\n",
       "    .dataframe thead th {\n",
       "        text-align: right;\n",
       "    }\n",
       "</style>\n",
       "<table border=\"1\" class=\"dataframe\">\n",
       "  <thead>\n",
       "    <tr style=\"text-align: right;\">\n",
       "      <th></th>\n",
       "      <th>waterfront_1.0</th>\n",
       "      <th>zipcode_98002</th>\n",
       "      <th>zipcode_98003</th>\n",
       "      <th>zipcode_98004</th>\n",
       "      <th>zipcode_98005</th>\n",
       "      <th>zipcode_98006</th>\n",
       "      <th>zipcode_98007</th>\n",
       "      <th>zipcode_98008</th>\n",
       "      <th>zipcode_98010</th>\n",
       "      <th>zipcode_98011</th>\n",
       "      <th>...</th>\n",
       "      <th>zipcode_98155</th>\n",
       "      <th>zipcode_98166</th>\n",
       "      <th>zipcode_98168</th>\n",
       "      <th>zipcode_98177</th>\n",
       "      <th>zipcode_98178</th>\n",
       "      <th>zipcode_98188</th>\n",
       "      <th>zipcode_98198</th>\n",
       "      <th>zipcode_98199</th>\n",
       "      <th>sqft_living</th>\n",
       "      <th>sqft_basement</th>\n",
       "    </tr>\n",
       "  </thead>\n",
       "  <tbody>\n",
       "    <tr>\n",
       "      <th>7847</th>\n",
       "      <td>0.0</td>\n",
       "      <td>0.0</td>\n",
       "      <td>0.0</td>\n",
       "      <td>0.0</td>\n",
       "      <td>0.0</td>\n",
       "      <td>0.0</td>\n",
       "      <td>0.0</td>\n",
       "      <td>0.0</td>\n",
       "      <td>0.0</td>\n",
       "      <td>0.0</td>\n",
       "      <td>...</td>\n",
       "      <td>0.0</td>\n",
       "      <td>0.0</td>\n",
       "      <td>0.0</td>\n",
       "      <td>0.0</td>\n",
       "      <td>0.0</td>\n",
       "      <td>0.0</td>\n",
       "      <td>0.0</td>\n",
       "      <td>0.0</td>\n",
       "      <td>3320</td>\n",
       "      <td>370.0</td>\n",
       "    </tr>\n",
       "    <tr>\n",
       "      <th>13378</th>\n",
       "      <td>0.0</td>\n",
       "      <td>0.0</td>\n",
       "      <td>0.0</td>\n",
       "      <td>0.0</td>\n",
       "      <td>0.0</td>\n",
       "      <td>0.0</td>\n",
       "      <td>0.0</td>\n",
       "      <td>0.0</td>\n",
       "      <td>0.0</td>\n",
       "      <td>0.0</td>\n",
       "      <td>...</td>\n",
       "      <td>0.0</td>\n",
       "      <td>0.0</td>\n",
       "      <td>0.0</td>\n",
       "      <td>0.0</td>\n",
       "      <td>0.0</td>\n",
       "      <td>0.0</td>\n",
       "      <td>0.0</td>\n",
       "      <td>0.0</td>\n",
       "      <td>1720</td>\n",
       "      <td>0.0</td>\n",
       "    </tr>\n",
       "    <tr>\n",
       "      <th>1017</th>\n",
       "      <td>0.0</td>\n",
       "      <td>0.0</td>\n",
       "      <td>0.0</td>\n",
       "      <td>0.0</td>\n",
       "      <td>0.0</td>\n",
       "      <td>0.0</td>\n",
       "      <td>0.0</td>\n",
       "      <td>0.0</td>\n",
       "      <td>0.0</td>\n",
       "      <td>0.0</td>\n",
       "      <td>...</td>\n",
       "      <td>0.0</td>\n",
       "      <td>0.0</td>\n",
       "      <td>1.0</td>\n",
       "      <td>0.0</td>\n",
       "      <td>0.0</td>\n",
       "      <td>0.0</td>\n",
       "      <td>0.0</td>\n",
       "      <td>0.0</td>\n",
       "      <td>1480</td>\n",
       "      <td>0.0</td>\n",
       "    </tr>\n",
       "    <tr>\n",
       "      <th>5410</th>\n",
       "      <td>0.0</td>\n",
       "      <td>0.0</td>\n",
       "      <td>0.0</td>\n",
       "      <td>0.0</td>\n",
       "      <td>0.0</td>\n",
       "      <td>0.0</td>\n",
       "      <td>0.0</td>\n",
       "      <td>0.0</td>\n",
       "      <td>0.0</td>\n",
       "      <td>0.0</td>\n",
       "      <td>...</td>\n",
       "      <td>0.0</td>\n",
       "      <td>0.0</td>\n",
       "      <td>0.0</td>\n",
       "      <td>0.0</td>\n",
       "      <td>0.0</td>\n",
       "      <td>0.0</td>\n",
       "      <td>0.0</td>\n",
       "      <td>0.0</td>\n",
       "      <td>3220</td>\n",
       "      <td>0.0</td>\n",
       "    </tr>\n",
       "    <tr>\n",
       "      <th>19970</th>\n",
       "      <td>0.0</td>\n",
       "      <td>0.0</td>\n",
       "      <td>0.0</td>\n",
       "      <td>0.0</td>\n",
       "      <td>0.0</td>\n",
       "      <td>0.0</td>\n",
       "      <td>0.0</td>\n",
       "      <td>0.0</td>\n",
       "      <td>0.0</td>\n",
       "      <td>0.0</td>\n",
       "      <td>...</td>\n",
       "      <td>0.0</td>\n",
       "      <td>0.0</td>\n",
       "      <td>0.0</td>\n",
       "      <td>0.0</td>\n",
       "      <td>0.0</td>\n",
       "      <td>0.0</td>\n",
       "      <td>0.0</td>\n",
       "      <td>0.0</td>\n",
       "      <td>4570</td>\n",
       "      <td>0.0</td>\n",
       "    </tr>\n",
       "    <tr>\n",
       "      <th>...</th>\n",
       "      <td>...</td>\n",
       "      <td>...</td>\n",
       "      <td>...</td>\n",
       "      <td>...</td>\n",
       "      <td>...</td>\n",
       "      <td>...</td>\n",
       "      <td>...</td>\n",
       "      <td>...</td>\n",
       "      <td>...</td>\n",
       "      <td>...</td>\n",
       "      <td>...</td>\n",
       "      <td>...</td>\n",
       "      <td>...</td>\n",
       "      <td>...</td>\n",
       "      <td>...</td>\n",
       "      <td>...</td>\n",
       "      <td>...</td>\n",
       "      <td>...</td>\n",
       "      <td>...</td>\n",
       "      <td>...</td>\n",
       "      <td>...</td>\n",
       "    </tr>\n",
       "    <tr>\n",
       "      <th>13704</th>\n",
       "      <td>0.0</td>\n",
       "      <td>0.0</td>\n",
       "      <td>0.0</td>\n",
       "      <td>0.0</td>\n",
       "      <td>0.0</td>\n",
       "      <td>0.0</td>\n",
       "      <td>0.0</td>\n",
       "      <td>0.0</td>\n",
       "      <td>0.0</td>\n",
       "      <td>0.0</td>\n",
       "      <td>...</td>\n",
       "      <td>0.0</td>\n",
       "      <td>0.0</td>\n",
       "      <td>0.0</td>\n",
       "      <td>0.0</td>\n",
       "      <td>0.0</td>\n",
       "      <td>0.0</td>\n",
       "      <td>0.0</td>\n",
       "      <td>0.0</td>\n",
       "      <td>3290</td>\n",
       "      <td>620.0</td>\n",
       "    </tr>\n",
       "    <tr>\n",
       "      <th>16144</th>\n",
       "      <td>0.0</td>\n",
       "      <td>0.0</td>\n",
       "      <td>0.0</td>\n",
       "      <td>0.0</td>\n",
       "      <td>0.0</td>\n",
       "      <td>0.0</td>\n",
       "      <td>0.0</td>\n",
       "      <td>0.0</td>\n",
       "      <td>0.0</td>\n",
       "      <td>0.0</td>\n",
       "      <td>...</td>\n",
       "      <td>0.0</td>\n",
       "      <td>0.0</td>\n",
       "      <td>0.0</td>\n",
       "      <td>0.0</td>\n",
       "      <td>0.0</td>\n",
       "      <td>0.0</td>\n",
       "      <td>0.0</td>\n",
       "      <td>0.0</td>\n",
       "      <td>1840</td>\n",
       "      <td>0.0</td>\n",
       "    </tr>\n",
       "    <tr>\n",
       "      <th>8586</th>\n",
       "      <td>0.0</td>\n",
       "      <td>0.0</td>\n",
       "      <td>0.0</td>\n",
       "      <td>0.0</td>\n",
       "      <td>0.0</td>\n",
       "      <td>0.0</td>\n",
       "      <td>0.0</td>\n",
       "      <td>0.0</td>\n",
       "      <td>0.0</td>\n",
       "      <td>0.0</td>\n",
       "      <td>...</td>\n",
       "      <td>0.0</td>\n",
       "      <td>0.0</td>\n",
       "      <td>0.0</td>\n",
       "      <td>0.0</td>\n",
       "      <td>0.0</td>\n",
       "      <td>0.0</td>\n",
       "      <td>0.0</td>\n",
       "      <td>0.0</td>\n",
       "      <td>1220</td>\n",
       "      <td>0.0</td>\n",
       "    </tr>\n",
       "    <tr>\n",
       "      <th>4014</th>\n",
       "      <td>0.0</td>\n",
       "      <td>0.0</td>\n",
       "      <td>0.0</td>\n",
       "      <td>0.0</td>\n",
       "      <td>0.0</td>\n",
       "      <td>0.0</td>\n",
       "      <td>0.0</td>\n",
       "      <td>0.0</td>\n",
       "      <td>0.0</td>\n",
       "      <td>0.0</td>\n",
       "      <td>...</td>\n",
       "      <td>0.0</td>\n",
       "      <td>0.0</td>\n",
       "      <td>0.0</td>\n",
       "      <td>0.0</td>\n",
       "      <td>0.0</td>\n",
       "      <td>0.0</td>\n",
       "      <td>0.0</td>\n",
       "      <td>0.0</td>\n",
       "      <td>1540</td>\n",
       "      <td>0.0</td>\n",
       "    </tr>\n",
       "    <tr>\n",
       "      <th>21398</th>\n",
       "      <td>0.0</td>\n",
       "      <td>0.0</td>\n",
       "      <td>0.0</td>\n",
       "      <td>0.0</td>\n",
       "      <td>0.0</td>\n",
       "      <td>0.0</td>\n",
       "      <td>0.0</td>\n",
       "      <td>0.0</td>\n",
       "      <td>0.0</td>\n",
       "      <td>0.0</td>\n",
       "      <td>...</td>\n",
       "      <td>0.0</td>\n",
       "      <td>0.0</td>\n",
       "      <td>0.0</td>\n",
       "      <td>0.0</td>\n",
       "      <td>0.0</td>\n",
       "      <td>0.0</td>\n",
       "      <td>0.0</td>\n",
       "      <td>0.0</td>\n",
       "      <td>2245</td>\n",
       "      <td>0.0</td>\n",
       "    </tr>\n",
       "  </tbody>\n",
       "</table>\n",
       "<p>17276 rows × 72 columns</p>\n",
       "</div>"
      ],
      "text/plain": [
       "       waterfront_1.0  zipcode_98002  zipcode_98003  zipcode_98004  \\\n",
       "7847              0.0            0.0            0.0            0.0   \n",
       "13378             0.0            0.0            0.0            0.0   \n",
       "1017              0.0            0.0            0.0            0.0   \n",
       "5410              0.0            0.0            0.0            0.0   \n",
       "19970             0.0            0.0            0.0            0.0   \n",
       "...               ...            ...            ...            ...   \n",
       "13704             0.0            0.0            0.0            0.0   \n",
       "16144             0.0            0.0            0.0            0.0   \n",
       "8586              0.0            0.0            0.0            0.0   \n",
       "4014              0.0            0.0            0.0            0.0   \n",
       "21398             0.0            0.0            0.0            0.0   \n",
       "\n",
       "       zipcode_98005  zipcode_98006  zipcode_98007  zipcode_98008  \\\n",
       "7847             0.0            0.0            0.0            0.0   \n",
       "13378            0.0            0.0            0.0            0.0   \n",
       "1017             0.0            0.0            0.0            0.0   \n",
       "5410             0.0            0.0            0.0            0.0   \n",
       "19970            0.0            0.0            0.0            0.0   \n",
       "...              ...            ...            ...            ...   \n",
       "13704            0.0            0.0            0.0            0.0   \n",
       "16144            0.0            0.0            0.0            0.0   \n",
       "8586             0.0            0.0            0.0            0.0   \n",
       "4014             0.0            0.0            0.0            0.0   \n",
       "21398            0.0            0.0            0.0            0.0   \n",
       "\n",
       "       zipcode_98010  zipcode_98011  ...  zipcode_98155  zipcode_98166  \\\n",
       "7847             0.0            0.0  ...            0.0            0.0   \n",
       "13378            0.0            0.0  ...            0.0            0.0   \n",
       "1017             0.0            0.0  ...            0.0            0.0   \n",
       "5410             0.0            0.0  ...            0.0            0.0   \n",
       "19970            0.0            0.0  ...            0.0            0.0   \n",
       "...              ...            ...  ...            ...            ...   \n",
       "13704            0.0            0.0  ...            0.0            0.0   \n",
       "16144            0.0            0.0  ...            0.0            0.0   \n",
       "8586             0.0            0.0  ...            0.0            0.0   \n",
       "4014             0.0            0.0  ...            0.0            0.0   \n",
       "21398            0.0            0.0  ...            0.0            0.0   \n",
       "\n",
       "       zipcode_98168  zipcode_98177  zipcode_98178  zipcode_98188  \\\n",
       "7847             0.0            0.0            0.0            0.0   \n",
       "13378            0.0            0.0            0.0            0.0   \n",
       "1017             1.0            0.0            0.0            0.0   \n",
       "5410             0.0            0.0            0.0            0.0   \n",
       "19970            0.0            0.0            0.0            0.0   \n",
       "...              ...            ...            ...            ...   \n",
       "13704            0.0            0.0            0.0            0.0   \n",
       "16144            0.0            0.0            0.0            0.0   \n",
       "8586             0.0            0.0            0.0            0.0   \n",
       "4014             0.0            0.0            0.0            0.0   \n",
       "21398            0.0            0.0            0.0            0.0   \n",
       "\n",
       "       zipcode_98198  zipcode_98199  sqft_living  sqft_basement  \n",
       "7847             0.0            0.0         3320          370.0  \n",
       "13378            0.0            0.0         1720            0.0  \n",
       "1017             0.0            0.0         1480            0.0  \n",
       "5410             0.0            0.0         3220            0.0  \n",
       "19970            0.0            0.0         4570            0.0  \n",
       "...              ...            ...          ...            ...  \n",
       "13704            0.0            0.0         3290          620.0  \n",
       "16144            0.0            0.0         1840            0.0  \n",
       "8586             0.0            0.0         1220            0.0  \n",
       "4014             0.0            0.0         1540            0.0  \n",
       "21398            0.0            0.0         2245            0.0  \n",
       "\n",
       "[17276 rows x 72 columns]"
      ]
     },
     "execution_count": 61,
     "metadata": {},
     "output_type": "execute_result"
    }
   ],
   "source": [
    "# create a copy of our original preprocessed X_train dataframe for original datapoints\n",
    "X_unscaled_df = X_train.copy()\n",
    "\n",
    "# only features we are interested in\n",
    "cont_subset = ['sqft_living', 'sqft_basement']\n",
    "cat_subset = ['waterfront', 'zipcode']\n",
    "\n",
    "# create dataframes\n",
    "X_unscaled_cat = X_unscaled_df.loc[:, cat_subset]\n",
    "X_unscaled_cont = X_unscaled_df.loc[:, cont_subset]\n",
    "\n",
    "# OneHotEncode categorical variables\n",
    "from sklearn.preprocessing import OneHotEncoder\n",
    "ohe = OneHotEncoder(drop='first') # we're dropping the first category created for each feature to prevent multicollinearity\n",
    "\n",
    "X_unscaled_ohe = ohe.fit_transform(X_unscaled_cat)\n",
    "\n",
    "# create pandas dataframe of one hot encoded categorical features\n",
    "columns = ohe.get_feature_names(input_features=X_unscaled_cat.columns)\n",
    "X_unscaled_cat = pd.DataFrame(X_unscaled_ohe.todense(), columns=columns, index=X_unscaled_df.index)\n",
    "\n",
    "# combine categorical and continuous features\n",
    "X_unscaled = pd.concat([X_unscaled_cat, X_unscaled_cont], axis=1)\n",
    "X_unscaled"
   ]
  },
  {
   "cell_type": "code",
   "execution_count": 62,
   "metadata": {},
   "outputs": [],
   "source": [
    "# create final dataframe of relevant columns of final model\n",
    "X_unscaled = X_unscaled[X_RFE_36.columns]\n",
    "\n",
    "# remove the same outliers from the unscaled dataframe as earlier\n",
    "X_unscaled, y_train = remove_outlier(outlier_list, X_unscaled, y_train)"
   ]
  },
  {
   "cell_type": "code",
   "execution_count": 63,
   "metadata": {
    "scrolled": true
   },
   "outputs": [
    {
     "name": "stdout",
     "output_type": "stream",
     "text": [
      "                            OLS Regression Results                            \n",
      "==============================================================================\n",
      "Dep. Variable:                  price   R-squared:                       0.791\n",
      "Model:                            OLS   Adj. R-squared:                  0.790\n",
      "Method:                 Least Squares   F-statistic:                     1806.\n",
      "Date:                Mon, 02 Nov 2020   Prob (F-statistic):               0.00\n",
      "Time:                        13:53:02   Log-Likelihood:                 105.88\n",
      "No. Observations:               17261   AIC:                            -137.8\n",
      "Df Residuals:                   17224   BIC:                             149.2\n",
      "Df Model:                          36                                         \n",
      "Covariance Type:            nonrobust                                         \n",
      "==================================================================================\n",
      "                     coef    std err          t      P>|t|      [0.025      0.975]\n",
      "----------------------------------------------------------------------------------\n",
      "const             12.0351      0.005   2369.218      0.000      12.025      12.045\n",
      "sqft_living        0.0004   2.41e-06    152.001      0.000       0.000       0.000\n",
      "sqft_basement  -7.739e-05   4.81e-06    -16.098      0.000   -8.68e-05    -6.8e-05\n",
      "waterfront_1.0     0.7214      0.023     31.756      0.000       0.677       0.766\n",
      "zipcode_98004      0.9342      0.016     58.960      0.000       0.903       0.965\n",
      "zipcode_98005      0.5808      0.022     26.909      0.000       0.539       0.623\n",
      "zipcode_98006      0.5043      0.013     39.905      0.000       0.480       0.529\n",
      "zipcode_98007      0.4778      0.024     20.207      0.000       0.431       0.524\n",
      "zipcode_98008      0.4671      0.016     28.307      0.000       0.435       0.499\n",
      "zipcode_98027      0.3175      0.014     23.507      0.000       0.291       0.344\n",
      "zipcode_98029      0.4102      0.015     26.890      0.000       0.380       0.440\n",
      "zipcode_98033      0.6037      0.013     45.407      0.000       0.578       0.630\n",
      "zipcode_98034      0.3415      0.012     28.810      0.000       0.318       0.365\n",
      "zipcode_98039      1.0644      0.038     27.742      0.000       0.989       1.140\n",
      "zipcode_98040      0.7531      0.017     45.479      0.000       0.721       0.786\n",
      "zipcode_98052      0.4464      0.012     38.473      0.000       0.424       0.469\n",
      "zipcode_98053      0.3736      0.014     26.972      0.000       0.346       0.401\n",
      "zipcode_98072      0.3172      0.016     19.599      0.000       0.285       0.349\n",
      "zipcode_98074      0.3752      0.013     28.865      0.000       0.350       0.401\n",
      "zipcode_98075      0.3865      0.015     26.289      0.000       0.358       0.415\n",
      "zipcode_98102      0.8010      0.026     31.041      0.000       0.750       0.852\n",
      "zipcode_98103      0.6002      0.011     53.067      0.000       0.578       0.622\n",
      "zipcode_98105      0.7589      0.018     43.319      0.000       0.725       0.793\n",
      "zipcode_98107      0.6314      0.017     37.830      0.000       0.599       0.664\n",
      "zipcode_98109      0.8505      0.027     32.014      0.000       0.798       0.903\n",
      "zipcode_98112      0.8663      0.017     52.254      0.000       0.834       0.899\n",
      "zipcode_98115      0.5994      0.012     51.828      0.000       0.577       0.622\n",
      "zipcode_98116      0.5905      0.015     39.067      0.000       0.561       0.620\n",
      "zipcode_98117      0.5867      0.012     50.599      0.000       0.564       0.609\n",
      "zipcode_98119      0.8466      0.020     42.521      0.000       0.808       0.886\n",
      "zipcode_98122      0.6213      0.016     38.096      0.000       0.589       0.653\n",
      "zipcode_98125      0.3378      0.014     24.818      0.000       0.311       0.364\n",
      "zipcode_98126      0.3116      0.015     20.689      0.000       0.282       0.341\n",
      "zipcode_98136      0.4899      0.016     29.735      0.000       0.458       0.522\n",
      "zipcode_98144      0.4643      0.015     31.247      0.000       0.435       0.493\n",
      "zipcode_98177      0.4363      0.017     25.335      0.000       0.403       0.470\n",
      "zipcode_98199      0.6907      0.016     44.161      0.000       0.660       0.721\n",
      "==============================================================================\n",
      "Omnibus:                      400.806   Durbin-Watson:                   2.001\n",
      "Prob(Omnibus):                  0.000   Jarque-Bera (JB):              906.275\n",
      "Skew:                           0.064   Prob(JB):                    1.60e-197\n",
      "Kurtosis:                       4.115   Cond. No.                     4.82e+04\n",
      "==============================================================================\n",
      "\n",
      "Warnings:\n",
      "[1] Standard Errors assume that the covariance matrix of the errors is correctly specified.\n",
      "[2] The condition number is large, 4.82e+04. This might indicate that there are\n",
      "strong multicollinearity or other numerical problems.\n"
     ]
    }
   ],
   "source": [
    "# fit the model one more time to get model results with unscaled coefficients\n",
    "unscaled_model = sm_lin_reg(X_unscaled, y_train)\n",
    "print(unscaled_model.summary())"
   ]
  },
  {
   "cell_type": "code",
   "execution_count": 64,
   "metadata": {
    "scrolled": false
   },
   "outputs": [
    {
     "name": "stdout",
     "output_type": "stream",
     "text": [
      "top 10 coefficients: \n",
      " const             12.035111\n",
      "zipcode_98039      1.064377\n",
      "zipcode_98004      0.934154\n",
      "zipcode_98112      0.866315\n",
      "zipcode_98109      0.850481\n",
      "zipcode_98119      0.846624\n",
      "zipcode_98102      0.801014\n",
      "zipcode_98105      0.758870\n",
      "zipcode_98040      0.753054\n",
      "waterfront_1.0     0.721422\n",
      "Name: coefficient, dtype: float64\n",
      "-----------\n",
      "bottom 10 coefficients: \n",
      " sqft_basement   -0.000077\n",
      "sqft_living      0.000367\n",
      "zipcode_98126    0.311614\n",
      "zipcode_98072    0.317169\n",
      "zipcode_98027    0.317529\n",
      "zipcode_98125    0.337793\n",
      "zipcode_98034    0.341467\n",
      "zipcode_98053    0.373633\n",
      "zipcode_98074    0.375230\n",
      "zipcode_98075    0.386514\n",
      "Name: coefficient, dtype: float64\n"
     ]
    }
   ],
   "source": [
    "# use the unscaled model's parameters to sort the coefficients\n",
    "results = pd.DataFrame(unscaled_model.params, columns=['coefficient'])\n",
    "\n",
    "# display top 10 results\n",
    "print('top 10 coefficients: \\n', results['coefficient'].sort_values(ascending=False)[:10])\n",
    "print('-----------')\n",
    "# display last 10 results\n",
    "print('bottom 10 coefficients: \\n', results['coefficient'].sort_values(ascending=True)[:10])"
   ]
  },
  {
   "cell_type": "markdown",
   "metadata": {},
   "source": [
    "#### interpreting the coefficients"
   ]
  },
  {
   "cell_type": "code",
   "execution_count": 65,
   "metadata": {},
   "outputs": [
    {
     "name": "stdout",
     "output_type": "stream",
     "text": [
      "percentage change of zipcode_98039: 189.9\n"
     ]
    }
   ],
   "source": [
    "# exponentiate the coefficient of zipcode_98039 (value: 1.064377)\n",
    "print('percentage change of zipcode_98039:', round(((np.exp(1.064377) - 1) * 100),2))"
   ]
  },
  {
   "cell_type": "markdown",
   "metadata": {},
   "source": [
    "> In other words, being in **zipcode 98112**, the average sale price **increases** by **189.9%**."
   ]
  },
  {
   "cell_type": "code",
   "execution_count": 66,
   "metadata": {
    "scrolled": true
   },
   "outputs": [
    {
     "name": "stdout",
     "output_type": "stream",
     "text": [
      "percentage change of waterfront_1.0: 105.74\n"
     ]
    }
   ],
   "source": [
    "# exponentiate the coefficient of waterfront_1.0 (value: 0.721422)\n",
    "print('percentage change of waterfront_1.0:', round(((np.exp(0.721422) - 1) * 100),2))"
   ]
  },
  {
   "cell_type": "markdown",
   "metadata": {},
   "source": [
    "> In other words, having a **waterfront** property increases the average sale price by **105.74%.**"
   ]
  },
  {
   "cell_type": "code",
   "execution_count": 68,
   "metadata": {},
   "outputs": [
    {
     "name": "stdout",
     "output_type": "stream",
     "text": [
      "percentage change of sqft_living: 0.04\n"
     ]
    }
   ],
   "source": [
    "# exponentiate the coefficient of sqft_living (value: 0.000367)\n",
    "print('percentage change of sqft_living:', round(((np.exp(0.000367) - 1) * 100),2))"
   ]
  },
  {
   "cell_type": "markdown",
   "metadata": {},
   "source": [
    "> In other words, increasing the square foot of living space by 1 unit results in a **.04%** increase in the average sale price of the home."
   ]
  },
  {
   "cell_type": "markdown",
   "metadata": {},
   "source": [
    "Let's confirm our results make sense by looking at the average home prices of zipcodes with the 2 highest coefficients (98039 and 98004) and the average home prices of the zipcodes with the lowest coefficients (98072 and 98126)."
   ]
  },
  {
   "cell_type": "code",
   "execution_count": 86,
   "metadata": {},
   "outputs": [
    {
     "data": {
      "image/png": "[encoded data removed]",
      "text/plain": [
       "<Figure size 432x288 with 1 Axes>"
      ]
     },
     "metadata": {
      "needs_background": "light"
     },
     "output_type": "display_data"
    }
   ],
   "source": [
    "values_98039 = data[data.zipcode == 98039].price.mean()\n",
    "values_98004 = data[data.zipcode == 98004].price.mean()\n",
    "values_98072 = data[data.zipcode == 98072].price.mean()\n",
    "values_98126 = data[data.zipcode == 98126].price.mean()\n",
    "\n",
    "fig = plt.figure()\n",
    "ax = fig.add_axes([0,0,1,1])\n",
    "zipcodes = ['98039', '98004', '98072', '98126']\n",
    "avg_prices = [values_98039, values_98004, values_98072, values_98126]\n",
    "ax.bar(zipcodes, avg_prices)\n",
    "ax.set_xlabel('zipcode')\n",
    "ax.set_ylabel('home price')\n",
    "ax.set_title('average home value by zipcode')\n",
    "plt.show()"
   ]
  },
  {
   "cell_type": "markdown",
   "metadata": {},
   "source": [
    "> We do see that the average home value is significantly higher in 98039 and 98004, as demonstrated by our model's results."
   ]
  },
  {
   "cell_type": "markdown",
   "metadata": {},
   "source": [
    "### Conclusion"
   ]
  },
  {
   "cell_type": "markdown",
   "metadata": {},
   "source": [
    "We see that relative to other predictors, the property's **zipcode** has the most impact on the average sale price of the home, with properties in zipcode 98039 having the highest impact on the average sale price. This conclusion makes sense as certain tracts of land could be better positioned for higher average home values, whether it be a geographical advantage, socioeconomic effects, or neighborhood factors like school systems, community, and crime rates.\n",
    "\n",
    "Alternatively, we see predictors like **sqft_basement** and the **zipcode_98126** assigned to the property having the lowest relative impact on the average sale price.\n",
    "\n",
    "Interesting to note - **sqft_living** has a small coefficient, but that is because the raw data values are large (home sizes are usually 1000+ square feet).\n",
    "\n",
    "The conclusion is that there are no immediate, highly impactful actions to take to maximize profit when selling their home, as it isn't feasible to transplant their home into one of the zipcodes that had higher average home values, as modeled by the data. However, if possible, increasing the square footage of the living space can provide a slight bump in the average sale price of a home."
   ]
  },
  {
   "cell_type": "markdown",
   "metadata": {},
   "source": [
    "<img src=\"images/Snoqualmie_Falls.jpeg\" width=450>"
   ]
  },
  {
   "cell_type": "markdown",
   "metadata": {},
   "source": [
    "<center><i> Snoqualmie Falls in King County</i></center>"
   ]
  }
 ],
 "metadata": {
  "kernelspec": {
   "display_name": "Python [conda env:learn-env] *",
   "language": "python",
   "name": "conda-env-learn-env-py"
  },
  "language_info": {
   "codemirror_mode": {
    "name": "ipython",
    "version": 3
   },
   "file_extension": ".py",
   "mimetype": "text/x-python",
   "name": "python",
   "nbconvert_exporter": "python",
   "pygments_lexer": "ipython3",
   "version": "3.6.9"
  }
 },
 "nbformat": 4,
 "nbformat_minor": 2
}
