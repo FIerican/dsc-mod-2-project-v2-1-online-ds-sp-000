{
 "cells": [
  {
   "cell_type": "markdown",
   "metadata": {},
   "source": [
    "## Final Project Submission\n",
    "\n",
    "Please fill out:\n",
    "* Student name: Eric An\n",
    "* Student pace: self paced\n",
    "* Scheduled project review date/time: TBD\n",
    "* Instructor name: Jeff Herman\n",
    "* Blog post URL: TBD"
   ]
  },
  {
   "cell_type": "markdown",
   "metadata": {},
   "source": [
    "# Business Understanding"
   ]
  },
  {
   "cell_type": "markdown",
   "metadata": {},
   "source": [
    "This notebook will examine the King County House Sales dataset and come up with a model using multivariate linear regression to predict the sale price of houses as accurately as possible, while also examining what factors most influence the average sale price of a home. The experiment is to determine if there are certain factors that can be taken advantage of to maximize a resident's profit when selling their home."
   ]
  },
  {
   "cell_type": "markdown",
   "metadata": {},
   "source": [
    "# Data Preparation"
   ]
  },
  {
   "cell_type": "markdown",
   "metadata": {},
   "source": [
    "### Libraries"
   ]
  },
  {
   "cell_type": "code",
   "execution_count": 39,
   "metadata": {},
   "outputs": [],
   "source": [
    "import pandas as pd\n",
    "import numpy as np\n",
    "import matplotlib.pyplot as plt\n",
    "%matplotlib inline\n",
    "import seaborn as sns\n",
    "from statsmodels.formula.api import ols\n",
    "import statsmodels.api as sm\n",
    "import statsmodels.formula.api as smf\n",
    "from sklearn.linear_model import LinearRegression\n",
    "from sklearn.metrics import mean_squared_error, r2_score\n",
    "from sklearn import model_selection\n",
    "from sklearn.model_selection import train_test_split\n",
    "from sklearn.model_selection import KFold\n",
    "from sklearn.model_selection import cross_val_score"
   ]
  },
  {
   "cell_type": "markdown",
   "metadata": {},
   "source": [
    "### Preprocessing"
   ]
  },
  {
   "cell_type": "code",
   "execution_count": 2,
   "metadata": {
    "scrolled": true
   },
   "outputs": [],
   "source": [
    "df = pd.read_csv('kc_house_data.csv')"
   ]
  },
  {
   "cell_type": "markdown",
   "metadata": {},
   "source": [
    "#### dataset exploration"
   ]
  },
  {
   "cell_type": "code",
   "execution_count": 3,
   "metadata": {},
   "outputs": [
    {
     "data": {
      "text/html": [
       "<div>\n",
       "<style scoped>\n",
       "    .dataframe tbody tr th:only-of-type {\n",
       "        vertical-align: middle;\n",
       "    }\n",
       "\n",
       "    .dataframe tbody tr th {\n",
       "        vertical-align: top;\n",
       "    }\n",
       "\n",
       "    .dataframe thead th {\n",
       "        text-align: right;\n",
       "    }\n",
       "</style>\n",
       "<table border=\"1\" class=\"dataframe\">\n",
       "  <thead>\n",
       "    <tr style=\"text-align: right;\">\n",
       "      <th></th>\n",
       "      <th>id</th>\n",
       "      <th>date</th>\n",
       "      <th>price</th>\n",
       "      <th>bedrooms</th>\n",
       "      <th>bathrooms</th>\n",
       "      <th>sqft_living</th>\n",
       "      <th>sqft_lot</th>\n",
       "      <th>floors</th>\n",
       "      <th>waterfront</th>\n",
       "      <th>view</th>\n",
       "      <th>...</th>\n",
       "      <th>grade</th>\n",
       "      <th>sqft_above</th>\n",
       "      <th>sqft_basement</th>\n",
       "      <th>yr_built</th>\n",
       "      <th>yr_renovated</th>\n",
       "      <th>zipcode</th>\n",
       "      <th>lat</th>\n",
       "      <th>long</th>\n",
       "      <th>sqft_living15</th>\n",
       "      <th>sqft_lot15</th>\n",
       "    </tr>\n",
       "  </thead>\n",
       "  <tbody>\n",
       "    <tr>\n",
       "      <th>0</th>\n",
       "      <td>7129300520</td>\n",
       "      <td>10/13/2014</td>\n",
       "      <td>221900.0</td>\n",
       "      <td>3</td>\n",
       "      <td>1.00</td>\n",
       "      <td>1180</td>\n",
       "      <td>5650</td>\n",
       "      <td>1.0</td>\n",
       "      <td>NaN</td>\n",
       "      <td>0.0</td>\n",
       "      <td>...</td>\n",
       "      <td>7</td>\n",
       "      <td>1180</td>\n",
       "      <td>0.0</td>\n",
       "      <td>1955</td>\n",
       "      <td>0.0</td>\n",
       "      <td>98178</td>\n",
       "      <td>47.5112</td>\n",
       "      <td>-122.257</td>\n",
       "      <td>1340</td>\n",
       "      <td>5650</td>\n",
       "    </tr>\n",
       "    <tr>\n",
       "      <th>1</th>\n",
       "      <td>6414100192</td>\n",
       "      <td>12/9/2014</td>\n",
       "      <td>538000.0</td>\n",
       "      <td>3</td>\n",
       "      <td>2.25</td>\n",
       "      <td>2570</td>\n",
       "      <td>7242</td>\n",
       "      <td>2.0</td>\n",
       "      <td>0.0</td>\n",
       "      <td>0.0</td>\n",
       "      <td>...</td>\n",
       "      <td>7</td>\n",
       "      <td>2170</td>\n",
       "      <td>400.0</td>\n",
       "      <td>1951</td>\n",
       "      <td>1991.0</td>\n",
       "      <td>98125</td>\n",
       "      <td>47.7210</td>\n",
       "      <td>-122.319</td>\n",
       "      <td>1690</td>\n",
       "      <td>7639</td>\n",
       "    </tr>\n",
       "    <tr>\n",
       "      <th>2</th>\n",
       "      <td>5631500400</td>\n",
       "      <td>2/25/2015</td>\n",
       "      <td>180000.0</td>\n",
       "      <td>2</td>\n",
       "      <td>1.00</td>\n",
       "      <td>770</td>\n",
       "      <td>10000</td>\n",
       "      <td>1.0</td>\n",
       "      <td>0.0</td>\n",
       "      <td>0.0</td>\n",
       "      <td>...</td>\n",
       "      <td>6</td>\n",
       "      <td>770</td>\n",
       "      <td>0.0</td>\n",
       "      <td>1933</td>\n",
       "      <td>NaN</td>\n",
       "      <td>98028</td>\n",
       "      <td>47.7379</td>\n",
       "      <td>-122.233</td>\n",
       "      <td>2720</td>\n",
       "      <td>8062</td>\n",
       "    </tr>\n",
       "    <tr>\n",
       "      <th>3</th>\n",
       "      <td>2487200875</td>\n",
       "      <td>12/9/2014</td>\n",
       "      <td>604000.0</td>\n",
       "      <td>4</td>\n",
       "      <td>3.00</td>\n",
       "      <td>1960</td>\n",
       "      <td>5000</td>\n",
       "      <td>1.0</td>\n",
       "      <td>0.0</td>\n",
       "      <td>0.0</td>\n",
       "      <td>...</td>\n",
       "      <td>7</td>\n",
       "      <td>1050</td>\n",
       "      <td>910.0</td>\n",
       "      <td>1965</td>\n",
       "      <td>0.0</td>\n",
       "      <td>98136</td>\n",
       "      <td>47.5208</td>\n",
       "      <td>-122.393</td>\n",
       "      <td>1360</td>\n",
       "      <td>5000</td>\n",
       "    </tr>\n",
       "    <tr>\n",
       "      <th>4</th>\n",
       "      <td>1954400510</td>\n",
       "      <td>2/18/2015</td>\n",
       "      <td>510000.0</td>\n",
       "      <td>3</td>\n",
       "      <td>2.00</td>\n",
       "      <td>1680</td>\n",
       "      <td>8080</td>\n",
       "      <td>1.0</td>\n",
       "      <td>0.0</td>\n",
       "      <td>0.0</td>\n",
       "      <td>...</td>\n",
       "      <td>8</td>\n",
       "      <td>1680</td>\n",
       "      <td>0.0</td>\n",
       "      <td>1987</td>\n",
       "      <td>0.0</td>\n",
       "      <td>98074</td>\n",
       "      <td>47.6168</td>\n",
       "      <td>-122.045</td>\n",
       "      <td>1800</td>\n",
       "      <td>7503</td>\n",
       "    </tr>\n",
       "  </tbody>\n",
       "</table>\n",
       "<p>5 rows × 21 columns</p>\n",
       "</div>"
      ],
      "text/plain": [
       "           id        date     price  bedrooms  bathrooms  sqft_living  \\\n",
       "0  7129300520  10/13/2014  221900.0         3       1.00         1180   \n",
       "1  6414100192   12/9/2014  538000.0         3       2.25         2570   \n",
       "2  5631500400   2/25/2015  180000.0         2       1.00          770   \n",
       "3  2487200875   12/9/2014  604000.0         4       3.00         1960   \n",
       "4  1954400510   2/18/2015  510000.0         3       2.00         1680   \n",
       "\n",
       "   sqft_lot  floors  waterfront  view  ...  grade  sqft_above  sqft_basement  \\\n",
       "0      5650     1.0         NaN   0.0  ...      7        1180            0.0   \n",
       "1      7242     2.0         0.0   0.0  ...      7        2170          400.0   \n",
       "2     10000     1.0         0.0   0.0  ...      6         770            0.0   \n",
       "3      5000     1.0         0.0   0.0  ...      7        1050          910.0   \n",
       "4      8080     1.0         0.0   0.0  ...      8        1680            0.0   \n",
       "\n",
       "  yr_built  yr_renovated  zipcode      lat     long  sqft_living15  sqft_lot15  \n",
       "0     1955           0.0    98178  47.5112 -122.257           1340        5650  \n",
       "1     1951        1991.0    98125  47.7210 -122.319           1690        7639  \n",
       "2     1933           NaN    98028  47.7379 -122.233           2720        8062  \n",
       "3     1965           0.0    98136  47.5208 -122.393           1360        5000  \n",
       "4     1987           0.0    98074  47.6168 -122.045           1800        7503  \n",
       "\n",
       "[5 rows x 21 columns]"
      ]
     },
     "metadata": {},
     "output_type": "display_data"
    },
    {
     "name": "stdout",
     "output_type": "stream",
     "text": [
      "<class 'pandas.core.frame.DataFrame'>\n",
      "RangeIndex: 21597 entries, 0 to 21596\n",
      "Data columns (total 21 columns):\n",
      " #   Column         Non-Null Count  Dtype  \n",
      "---  ------         --------------  -----  \n",
      " 0   id             21597 non-null  int64  \n",
      " 1   date           21597 non-null  object \n",
      " 2   price          21597 non-null  float64\n",
      " 3   bedrooms       21597 non-null  int64  \n",
      " 4   bathrooms      21597 non-null  float64\n",
      " 5   sqft_living    21597 non-null  int64  \n",
      " 6   sqft_lot       21597 non-null  int64  \n",
      " 7   floors         21597 non-null  float64\n",
      " 8   waterfront     19221 non-null  float64\n",
      " 9   view           21534 non-null  float64\n",
      " 10  condition      21597 non-null  int64  \n",
      " 11  grade          21597 non-null  int64  \n",
      " 12  sqft_above     21597 non-null  int64  \n",
      " 13  sqft_basement  21597 non-null  object \n",
      " 14  yr_built       21597 non-null  int64  \n",
      " 15  yr_renovated   17755 non-null  float64\n",
      " 16  zipcode        21597 non-null  int64  \n",
      " 17  lat            21597 non-null  float64\n",
      " 18  long           21597 non-null  float64\n",
      " 19  sqft_living15  21597 non-null  int64  \n",
      " 20  sqft_lot15     21597 non-null  int64  \n",
      "dtypes: float64(8), int64(11), object(2)\n",
      "memory usage: 3.5+ MB\n"
     ]
    },
    {
     "data": {
      "text/plain": [
       "None"
      ]
     },
     "metadata": {},
     "output_type": "display_data"
    }
   ],
   "source": [
    "display(df.head())\n",
    "display(df.info())"
   ]
  },
  {
   "cell_type": "markdown",
   "metadata": {},
   "source": [
    "> **Observations:** We see the feature `sqft_basement` classified as an `object`, when it should be a integer value. From the category mapping file, we also recognize several features that should be classified as `category` or `object` (ie. `view`, `waterfront`, `grade`, `condition`, `zipcode`)"
   ]
  },
  {
   "cell_type": "code",
   "execution_count": 4,
   "metadata": {
    "scrolled": false
   },
   "outputs": [
    {
     "data": {
      "text/html": [
       "<div>\n",
       "<style scoped>\n",
       "    .dataframe tbody tr th:only-of-type {\n",
       "        vertical-align: middle;\n",
       "    }\n",
       "\n",
       "    .dataframe tbody tr th {\n",
       "        vertical-align: top;\n",
       "    }\n",
       "\n",
       "    .dataframe thead th {\n",
       "        text-align: right;\n",
       "    }\n",
       "</style>\n",
       "<table border=\"1\" class=\"dataframe\">\n",
       "  <thead>\n",
       "    <tr style=\"text-align: right;\">\n",
       "      <th></th>\n",
       "      <th>id</th>\n",
       "      <th>price</th>\n",
       "      <th>bedrooms</th>\n",
       "      <th>bathrooms</th>\n",
       "      <th>sqft_living</th>\n",
       "      <th>sqft_lot</th>\n",
       "      <th>floors</th>\n",
       "      <th>waterfront</th>\n",
       "      <th>view</th>\n",
       "      <th>condition</th>\n",
       "      <th>grade</th>\n",
       "      <th>sqft_above</th>\n",
       "      <th>yr_built</th>\n",
       "      <th>yr_renovated</th>\n",
       "      <th>zipcode</th>\n",
       "      <th>lat</th>\n",
       "      <th>long</th>\n",
       "      <th>sqft_living15</th>\n",
       "      <th>sqft_lot15</th>\n",
       "    </tr>\n",
       "  </thead>\n",
       "  <tbody>\n",
       "    <tr>\n",
       "      <th>count</th>\n",
       "      <td>2.159700e+04</td>\n",
       "      <td>2.159700e+04</td>\n",
       "      <td>21597.000000</td>\n",
       "      <td>21597.000000</td>\n",
       "      <td>21597.000000</td>\n",
       "      <td>2.159700e+04</td>\n",
       "      <td>21597.000000</td>\n",
       "      <td>19221.000000</td>\n",
       "      <td>21534.000000</td>\n",
       "      <td>21597.000000</td>\n",
       "      <td>21597.000000</td>\n",
       "      <td>21597.000000</td>\n",
       "      <td>21597.000000</td>\n",
       "      <td>17755.000000</td>\n",
       "      <td>21597.000000</td>\n",
       "      <td>21597.000000</td>\n",
       "      <td>21597.000000</td>\n",
       "      <td>21597.000000</td>\n",
       "      <td>21597.000000</td>\n",
       "    </tr>\n",
       "    <tr>\n",
       "      <th>mean</th>\n",
       "      <td>4.580474e+09</td>\n",
       "      <td>5.402966e+05</td>\n",
       "      <td>3.373200</td>\n",
       "      <td>2.115826</td>\n",
       "      <td>2080.321850</td>\n",
       "      <td>1.509941e+04</td>\n",
       "      <td>1.494096</td>\n",
       "      <td>0.007596</td>\n",
       "      <td>0.233863</td>\n",
       "      <td>3.409825</td>\n",
       "      <td>7.657915</td>\n",
       "      <td>1788.596842</td>\n",
       "      <td>1970.999676</td>\n",
       "      <td>83.636778</td>\n",
       "      <td>98077.951845</td>\n",
       "      <td>47.560093</td>\n",
       "      <td>-122.213982</td>\n",
       "      <td>1986.620318</td>\n",
       "      <td>12758.283512</td>\n",
       "    </tr>\n",
       "    <tr>\n",
       "      <th>std</th>\n",
       "      <td>2.876736e+09</td>\n",
       "      <td>3.673681e+05</td>\n",
       "      <td>0.926299</td>\n",
       "      <td>0.768984</td>\n",
       "      <td>918.106125</td>\n",
       "      <td>4.141264e+04</td>\n",
       "      <td>0.539683</td>\n",
       "      <td>0.086825</td>\n",
       "      <td>0.765686</td>\n",
       "      <td>0.650546</td>\n",
       "      <td>1.173200</td>\n",
       "      <td>827.759761</td>\n",
       "      <td>29.375234</td>\n",
       "      <td>399.946414</td>\n",
       "      <td>53.513072</td>\n",
       "      <td>0.138552</td>\n",
       "      <td>0.140724</td>\n",
       "      <td>685.230472</td>\n",
       "      <td>27274.441950</td>\n",
       "    </tr>\n",
       "    <tr>\n",
       "      <th>min</th>\n",
       "      <td>1.000102e+06</td>\n",
       "      <td>7.800000e+04</td>\n",
       "      <td>1.000000</td>\n",
       "      <td>0.500000</td>\n",
       "      <td>370.000000</td>\n",
       "      <td>5.200000e+02</td>\n",
       "      <td>1.000000</td>\n",
       "      <td>0.000000</td>\n",
       "      <td>0.000000</td>\n",
       "      <td>1.000000</td>\n",
       "      <td>3.000000</td>\n",
       "      <td>370.000000</td>\n",
       "      <td>1900.000000</td>\n",
       "      <td>0.000000</td>\n",
       "      <td>98001.000000</td>\n",
       "      <td>47.155900</td>\n",
       "      <td>-122.519000</td>\n",
       "      <td>399.000000</td>\n",
       "      <td>651.000000</td>\n",
       "    </tr>\n",
       "    <tr>\n",
       "      <th>25%</th>\n",
       "      <td>2.123049e+09</td>\n",
       "      <td>3.220000e+05</td>\n",
       "      <td>3.000000</td>\n",
       "      <td>1.750000</td>\n",
       "      <td>1430.000000</td>\n",
       "      <td>5.040000e+03</td>\n",
       "      <td>1.000000</td>\n",
       "      <td>0.000000</td>\n",
       "      <td>0.000000</td>\n",
       "      <td>3.000000</td>\n",
       "      <td>7.000000</td>\n",
       "      <td>1190.000000</td>\n",
       "      <td>1951.000000</td>\n",
       "      <td>0.000000</td>\n",
       "      <td>98033.000000</td>\n",
       "      <td>47.471100</td>\n",
       "      <td>-122.328000</td>\n",
       "      <td>1490.000000</td>\n",
       "      <td>5100.000000</td>\n",
       "    </tr>\n",
       "    <tr>\n",
       "      <th>50%</th>\n",
       "      <td>3.904930e+09</td>\n",
       "      <td>4.500000e+05</td>\n",
       "      <td>3.000000</td>\n",
       "      <td>2.250000</td>\n",
       "      <td>1910.000000</td>\n",
       "      <td>7.618000e+03</td>\n",
       "      <td>1.500000</td>\n",
       "      <td>0.000000</td>\n",
       "      <td>0.000000</td>\n",
       "      <td>3.000000</td>\n",
       "      <td>7.000000</td>\n",
       "      <td>1560.000000</td>\n",
       "      <td>1975.000000</td>\n",
       "      <td>0.000000</td>\n",
       "      <td>98065.000000</td>\n",
       "      <td>47.571800</td>\n",
       "      <td>-122.231000</td>\n",
       "      <td>1840.000000</td>\n",
       "      <td>7620.000000</td>\n",
       "    </tr>\n",
       "    <tr>\n",
       "      <th>75%</th>\n",
       "      <td>7.308900e+09</td>\n",
       "      <td>6.450000e+05</td>\n",
       "      <td>4.000000</td>\n",
       "      <td>2.500000</td>\n",
       "      <td>2550.000000</td>\n",
       "      <td>1.068500e+04</td>\n",
       "      <td>2.000000</td>\n",
       "      <td>0.000000</td>\n",
       "      <td>0.000000</td>\n",
       "      <td>4.000000</td>\n",
       "      <td>8.000000</td>\n",
       "      <td>2210.000000</td>\n",
       "      <td>1997.000000</td>\n",
       "      <td>0.000000</td>\n",
       "      <td>98118.000000</td>\n",
       "      <td>47.678000</td>\n",
       "      <td>-122.125000</td>\n",
       "      <td>2360.000000</td>\n",
       "      <td>10083.000000</td>\n",
       "    </tr>\n",
       "    <tr>\n",
       "      <th>max</th>\n",
       "      <td>9.900000e+09</td>\n",
       "      <td>7.700000e+06</td>\n",
       "      <td>33.000000</td>\n",
       "      <td>8.000000</td>\n",
       "      <td>13540.000000</td>\n",
       "      <td>1.651359e+06</td>\n",
       "      <td>3.500000</td>\n",
       "      <td>1.000000</td>\n",
       "      <td>4.000000</td>\n",
       "      <td>5.000000</td>\n",
       "      <td>13.000000</td>\n",
       "      <td>9410.000000</td>\n",
       "      <td>2015.000000</td>\n",
       "      <td>2015.000000</td>\n",
       "      <td>98199.000000</td>\n",
       "      <td>47.777600</td>\n",
       "      <td>-121.315000</td>\n",
       "      <td>6210.000000</td>\n",
       "      <td>871200.000000</td>\n",
       "    </tr>\n",
       "  </tbody>\n",
       "</table>\n",
       "</div>"
      ],
      "text/plain": [
       "                 id         price      bedrooms     bathrooms   sqft_living  \\\n",
       "count  2.159700e+04  2.159700e+04  21597.000000  21597.000000  21597.000000   \n",
       "mean   4.580474e+09  5.402966e+05      3.373200      2.115826   2080.321850   \n",
       "std    2.876736e+09  3.673681e+05      0.926299      0.768984    918.106125   \n",
       "min    1.000102e+06  7.800000e+04      1.000000      0.500000    370.000000   \n",
       "25%    2.123049e+09  3.220000e+05      3.000000      1.750000   1430.000000   \n",
       "50%    3.904930e+09  4.500000e+05      3.000000      2.250000   1910.000000   \n",
       "75%    7.308900e+09  6.450000e+05      4.000000      2.500000   2550.000000   \n",
       "max    9.900000e+09  7.700000e+06     33.000000      8.000000  13540.000000   \n",
       "\n",
       "           sqft_lot        floors    waterfront          view     condition  \\\n",
       "count  2.159700e+04  21597.000000  19221.000000  21534.000000  21597.000000   \n",
       "mean   1.509941e+04      1.494096      0.007596      0.233863      3.409825   \n",
       "std    4.141264e+04      0.539683      0.086825      0.765686      0.650546   \n",
       "min    5.200000e+02      1.000000      0.000000      0.000000      1.000000   \n",
       "25%    5.040000e+03      1.000000      0.000000      0.000000      3.000000   \n",
       "50%    7.618000e+03      1.500000      0.000000      0.000000      3.000000   \n",
       "75%    1.068500e+04      2.000000      0.000000      0.000000      4.000000   \n",
       "max    1.651359e+06      3.500000      1.000000      4.000000      5.000000   \n",
       "\n",
       "              grade    sqft_above      yr_built  yr_renovated       zipcode  \\\n",
       "count  21597.000000  21597.000000  21597.000000  17755.000000  21597.000000   \n",
       "mean       7.657915   1788.596842   1970.999676     83.636778  98077.951845   \n",
       "std        1.173200    827.759761     29.375234    399.946414     53.513072   \n",
       "min        3.000000    370.000000   1900.000000      0.000000  98001.000000   \n",
       "25%        7.000000   1190.000000   1951.000000      0.000000  98033.000000   \n",
       "50%        7.000000   1560.000000   1975.000000      0.000000  98065.000000   \n",
       "75%        8.000000   2210.000000   1997.000000      0.000000  98118.000000   \n",
       "max       13.000000   9410.000000   2015.000000   2015.000000  98199.000000   \n",
       "\n",
       "                lat          long  sqft_living15     sqft_lot15  \n",
       "count  21597.000000  21597.000000   21597.000000   21597.000000  \n",
       "mean      47.560093   -122.213982    1986.620318   12758.283512  \n",
       "std        0.138552      0.140724     685.230472   27274.441950  \n",
       "min       47.155900   -122.519000     399.000000     651.000000  \n",
       "25%       47.471100   -122.328000    1490.000000    5100.000000  \n",
       "50%       47.571800   -122.231000    1840.000000    7620.000000  \n",
       "75%       47.678000   -122.125000    2360.000000   10083.000000  \n",
       "max       47.777600   -121.315000    6210.000000  871200.000000  "
      ]
     },
     "execution_count": 4,
     "metadata": {},
     "output_type": "execute_result"
    }
   ],
   "source": [
    "df.describe()"
   ]
  },
  {
   "cell_type": "markdown",
   "metadata": {},
   "source": [
    "> **Observations:** The maximum value of `bedrooms` is 33, a potentially significant outlier when 75% of the data is 4 bedrooms or less (same reasoning can be applied to `sqft_living`, `sqft_above`, `sqft_living15`, `sqft_lot15`)"
   ]
  },
  {
   "cell_type": "code",
   "execution_count": 5,
   "metadata": {
    "scrolled": true
   },
   "outputs": [
    {
     "name": "stdout",
     "output_type": "stream",
     "text": [
      "id 795000620     0.000139\n",
      "1825069031    0.000093\n",
      "2019200220    0.000093\n",
      "7129304540    0.000093\n",
      "1781500435    0.000093\n",
      "                ...   \n",
      "7812801125    0.000046\n",
      "4364700875    0.000046\n",
      "3021059276    0.000046\n",
      "880000205     0.000046\n",
      "1777500160    0.000046\n",
      "Name: id, Length: 21420, dtype: float64\n",
      "\n",
      "\n",
      "date 6/23/2014    0.006575\n",
      "6/25/2014    0.006066\n",
      "6/26/2014    0.006066\n",
      "7/8/2014     0.005880\n",
      "4/27/2015    0.005834\n",
      "               ...   \n",
      "8/3/2014     0.000046\n",
      "1/10/2015    0.000046\n",
      "1/17/2015    0.000046\n",
      "3/8/2015     0.000046\n",
      "8/30/2014    0.000046\n",
      "Name: date, Length: 372, dtype: float64\n",
      "\n",
      "\n",
      "price 350000.0    0.007964\n",
      "450000.0    0.007964\n",
      "550000.0    0.007362\n",
      "500000.0    0.007038\n",
      "425000.0    0.006945\n",
      "              ...   \n",
      "870515.0    0.000046\n",
      "336950.0    0.000046\n",
      "386100.0    0.000046\n",
      "176250.0    0.000046\n",
      "884744.0    0.000046\n",
      "Name: price, Length: 3622, dtype: float64\n",
      "\n",
      "\n",
      "bedrooms 3     0.454878\n",
      "4     0.318655\n",
      "2     0.127796\n",
      "5     0.074131\n",
      "6     0.012594\n",
      "1     0.009075\n",
      "7     0.001760\n",
      "8     0.000602\n",
      "9     0.000278\n",
      "10    0.000139\n",
      "11    0.000046\n",
      "33    0.000046\n",
      "Name: bedrooms, dtype: float64\n",
      "\n",
      "\n",
      "bathrooms 2.50    0.248970\n",
      "1.00    0.178312\n",
      "1.75    0.141131\n",
      "2.25    0.094782\n",
      "2.00    0.089364\n",
      "1.50    0.066907\n",
      "2.75    0.054869\n",
      "3.00    0.034866\n",
      "3.50    0.033847\n",
      "3.25    0.027272\n",
      "3.75    0.007177\n",
      "4.00    0.006297\n",
      "4.50    0.004630\n",
      "4.25    0.003658\n",
      "0.75    0.003287\n",
      "4.75    0.001065\n",
      "5.00    0.000972\n",
      "5.25    0.000602\n",
      "5.50    0.000463\n",
      "1.25    0.000417\n",
      "6.00    0.000278\n",
      "5.75    0.000185\n",
      "0.50    0.000185\n",
      "8.00    0.000093\n",
      "6.25    0.000093\n",
      "6.75    0.000093\n",
      "6.50    0.000093\n",
      "7.50    0.000046\n",
      "7.75    0.000046\n",
      "Name: bathrooms, dtype: float64\n",
      "\n",
      "\n",
      "sqft_living 1300    0.006390\n",
      "1400    0.006251\n",
      "1440    0.006158\n",
      "1660    0.005973\n",
      "1010    0.005973\n",
      "          ...   \n",
      "4970    0.000046\n",
      "2905    0.000046\n",
      "2793    0.000046\n",
      "4810    0.000046\n",
      "1975    0.000046\n",
      "Name: sqft_living, Length: 1034, dtype: float64\n",
      "\n",
      "\n",
      "sqft_lot 5000      0.016576\n",
      "6000      0.013428\n",
      "4000      0.011622\n",
      "7200      0.010187\n",
      "7500      0.005510\n",
      "            ...   \n",
      "1448      0.000046\n",
      "38884     0.000046\n",
      "17313     0.000046\n",
      "35752     0.000046\n",
      "315374    0.000046\n",
      "Name: sqft_lot, Length: 9776, dtype: float64\n",
      "\n",
      "\n",
      "floors 1.0    0.494189\n",
      "2.0    0.381303\n",
      "1.5    0.088438\n",
      "3.0    0.028291\n",
      "2.5    0.007455\n",
      "3.5    0.000324\n",
      "Name: floors, dtype: float64\n",
      "\n",
      "\n",
      "waterfront 0.0    0.992404\n",
      "1.0    0.007596\n",
      "Name: waterfront, dtype: float64\n",
      "\n",
      "\n",
      "view 0.0    0.901923\n",
      "2.0    0.044441\n",
      "3.0    0.023591\n",
      "1.0    0.015325\n",
      "4.0    0.014721\n",
      "Name: view, dtype: float64\n",
      "\n",
      "\n",
      "condition 3    0.649164\n",
      "4    0.262861\n",
      "5    0.078761\n",
      "2    0.007871\n",
      "1    0.001343\n",
      "Name: condition, dtype: float64\n",
      "\n",
      "\n",
      "grade 7     0.415521\n",
      "8     0.280826\n",
      "9     0.121082\n",
      "6     0.094365\n",
      "10    0.052507\n",
      "11    0.018475\n",
      "5     0.011205\n",
      "12    0.004121\n",
      "4     0.001250\n",
      "13    0.000602\n",
      "3     0.000046\n",
      "Name: grade, dtype: float64\n",
      "\n",
      "\n",
      "sqft_above 1300    0.009816\n",
      "1010    0.009724\n",
      "1200    0.009538\n",
      "1220    0.008890\n",
      "1140    0.008520\n",
      "          ...   \n",
      "2601    0.000046\n",
      "440     0.000046\n",
      "2473    0.000046\n",
      "2441    0.000046\n",
      "1975    0.000046\n",
      "Name: sqft_above, Length: 942, dtype: float64\n",
      "\n",
      "\n",
      "sqft_basement 0.0       0.593879\n",
      "?         0.021021\n",
      "600.0     0.010048\n",
      "500.0     0.009677\n",
      "700.0     0.009631\n",
      "            ...   \n",
      "915.0     0.000046\n",
      "1248.0    0.000046\n",
      "518.0     0.000046\n",
      "274.0     0.000046\n",
      "666.0     0.000046\n",
      "Name: sqft_basement, Length: 304, dtype: float64\n",
      "\n",
      "\n",
      "yr_built 2014    0.025883\n",
      "2006    0.020975\n",
      "2005    0.020836\n",
      "2004    0.020049\n",
      "2003    0.019447\n",
      "          ...   \n",
      "1933    0.001389\n",
      "1901    0.001343\n",
      "1902    0.001250\n",
      "1935    0.001111\n",
      "1934    0.000972\n",
      "Name: yr_built, Length: 116, dtype: float64\n",
      "\n",
      "\n",
      "yr_renovated 0.0       0.958096\n",
      "2014.0    0.004112\n",
      "2003.0    0.001746\n",
      "2013.0    0.001746\n",
      "2007.0    0.001690\n",
      "            ...   \n",
      "1946.0    0.000056\n",
      "1959.0    0.000056\n",
      "1971.0    0.000056\n",
      "1951.0    0.000056\n",
      "1954.0    0.000056\n",
      "Name: yr_renovated, Length: 70, dtype: float64\n",
      "\n",
      "\n",
      "zipcode 98103    0.027874\n",
      "98038    0.027272\n",
      "98115    0.026994\n",
      "98052    0.026578\n",
      "98117    0.025605\n",
      "           ...   \n",
      "98102    0.004815\n",
      "98010    0.004630\n",
      "98024    0.003704\n",
      "98148    0.002639\n",
      "98039    0.002315\n",
      "Name: zipcode, Length: 70, dtype: float64\n",
      "\n",
      "\n",
      "lat 47.6624    0.000787\n",
      "47.5491    0.000787\n",
      "47.5322    0.000787\n",
      "47.6846    0.000787\n",
      "47.6711    0.000741\n",
      "             ...   \n",
      "47.2785    0.000046\n",
      "47.4162    0.000046\n",
      "47.3870    0.000046\n",
      "47.2313    0.000046\n",
      "47.2715    0.000046\n",
      "Name: lat, Length: 5033, dtype: float64\n",
      "\n",
      "\n",
      "long -122.290    0.005325\n",
      "-122.300    0.005140\n",
      "-122.362    0.004815\n",
      "-122.291    0.004630\n",
      "-122.372    0.004584\n",
      "              ...   \n",
      "-121.403    0.000046\n",
      "-121.804    0.000046\n",
      "-121.726    0.000046\n",
      "-121.895    0.000046\n",
      "-121.893    0.000046\n",
      "Name: long, Length: 751, dtype: float64\n",
      "\n",
      "\n",
      "sqft_living15 1540    0.009122\n",
      "1440    0.009029\n",
      "1560    0.008890\n",
      "1500    0.008334\n",
      "1460    0.007825\n",
      "          ...   \n",
      "4890    0.000046\n",
      "2873    0.000046\n",
      "952     0.000046\n",
      "3193    0.000046\n",
      "2049    0.000046\n",
      "Name: sqft_living15, Length: 777, dtype: float64\n",
      "\n",
      "\n",
      "sqft_lot15 5000      0.019771\n",
      "4000      0.016484\n",
      "6000      0.013335\n",
      "7200      0.009724\n",
      "4800      0.006714\n",
      "            ...   \n",
      "11036     0.000046\n",
      "8989      0.000046\n",
      "871200    0.000046\n",
      "809       0.000046\n",
      "6147      0.000046\n",
      "Name: sqft_lot15, Length: 8682, dtype: float64\n",
      "\n",
      "\n"
     ]
    }
   ],
   "source": [
    "# obtain normalized value counts for each column\n",
    "for col in df.columns:\n",
    "    try:\n",
    "        print(col, df[col].value_counts(normalize=True))\n",
    "    except:\n",
    "        print(col, df[col].value_counts(normalize=True))\n",
    "    print('\\n')"
   ]
  },
  {
   "cell_type": "code",
   "execution_count": 6,
   "metadata": {
    "scrolled": true
   },
   "outputs": [
    {
     "name": "stdout",
     "output_type": "stream",
     "text": [
      "id 21420\n",
      "\n",
      "\n",
      "date 372\n",
      "\n",
      "\n",
      "price 3622\n",
      "\n",
      "\n",
      "bedrooms 12\n",
      "\n",
      "\n",
      "bathrooms 29\n",
      "\n",
      "\n",
      "sqft_living 1034\n",
      "\n",
      "\n",
      "sqft_lot 9776\n",
      "\n",
      "\n",
      "floors 6\n",
      "\n",
      "\n",
      "waterfront 2\n",
      "\n",
      "\n",
      "view 5\n",
      "\n",
      "\n",
      "condition 5\n",
      "\n",
      "\n",
      "grade 11\n",
      "\n",
      "\n",
      "sqft_above 942\n",
      "\n",
      "\n",
      "sqft_basement 304\n",
      "\n",
      "\n",
      "yr_built 116\n",
      "\n",
      "\n",
      "yr_renovated 70\n",
      "\n",
      "\n",
      "zipcode 70\n",
      "\n",
      "\n",
      "lat 5033\n",
      "\n",
      "\n",
      "long 751\n",
      "\n",
      "\n",
      "sqft_living15 777\n",
      "\n",
      "\n",
      "sqft_lot15 8682\n",
      "\n",
      "\n"
     ]
    }
   ],
   "source": [
    "# obtain unique values for each column\n",
    "for col in df.columns:\n",
    "    try:\n",
    "        print(col, df[col].nunique())\n",
    "    except:\n",
    "        print(col, df[col].nunique())\n",
    "    print('\\n')"
   ]
  },
  {
   "cell_type": "markdown",
   "metadata": {},
   "source": [
    "> We see `sqft_basement` has a placeholder of \"?\" instead of NaN. We can also confirm that certain features have very little unique values, which usually points to it being categorical variable."
   ]
  },
  {
   "cell_type": "markdown",
   "metadata": {},
   "source": [
    "#### dataset cleaning"
   ]
  },
  {
   "cell_type": "markdown",
   "metadata": {},
   "source": [
    "##### setting dates"
   ]
  },
  {
   "cell_type": "code",
   "execution_count": 7,
   "metadata": {},
   "outputs": [
    {
     "data": {
      "text/plain": [
       "Timestamp('2015-05-27 00:00:00')"
      ]
     },
     "metadata": {},
     "output_type": "display_data"
    },
    {
     "data": {
      "text/plain": [
       "Timestamp('2014-05-02 00:00:00')"
      ]
     },
     "metadata": {},
     "output_type": "display_data"
    }
   ],
   "source": [
    "import datetime as dt\n",
    "df.date = pd.to_datetime(df['date'])\n",
    "display(df.date.max())\n",
    "display(df.date.min())\n",
    "# convert to Gregorian ordinal value for preprocessing\n",
    "df.date = df.date.map(dt.datetime.toordinal)"
   ]
  },
  {
   "cell_type": "markdown",
   "metadata": {},
   "source": [
    "##### detecting and resolving null/missing/duplicate values"
   ]
  },
  {
   "cell_type": "code",
   "execution_count": 8,
   "metadata": {
    "scrolled": false
   },
   "outputs": [],
   "source": [
    "# convert '?' values in `sqft_basement` feature to 0\n",
    "df.sqft_basement = df.sqft_basement.replace('?', np.nan).astype('float').fillna(0)"
   ]
  },
  {
   "cell_type": "code",
   "execution_count": 9,
   "metadata": {},
   "outputs": [
    {
     "data": {
      "text/plain": [
       "0.0      13280\n",
       "600.0      217\n",
       "Name: sqft_basement, dtype: int64"
      ]
     },
     "metadata": {},
     "output_type": "display_data"
    },
    {
     "data": {
      "text/plain": [
       "0.0      0.614900\n",
       "600.0    0.010048\n",
       "Name: sqft_basement, dtype: float64"
      ]
     },
     "metadata": {},
     "output_type": "display_data"
    }
   ],
   "source": [
    "# confirm changes (0 value increased to 13280 (count) and to 0.614900 (normalized))\n",
    "display(df.sqft_basement.value_counts().nlargest(n=2))\n",
    "display(df.sqft_basement.value_counts(normalize=True).nlargest(n=2))"
   ]
  },
  {
   "cell_type": "code",
   "execution_count": 10,
   "metadata": {
    "scrolled": true
   },
   "outputs": [
    {
     "data": {
      "text/plain": [
       "id                  0\n",
       "date                0\n",
       "price               0\n",
       "bedrooms            0\n",
       "bathrooms           0\n",
       "sqft_living         0\n",
       "sqft_lot            0\n",
       "floors              0\n",
       "waterfront       2376\n",
       "view               63\n",
       "condition           0\n",
       "grade               0\n",
       "sqft_above          0\n",
       "sqft_basement       0\n",
       "yr_built            0\n",
       "yr_renovated     3842\n",
       "zipcode             0\n",
       "lat                 0\n",
       "long                0\n",
       "sqft_living15       0\n",
       "sqft_lot15          0\n",
       "dtype: int64"
      ]
     },
     "execution_count": 10,
     "metadata": {},
     "output_type": "execute_result"
    }
   ],
   "source": [
    "# examine dataset for NaN values\n",
    "df.isna().sum()"
   ]
  },
  {
   "cell_type": "markdown",
   "metadata": {},
   "source": [
    "> For the `waterfront` and `view` features, we will replace the NaN values with the column mode, as these are categorical values.\n",
    "\n",
    "> For the `yr_renovated` feature, we will replace the NaN values with '0', as we're inferring the value means the house was never renovated or the renovation date is unknown."
   ]
  },
  {
   "cell_type": "code",
   "execution_count": 11,
   "metadata": {},
   "outputs": [],
   "source": [
    "# replace NaN values in `waterfront` with mode\n",
    "df.waterfront = df.waterfront.fillna(df.waterfront.mode()[0])"
   ]
  },
  {
   "cell_type": "code",
   "execution_count": 12,
   "metadata": {},
   "outputs": [],
   "source": [
    "# replace NaN values in `view` with mode\n",
    "df.view = df.view.fillna(df.view.mode()[0])"
   ]
  },
  {
   "cell_type": "code",
   "execution_count": 13,
   "metadata": {},
   "outputs": [],
   "source": [
    "# replace NaN values in `yr_renovated` with 0\n",
    "df.yr_renovated = df.yr_renovated.fillna(0)"
   ]
  },
  {
   "cell_type": "code",
   "execution_count": 14,
   "metadata": {
    "scrolled": true
   },
   "outputs": [
    {
     "data": {
      "text/plain": [
       "id               0\n",
       "date             0\n",
       "price            0\n",
       "bedrooms         0\n",
       "bathrooms        0\n",
       "sqft_living      0\n",
       "sqft_lot         0\n",
       "floors           0\n",
       "waterfront       0\n",
       "view             0\n",
       "condition        0\n",
       "grade            0\n",
       "sqft_above       0\n",
       "sqft_basement    0\n",
       "yr_built         0\n",
       "yr_renovated     0\n",
       "zipcode          0\n",
       "lat              0\n",
       "long             0\n",
       "sqft_living15    0\n",
       "sqft_lot15       0\n",
       "dtype: int64"
      ]
     },
     "execution_count": 14,
     "metadata": {},
     "output_type": "execute_result"
    }
   ],
   "source": [
    "# confirm NaN values are resolved\n",
    "df.isna().sum()"
   ]
  },
  {
   "cell_type": "code",
   "execution_count": 15,
   "metadata": {
    "scrolled": false
   },
   "outputs": [
    {
     "data": {
      "text/html": [
       "<div>\n",
       "<style scoped>\n",
       "    .dataframe tbody tr th:only-of-type {\n",
       "        vertical-align: middle;\n",
       "    }\n",
       "\n",
       "    .dataframe tbody tr th {\n",
       "        vertical-align: top;\n",
       "    }\n",
       "\n",
       "    .dataframe thead th {\n",
       "        text-align: right;\n",
       "    }\n",
       "</style>\n",
       "<table border=\"1\" class=\"dataframe\">\n",
       "  <thead>\n",
       "    <tr style=\"text-align: right;\">\n",
       "      <th></th>\n",
       "      <th>id</th>\n",
       "      <th>date</th>\n",
       "      <th>price</th>\n",
       "      <th>bedrooms</th>\n",
       "      <th>bathrooms</th>\n",
       "      <th>sqft_living</th>\n",
       "      <th>sqft_lot</th>\n",
       "      <th>floors</th>\n",
       "      <th>waterfront</th>\n",
       "      <th>view</th>\n",
       "      <th>...</th>\n",
       "      <th>grade</th>\n",
       "      <th>sqft_above</th>\n",
       "      <th>sqft_basement</th>\n",
       "      <th>yr_built</th>\n",
       "      <th>yr_renovated</th>\n",
       "      <th>zipcode</th>\n",
       "      <th>lat</th>\n",
       "      <th>long</th>\n",
       "      <th>sqft_living15</th>\n",
       "      <th>sqft_lot15</th>\n",
       "    </tr>\n",
       "  </thead>\n",
       "  <tbody>\n",
       "  </tbody>\n",
       "</table>\n",
       "<p>0 rows × 21 columns</p>\n",
       "</div>"
      ],
      "text/plain": [
       "Empty DataFrame\n",
       "Columns: [id, date, price, bedrooms, bathrooms, sqft_living, sqft_lot, floors, waterfront, view, condition, grade, sqft_above, sqft_basement, yr_built, yr_renovated, zipcode, lat, long, sqft_living15, sqft_lot15]\n",
       "Index: []\n",
       "\n",
       "[0 rows x 21 columns]"
      ]
     },
     "execution_count": 15,
     "metadata": {},
     "output_type": "execute_result"
    }
   ],
   "source": [
    "# check for duplicate values by unique id and date sold\n",
    "df[df.duplicated(['id','date'])]"
   ]
  },
  {
   "cell_type": "markdown",
   "metadata": {},
   "source": [
    "##### examining outliers"
   ]
  },
  {
   "cell_type": "code",
   "execution_count": 16,
   "metadata": {
    "scrolled": true
   },
   "outputs": [
    {
     "data": {
      "image/png": "[encoded data removed]",
      "text/plain": [
       "<Figure size 1440x2160 with 18 Axes>"
      ]
     },
     "metadata": {
      "needs_background": "light"
     },
     "output_type": "display_data"
    }
   ],
   "source": [
    "# create a list of column names\n",
    "columns = list(df.columns)\n",
    "\n",
    "# remove non-applicable columns\n",
    "cols = [col for col in columns if col not in ('id','price', 'date')]\n",
    "\n",
    "# create a boxplot for each feature to examine outliers\n",
    "fig, axes = plt.subplots(nrows=6, ncols=3, figsize=(20,30))\n",
    "for xcol, ax in zip(cols, axes.flatten()):\n",
    "    boxplot = df.boxplot(column=xcol, ax=ax)"
   ]
  },
  {
   "cell_type": "markdown",
   "metadata": {},
   "source": [
    "> There are several continuous features (`bedrooms`, `sqft_lot`, `sqft_lot15`) that have observations that are far from the spread of the rest of the data. We'll examine the outliers a little closer below."
   ]
  },
  {
   "cell_type": "code",
   "execution_count": 17,
   "metadata": {},
   "outputs": [
    {
     "data": {
      "text/html": [
       "<div>\n",
       "<style scoped>\n",
       "    .dataframe tbody tr th:only-of-type {\n",
       "        vertical-align: middle;\n",
       "    }\n",
       "\n",
       "    .dataframe tbody tr th {\n",
       "        vertical-align: top;\n",
       "    }\n",
       "\n",
       "    .dataframe thead th {\n",
       "        text-align: right;\n",
       "    }\n",
       "</style>\n",
       "<table border=\"1\" class=\"dataframe\">\n",
       "  <thead>\n",
       "    <tr style=\"text-align: right;\">\n",
       "      <th></th>\n",
       "      <th>id</th>\n",
       "      <th>date</th>\n",
       "      <th>price</th>\n",
       "      <th>bedrooms</th>\n",
       "      <th>bathrooms</th>\n",
       "      <th>sqft_living</th>\n",
       "      <th>sqft_lot</th>\n",
       "      <th>floors</th>\n",
       "      <th>waterfront</th>\n",
       "      <th>view</th>\n",
       "      <th>...</th>\n",
       "      <th>grade</th>\n",
       "      <th>sqft_above</th>\n",
       "      <th>sqft_basement</th>\n",
       "      <th>yr_built</th>\n",
       "      <th>yr_renovated</th>\n",
       "      <th>zipcode</th>\n",
       "      <th>lat</th>\n",
       "      <th>long</th>\n",
       "      <th>sqft_living15</th>\n",
       "      <th>sqft_lot15</th>\n",
       "    </tr>\n",
       "  </thead>\n",
       "  <tbody>\n",
       "    <tr>\n",
       "      <th>8748</th>\n",
       "      <td>1773100755</td>\n",
       "      <td>735466</td>\n",
       "      <td>520000.0</td>\n",
       "      <td>11</td>\n",
       "      <td>3.00</td>\n",
       "      <td>3000</td>\n",
       "      <td>4960</td>\n",
       "      <td>2.0</td>\n",
       "      <td>0.0</td>\n",
       "      <td>0.0</td>\n",
       "      <td>...</td>\n",
       "      <td>7</td>\n",
       "      <td>2400</td>\n",
       "      <td>600.0</td>\n",
       "      <td>1918</td>\n",
       "      <td>1999.0</td>\n",
       "      <td>98106</td>\n",
       "      <td>47.5560</td>\n",
       "      <td>-122.363</td>\n",
       "      <td>1420</td>\n",
       "      <td>4960</td>\n",
       "    </tr>\n",
       "    <tr>\n",
       "      <th>15856</th>\n",
       "      <td>2402100895</td>\n",
       "      <td>735409</td>\n",
       "      <td>640000.0</td>\n",
       "      <td>33</td>\n",
       "      <td>1.75</td>\n",
       "      <td>1620</td>\n",
       "      <td>6000</td>\n",
       "      <td>1.0</td>\n",
       "      <td>0.0</td>\n",
       "      <td>0.0</td>\n",
       "      <td>...</td>\n",
       "      <td>7</td>\n",
       "      <td>1040</td>\n",
       "      <td>580.0</td>\n",
       "      <td>1947</td>\n",
       "      <td>0.0</td>\n",
       "      <td>98103</td>\n",
       "      <td>47.6878</td>\n",
       "      <td>-122.331</td>\n",
       "      <td>1330</td>\n",
       "      <td>4700</td>\n",
       "    </tr>\n",
       "  </tbody>\n",
       "</table>\n",
       "<p>2 rows × 21 columns</p>\n",
       "</div>"
      ],
      "text/plain": [
       "               id    date     price  bedrooms  bathrooms  sqft_living  \\\n",
       "8748   1773100755  735466  520000.0        11       3.00         3000   \n",
       "15856  2402100895  735409  640000.0        33       1.75         1620   \n",
       "\n",
       "       sqft_lot  floors  waterfront  view  ...  grade  sqft_above  \\\n",
       "8748       4960     2.0         0.0   0.0  ...      7        2400   \n",
       "15856      6000     1.0         0.0   0.0  ...      7        1040   \n",
       "\n",
       "       sqft_basement  yr_built  yr_renovated  zipcode      lat     long  \\\n",
       "8748           600.0      1918        1999.0    98106  47.5560 -122.363   \n",
       "15856          580.0      1947           0.0    98103  47.6878 -122.331   \n",
       "\n",
       "       sqft_living15  sqft_lot15  \n",
       "8748            1420        4960  \n",
       "15856           1330        4700  \n",
       "\n",
       "[2 rows x 21 columns]"
      ]
     },
     "execution_count": 17,
     "metadata": {},
     "output_type": "execute_result"
    }
   ],
   "source": [
    "df[df.bedrooms > 10]"
   ]
  },
  {
   "cell_type": "code",
   "execution_count": 18,
   "metadata": {
    "scrolled": true
   },
   "outputs": [
    {
     "data": {
      "text/html": [
       "<div>\n",
       "<style scoped>\n",
       "    .dataframe tbody tr th:only-of-type {\n",
       "        vertical-align: middle;\n",
       "    }\n",
       "\n",
       "    .dataframe tbody tr th {\n",
       "        vertical-align: top;\n",
       "    }\n",
       "\n",
       "    .dataframe thead th {\n",
       "        text-align: right;\n",
       "    }\n",
       "</style>\n",
       "<table border=\"1\" class=\"dataframe\">\n",
       "  <thead>\n",
       "    <tr style=\"text-align: right;\">\n",
       "      <th></th>\n",
       "      <th>id</th>\n",
       "      <th>date</th>\n",
       "      <th>price</th>\n",
       "      <th>bedrooms</th>\n",
       "      <th>bathrooms</th>\n",
       "      <th>sqft_living</th>\n",
       "      <th>sqft_lot</th>\n",
       "      <th>floors</th>\n",
       "      <th>waterfront</th>\n",
       "      <th>view</th>\n",
       "      <th>...</th>\n",
       "      <th>grade</th>\n",
       "      <th>sqft_above</th>\n",
       "      <th>sqft_basement</th>\n",
       "      <th>yr_built</th>\n",
       "      <th>yr_renovated</th>\n",
       "      <th>zipcode</th>\n",
       "      <th>lat</th>\n",
       "      <th>long</th>\n",
       "      <th>sqft_living15</th>\n",
       "      <th>sqft_lot15</th>\n",
       "    </tr>\n",
       "  </thead>\n",
       "  <tbody>\n",
       "    <tr>\n",
       "      <th>1717</th>\n",
       "      <td>1020069017</td>\n",
       "      <td>735684</td>\n",
       "      <td>700000.0</td>\n",
       "      <td>4</td>\n",
       "      <td>1.00</td>\n",
       "      <td>1300</td>\n",
       "      <td>1651359</td>\n",
       "      <td>1.0</td>\n",
       "      <td>0.0</td>\n",
       "      <td>3.0</td>\n",
       "      <td>...</td>\n",
       "      <td>6</td>\n",
       "      <td>1300</td>\n",
       "      <td>0.0</td>\n",
       "      <td>1920</td>\n",
       "      <td>0.0</td>\n",
       "      <td>98022</td>\n",
       "      <td>47.2313</td>\n",
       "      <td>-122.023</td>\n",
       "      <td>2560</td>\n",
       "      <td>425581</td>\n",
       "    </tr>\n",
       "    <tr>\n",
       "      <th>7640</th>\n",
       "      <td>2623069031</td>\n",
       "      <td>735374</td>\n",
       "      <td>542500.0</td>\n",
       "      <td>5</td>\n",
       "      <td>3.25</td>\n",
       "      <td>3010</td>\n",
       "      <td>1074218</td>\n",
       "      <td>1.5</td>\n",
       "      <td>0.0</td>\n",
       "      <td>0.0</td>\n",
       "      <td>...</td>\n",
       "      <td>8</td>\n",
       "      <td>2010</td>\n",
       "      <td>1000.0</td>\n",
       "      <td>1931</td>\n",
       "      <td>0.0</td>\n",
       "      <td>98027</td>\n",
       "      <td>47.4564</td>\n",
       "      <td>-122.004</td>\n",
       "      <td>2450</td>\n",
       "      <td>68825</td>\n",
       "    </tr>\n",
       "    <tr>\n",
       "      <th>7762</th>\n",
       "      <td>2323089009</td>\n",
       "      <td>735617</td>\n",
       "      <td>855000.0</td>\n",
       "      <td>4</td>\n",
       "      <td>3.50</td>\n",
       "      <td>4030</td>\n",
       "      <td>1024068</td>\n",
       "      <td>2.0</td>\n",
       "      <td>0.0</td>\n",
       "      <td>0.0</td>\n",
       "      <td>...</td>\n",
       "      <td>10</td>\n",
       "      <td>4030</td>\n",
       "      <td>0.0</td>\n",
       "      <td>2006</td>\n",
       "      <td>0.0</td>\n",
       "      <td>98045</td>\n",
       "      <td>47.4619</td>\n",
       "      <td>-121.744</td>\n",
       "      <td>1830</td>\n",
       "      <td>11700</td>\n",
       "    </tr>\n",
       "    <tr>\n",
       "      <th>17305</th>\n",
       "      <td>3326079016</td>\n",
       "      <td>735722</td>\n",
       "      <td>190000.0</td>\n",
       "      <td>2</td>\n",
       "      <td>1.00</td>\n",
       "      <td>710</td>\n",
       "      <td>1164794</td>\n",
       "      <td>1.0</td>\n",
       "      <td>0.0</td>\n",
       "      <td>0.0</td>\n",
       "      <td>...</td>\n",
       "      <td>5</td>\n",
       "      <td>710</td>\n",
       "      <td>0.0</td>\n",
       "      <td>1915</td>\n",
       "      <td>0.0</td>\n",
       "      <td>98014</td>\n",
       "      <td>47.6888</td>\n",
       "      <td>-121.909</td>\n",
       "      <td>1680</td>\n",
       "      <td>16730</td>\n",
       "    </tr>\n",
       "  </tbody>\n",
       "</table>\n",
       "<p>4 rows × 21 columns</p>\n",
       "</div>"
      ],
      "text/plain": [
       "               id    date     price  bedrooms  bathrooms  sqft_living  \\\n",
       "1717   1020069017  735684  700000.0         4       1.00         1300   \n",
       "7640   2623069031  735374  542500.0         5       3.25         3010   \n",
       "7762   2323089009  735617  855000.0         4       3.50         4030   \n",
       "17305  3326079016  735722  190000.0         2       1.00          710   \n",
       "\n",
       "       sqft_lot  floors  waterfront  view  ...  grade  sqft_above  \\\n",
       "1717    1651359     1.0         0.0   3.0  ...      6        1300   \n",
       "7640    1074218     1.5         0.0   0.0  ...      8        2010   \n",
       "7762    1024068     2.0         0.0   0.0  ...     10        4030   \n",
       "17305   1164794     1.0         0.0   0.0  ...      5         710   \n",
       "\n",
       "       sqft_basement  yr_built  yr_renovated  zipcode      lat     long  \\\n",
       "1717             0.0      1920           0.0    98022  47.2313 -122.023   \n",
       "7640          1000.0      1931           0.0    98027  47.4564 -122.004   \n",
       "7762             0.0      2006           0.0    98045  47.4619 -121.744   \n",
       "17305            0.0      1915           0.0    98014  47.6888 -121.909   \n",
       "\n",
       "       sqft_living15  sqft_lot15  \n",
       "1717            2560      425581  \n",
       "7640            2450       68825  \n",
       "7762            1830       11700  \n",
       "17305           1680       16730  \n",
       "\n",
       "[4 rows x 21 columns]"
      ]
     },
     "execution_count": 18,
     "metadata": {},
     "output_type": "execute_result"
    }
   ],
   "source": [
    "df[df.sqft_lot > 1000000]"
   ]
  },
  {
   "cell_type": "code",
   "execution_count": 19,
   "metadata": {
    "scrolled": false
   },
   "outputs": [
    {
     "data": {
      "text/html": [
       "<div>\n",
       "<style scoped>\n",
       "    .dataframe tbody tr th:only-of-type {\n",
       "        vertical-align: middle;\n",
       "    }\n",
       "\n",
       "    .dataframe tbody tr th {\n",
       "        vertical-align: top;\n",
       "    }\n",
       "\n",
       "    .dataframe thead th {\n",
       "        text-align: right;\n",
       "    }\n",
       "</style>\n",
       "<table border=\"1\" class=\"dataframe\">\n",
       "  <thead>\n",
       "    <tr style=\"text-align: right;\">\n",
       "      <th></th>\n",
       "      <th>id</th>\n",
       "      <th>date</th>\n",
       "      <th>price</th>\n",
       "      <th>bedrooms</th>\n",
       "      <th>bathrooms</th>\n",
       "      <th>sqft_living</th>\n",
       "      <th>sqft_lot</th>\n",
       "      <th>floors</th>\n",
       "      <th>waterfront</th>\n",
       "      <th>view</th>\n",
       "      <th>...</th>\n",
       "      <th>grade</th>\n",
       "      <th>sqft_above</th>\n",
       "      <th>sqft_basement</th>\n",
       "      <th>yr_built</th>\n",
       "      <th>yr_renovated</th>\n",
       "      <th>zipcode</th>\n",
       "      <th>lat</th>\n",
       "      <th>long</th>\n",
       "      <th>sqft_living15</th>\n",
       "      <th>sqft_lot15</th>\n",
       "    </tr>\n",
       "  </thead>\n",
       "  <tbody>\n",
       "    <tr>\n",
       "      <th>9705</th>\n",
       "      <td>225079036</td>\n",
       "      <td>735605</td>\n",
       "      <td>937500.0</td>\n",
       "      <td>4</td>\n",
       "      <td>4.0</td>\n",
       "      <td>5545</td>\n",
       "      <td>871200</td>\n",
       "      <td>2.0</td>\n",
       "      <td>0.0</td>\n",
       "      <td>0.0</td>\n",
       "      <td>...</td>\n",
       "      <td>11</td>\n",
       "      <td>3605</td>\n",
       "      <td>1940.0</td>\n",
       "      <td>2003</td>\n",
       "      <td>0.0</td>\n",
       "      <td>98014</td>\n",
       "      <td>47.6760</td>\n",
       "      <td>-121.882</td>\n",
       "      <td>3420</td>\n",
       "      <td>871200</td>\n",
       "    </tr>\n",
       "    <tr>\n",
       "      <th>13451</th>\n",
       "      <td>3420069060</td>\n",
       "      <td>735544</td>\n",
       "      <td>790000.0</td>\n",
       "      <td>3</td>\n",
       "      <td>2.5</td>\n",
       "      <td>2640</td>\n",
       "      <td>432036</td>\n",
       "      <td>1.5</td>\n",
       "      <td>0.0</td>\n",
       "      <td>3.0</td>\n",
       "      <td>...</td>\n",
       "      <td>10</td>\n",
       "      <td>2640</td>\n",
       "      <td>0.0</td>\n",
       "      <td>1996</td>\n",
       "      <td>0.0</td>\n",
       "      <td>98022</td>\n",
       "      <td>47.1795</td>\n",
       "      <td>-122.036</td>\n",
       "      <td>1500</td>\n",
       "      <td>560617</td>\n",
       "    </tr>\n",
       "    <tr>\n",
       "      <th>20436</th>\n",
       "      <td>1125079111</td>\n",
       "      <td>735703</td>\n",
       "      <td>1600000.0</td>\n",
       "      <td>4</td>\n",
       "      <td>5.5</td>\n",
       "      <td>6530</td>\n",
       "      <td>871200</td>\n",
       "      <td>2.0</td>\n",
       "      <td>0.0</td>\n",
       "      <td>2.0</td>\n",
       "      <td>...</td>\n",
       "      <td>11</td>\n",
       "      <td>6530</td>\n",
       "      <td>0.0</td>\n",
       "      <td>2008</td>\n",
       "      <td>0.0</td>\n",
       "      <td>98014</td>\n",
       "      <td>47.6640</td>\n",
       "      <td>-121.878</td>\n",
       "      <td>1280</td>\n",
       "      <td>858132</td>\n",
       "    </tr>\n",
       "  </tbody>\n",
       "</table>\n",
       "<p>3 rows × 21 columns</p>\n",
       "</div>"
      ],
      "text/plain": [
       "               id    date      price  bedrooms  bathrooms  sqft_living  \\\n",
       "9705    225079036  735605   937500.0         4        4.0         5545   \n",
       "13451  3420069060  735544   790000.0         3        2.5         2640   \n",
       "20436  1125079111  735703  1600000.0         4        5.5         6530   \n",
       "\n",
       "       sqft_lot  floors  waterfront  view  ...  grade  sqft_above  \\\n",
       "9705     871200     2.0         0.0   0.0  ...     11        3605   \n",
       "13451    432036     1.5         0.0   3.0  ...     10        2640   \n",
       "20436    871200     2.0         0.0   2.0  ...     11        6530   \n",
       "\n",
       "       sqft_basement  yr_built  yr_renovated  zipcode      lat     long  \\\n",
       "9705          1940.0      2003           0.0    98014  47.6760 -121.882   \n",
       "13451            0.0      1996           0.0    98022  47.1795 -122.036   \n",
       "20436            0.0      2008           0.0    98014  47.6640 -121.878   \n",
       "\n",
       "       sqft_living15  sqft_lot15  \n",
       "9705            3420      871200  \n",
       "13451           1500      560617  \n",
       "20436           1280      858132  \n",
       "\n",
       "[3 rows x 21 columns]"
      ]
     },
     "execution_count": 19,
     "metadata": {},
     "output_type": "execute_result"
    }
   ],
   "source": [
    "df[df.sqft_lot15 > 550000]"
   ]
  },
  {
   "cell_type": "markdown",
   "metadata": {},
   "source": [
    "> After looking at the outlier data points, we feel comfortable only removing the `bedrooms` data point with `id` of `2402100895`. This seems like an obvious miscalculation as fitting 33 bedrooms on a 6000 sq. ft. lot seems unrealistic. <br><br> We'll leave the other outliers alone for now and determine at a later point if removing these data points will affect the model's accuracy. Another option to consider is normalizing the feature to pull in the high numbers, as well. However, this would decrase the interpretability of the model. <br><br>  We don't want to unnecessarily remove outlier data just to improve accuracy, as we acknowledge outliers can and do exist in the real world."
   ]
  },
  {
   "cell_type": "code",
   "execution_count": 20,
   "metadata": {
    "scrolled": true
   },
   "outputs": [
    {
     "data": {
      "text/html": [
       "<div>\n",
       "<style scoped>\n",
       "    .dataframe tbody tr th:only-of-type {\n",
       "        vertical-align: middle;\n",
       "    }\n",
       "\n",
       "    .dataframe tbody tr th {\n",
       "        vertical-align: top;\n",
       "    }\n",
       "\n",
       "    .dataframe thead th {\n",
       "        text-align: right;\n",
       "    }\n",
       "</style>\n",
       "<table border=\"1\" class=\"dataframe\">\n",
       "  <thead>\n",
       "    <tr style=\"text-align: right;\">\n",
       "      <th></th>\n",
       "      <th>id</th>\n",
       "      <th>date</th>\n",
       "      <th>price</th>\n",
       "      <th>bedrooms</th>\n",
       "      <th>bathrooms</th>\n",
       "      <th>sqft_living</th>\n",
       "      <th>sqft_lot</th>\n",
       "      <th>floors</th>\n",
       "      <th>waterfront</th>\n",
       "      <th>view</th>\n",
       "      <th>...</th>\n",
       "      <th>grade</th>\n",
       "      <th>sqft_above</th>\n",
       "      <th>sqft_basement</th>\n",
       "      <th>yr_built</th>\n",
       "      <th>yr_renovated</th>\n",
       "      <th>zipcode</th>\n",
       "      <th>lat</th>\n",
       "      <th>long</th>\n",
       "      <th>sqft_living15</th>\n",
       "      <th>sqft_lot15</th>\n",
       "    </tr>\n",
       "  </thead>\n",
       "  <tbody>\n",
       "    <tr>\n",
       "      <th>0</th>\n",
       "      <td>7129300520</td>\n",
       "      <td>735519</td>\n",
       "      <td>221900.0</td>\n",
       "      <td>3</td>\n",
       "      <td>1.00</td>\n",
       "      <td>1180</td>\n",
       "      <td>5650</td>\n",
       "      <td>1.0</td>\n",
       "      <td>0.0</td>\n",
       "      <td>0.0</td>\n",
       "      <td>...</td>\n",
       "      <td>7</td>\n",
       "      <td>1180</td>\n",
       "      <td>0.0</td>\n",
       "      <td>1955</td>\n",
       "      <td>0.0</td>\n",
       "      <td>98178</td>\n",
       "      <td>47.5112</td>\n",
       "      <td>-122.257</td>\n",
       "      <td>1340</td>\n",
       "      <td>5650</td>\n",
       "    </tr>\n",
       "    <tr>\n",
       "      <th>1</th>\n",
       "      <td>6414100192</td>\n",
       "      <td>735576</td>\n",
       "      <td>538000.0</td>\n",
       "      <td>3</td>\n",
       "      <td>2.25</td>\n",
       "      <td>2570</td>\n",
       "      <td>7242</td>\n",
       "      <td>2.0</td>\n",
       "      <td>0.0</td>\n",
       "      <td>0.0</td>\n",
       "      <td>...</td>\n",
       "      <td>7</td>\n",
       "      <td>2170</td>\n",
       "      <td>400.0</td>\n",
       "      <td>1951</td>\n",
       "      <td>1991.0</td>\n",
       "      <td>98125</td>\n",
       "      <td>47.7210</td>\n",
       "      <td>-122.319</td>\n",
       "      <td>1690</td>\n",
       "      <td>7639</td>\n",
       "    </tr>\n",
       "    <tr>\n",
       "      <th>2</th>\n",
       "      <td>5631500400</td>\n",
       "      <td>735654</td>\n",
       "      <td>180000.0</td>\n",
       "      <td>2</td>\n",
       "      <td>1.00</td>\n",
       "      <td>770</td>\n",
       "      <td>10000</td>\n",
       "      <td>1.0</td>\n",
       "      <td>0.0</td>\n",
       "      <td>0.0</td>\n",
       "      <td>...</td>\n",
       "      <td>6</td>\n",
       "      <td>770</td>\n",
       "      <td>0.0</td>\n",
       "      <td>1933</td>\n",
       "      <td>0.0</td>\n",
       "      <td>98028</td>\n",
       "      <td>47.7379</td>\n",
       "      <td>-122.233</td>\n",
       "      <td>2720</td>\n",
       "      <td>8062</td>\n",
       "    </tr>\n",
       "    <tr>\n",
       "      <th>3</th>\n",
       "      <td>2487200875</td>\n",
       "      <td>735576</td>\n",
       "      <td>604000.0</td>\n",
       "      <td>4</td>\n",
       "      <td>3.00</td>\n",
       "      <td>1960</td>\n",
       "      <td>5000</td>\n",
       "      <td>1.0</td>\n",
       "      <td>0.0</td>\n",
       "      <td>0.0</td>\n",
       "      <td>...</td>\n",
       "      <td>7</td>\n",
       "      <td>1050</td>\n",
       "      <td>910.0</td>\n",
       "      <td>1965</td>\n",
       "      <td>0.0</td>\n",
       "      <td>98136</td>\n",
       "      <td>47.5208</td>\n",
       "      <td>-122.393</td>\n",
       "      <td>1360</td>\n",
       "      <td>5000</td>\n",
       "    </tr>\n",
       "    <tr>\n",
       "      <th>4</th>\n",
       "      <td>1954400510</td>\n",
       "      <td>735647</td>\n",
       "      <td>510000.0</td>\n",
       "      <td>3</td>\n",
       "      <td>2.00</td>\n",
       "      <td>1680</td>\n",
       "      <td>8080</td>\n",
       "      <td>1.0</td>\n",
       "      <td>0.0</td>\n",
       "      <td>0.0</td>\n",
       "      <td>...</td>\n",
       "      <td>8</td>\n",
       "      <td>1680</td>\n",
       "      <td>0.0</td>\n",
       "      <td>1987</td>\n",
       "      <td>0.0</td>\n",
       "      <td>98074</td>\n",
       "      <td>47.6168</td>\n",
       "      <td>-122.045</td>\n",
       "      <td>1800</td>\n",
       "      <td>7503</td>\n",
       "    </tr>\n",
       "    <tr>\n",
       "      <th>...</th>\n",
       "      <td>...</td>\n",
       "      <td>...</td>\n",
       "      <td>...</td>\n",
       "      <td>...</td>\n",
       "      <td>...</td>\n",
       "      <td>...</td>\n",
       "      <td>...</td>\n",
       "      <td>...</td>\n",
       "      <td>...</td>\n",
       "      <td>...</td>\n",
       "      <td>...</td>\n",
       "      <td>...</td>\n",
       "      <td>...</td>\n",
       "      <td>...</td>\n",
       "      <td>...</td>\n",
       "      <td>...</td>\n",
       "      <td>...</td>\n",
       "      <td>...</td>\n",
       "      <td>...</td>\n",
       "      <td>...</td>\n",
       "      <td>...</td>\n",
       "    </tr>\n",
       "    <tr>\n",
       "      <th>21592</th>\n",
       "      <td>263000018</td>\n",
       "      <td>735374</td>\n",
       "      <td>360000.0</td>\n",
       "      <td>3</td>\n",
       "      <td>2.50</td>\n",
       "      <td>1530</td>\n",
       "      <td>1131</td>\n",
       "      <td>3.0</td>\n",
       "      <td>0.0</td>\n",
       "      <td>0.0</td>\n",
       "      <td>...</td>\n",
       "      <td>8</td>\n",
       "      <td>1530</td>\n",
       "      <td>0.0</td>\n",
       "      <td>2009</td>\n",
       "      <td>0.0</td>\n",
       "      <td>98103</td>\n",
       "      <td>47.6993</td>\n",
       "      <td>-122.346</td>\n",
       "      <td>1530</td>\n",
       "      <td>1509</td>\n",
       "    </tr>\n",
       "    <tr>\n",
       "      <th>21593</th>\n",
       "      <td>6600060120</td>\n",
       "      <td>735652</td>\n",
       "      <td>400000.0</td>\n",
       "      <td>4</td>\n",
       "      <td>2.50</td>\n",
       "      <td>2310</td>\n",
       "      <td>5813</td>\n",
       "      <td>2.0</td>\n",
       "      <td>0.0</td>\n",
       "      <td>0.0</td>\n",
       "      <td>...</td>\n",
       "      <td>8</td>\n",
       "      <td>2310</td>\n",
       "      <td>0.0</td>\n",
       "      <td>2014</td>\n",
       "      <td>0.0</td>\n",
       "      <td>98146</td>\n",
       "      <td>47.5107</td>\n",
       "      <td>-122.362</td>\n",
       "      <td>1830</td>\n",
       "      <td>7200</td>\n",
       "    </tr>\n",
       "    <tr>\n",
       "      <th>21594</th>\n",
       "      <td>1523300141</td>\n",
       "      <td>735407</td>\n",
       "      <td>402101.0</td>\n",
       "      <td>2</td>\n",
       "      <td>0.75</td>\n",
       "      <td>1020</td>\n",
       "      <td>1350</td>\n",
       "      <td>2.0</td>\n",
       "      <td>0.0</td>\n",
       "      <td>0.0</td>\n",
       "      <td>...</td>\n",
       "      <td>7</td>\n",
       "      <td>1020</td>\n",
       "      <td>0.0</td>\n",
       "      <td>2009</td>\n",
       "      <td>0.0</td>\n",
       "      <td>98144</td>\n",
       "      <td>47.5944</td>\n",
       "      <td>-122.299</td>\n",
       "      <td>1020</td>\n",
       "      <td>2007</td>\n",
       "    </tr>\n",
       "    <tr>\n",
       "      <th>21595</th>\n",
       "      <td>291310100</td>\n",
       "      <td>735614</td>\n",
       "      <td>400000.0</td>\n",
       "      <td>3</td>\n",
       "      <td>2.50</td>\n",
       "      <td>1600</td>\n",
       "      <td>2388</td>\n",
       "      <td>2.0</td>\n",
       "      <td>0.0</td>\n",
       "      <td>0.0</td>\n",
       "      <td>...</td>\n",
       "      <td>8</td>\n",
       "      <td>1600</td>\n",
       "      <td>0.0</td>\n",
       "      <td>2004</td>\n",
       "      <td>0.0</td>\n",
       "      <td>98027</td>\n",
       "      <td>47.5345</td>\n",
       "      <td>-122.069</td>\n",
       "      <td>1410</td>\n",
       "      <td>1287</td>\n",
       "    </tr>\n",
       "    <tr>\n",
       "      <th>21596</th>\n",
       "      <td>1523300157</td>\n",
       "      <td>735521</td>\n",
       "      <td>325000.0</td>\n",
       "      <td>2</td>\n",
       "      <td>0.75</td>\n",
       "      <td>1020</td>\n",
       "      <td>1076</td>\n",
       "      <td>2.0</td>\n",
       "      <td>0.0</td>\n",
       "      <td>0.0</td>\n",
       "      <td>...</td>\n",
       "      <td>7</td>\n",
       "      <td>1020</td>\n",
       "      <td>0.0</td>\n",
       "      <td>2008</td>\n",
       "      <td>0.0</td>\n",
       "      <td>98144</td>\n",
       "      <td>47.5941</td>\n",
       "      <td>-122.299</td>\n",
       "      <td>1020</td>\n",
       "      <td>1357</td>\n",
       "    </tr>\n",
       "  </tbody>\n",
       "</table>\n",
       "<p>21596 rows × 21 columns</p>\n",
       "</div>"
      ],
      "text/plain": [
       "               id    date     price  bedrooms  bathrooms  sqft_living  \\\n",
       "0      7129300520  735519  221900.0         3       1.00         1180   \n",
       "1      6414100192  735576  538000.0         3       2.25         2570   \n",
       "2      5631500400  735654  180000.0         2       1.00          770   \n",
       "3      2487200875  735576  604000.0         4       3.00         1960   \n",
       "4      1954400510  735647  510000.0         3       2.00         1680   \n",
       "...           ...     ...       ...       ...        ...          ...   \n",
       "21592   263000018  735374  360000.0         3       2.50         1530   \n",
       "21593  6600060120  735652  400000.0         4       2.50         2310   \n",
       "21594  1523300141  735407  402101.0         2       0.75         1020   \n",
       "21595   291310100  735614  400000.0         3       2.50         1600   \n",
       "21596  1523300157  735521  325000.0         2       0.75         1020   \n",
       "\n",
       "       sqft_lot  floors  waterfront  view  ...  grade  sqft_above  \\\n",
       "0          5650     1.0         0.0   0.0  ...      7        1180   \n",
       "1          7242     2.0         0.0   0.0  ...      7        2170   \n",
       "2         10000     1.0         0.0   0.0  ...      6         770   \n",
       "3          5000     1.0         0.0   0.0  ...      7        1050   \n",
       "4          8080     1.0         0.0   0.0  ...      8        1680   \n",
       "...         ...     ...         ...   ...  ...    ...         ...   \n",
       "21592      1131     3.0         0.0   0.0  ...      8        1530   \n",
       "21593      5813     2.0         0.0   0.0  ...      8        2310   \n",
       "21594      1350     2.0         0.0   0.0  ...      7        1020   \n",
       "21595      2388     2.0         0.0   0.0  ...      8        1600   \n",
       "21596      1076     2.0         0.0   0.0  ...      7        1020   \n",
       "\n",
       "       sqft_basement  yr_built  yr_renovated  zipcode      lat     long  \\\n",
       "0                0.0      1955           0.0    98178  47.5112 -122.257   \n",
       "1              400.0      1951        1991.0    98125  47.7210 -122.319   \n",
       "2                0.0      1933           0.0    98028  47.7379 -122.233   \n",
       "3              910.0      1965           0.0    98136  47.5208 -122.393   \n",
       "4                0.0      1987           0.0    98074  47.6168 -122.045   \n",
       "...              ...       ...           ...      ...      ...      ...   \n",
       "21592            0.0      2009           0.0    98103  47.6993 -122.346   \n",
       "21593            0.0      2014           0.0    98146  47.5107 -122.362   \n",
       "21594            0.0      2009           0.0    98144  47.5944 -122.299   \n",
       "21595            0.0      2004           0.0    98027  47.5345 -122.069   \n",
       "21596            0.0      2008           0.0    98144  47.5941 -122.299   \n",
       "\n",
       "       sqft_living15  sqft_lot15  \n",
       "0               1340        5650  \n",
       "1               1690        7639  \n",
       "2               2720        8062  \n",
       "3               1360        5000  \n",
       "4               1800        7503  \n",
       "...              ...         ...  \n",
       "21592           1530        1509  \n",
       "21593           1830        7200  \n",
       "21594           1020        2007  \n",
       "21595           1410        1287  \n",
       "21596           1020        1357  \n",
       "\n",
       "[21596 rows x 21 columns]"
      ]
     },
     "execution_count": 20,
     "metadata": {},
     "output_type": "execute_result"
    }
   ],
   "source": [
    "# drop the aforementioned outlier from `bedrooms`\n",
    "df[df.id != 2402100895]"
   ]
  },
  {
   "cell_type": "markdown",
   "metadata": {},
   "source": [
    "##### datatype misclassification"
   ]
  },
  {
   "cell_type": "markdown",
   "metadata": {},
   "source": [
    "Earlier, we mentioned possible datatype classification errors in certain categories. Let's take a closer look at the joint plots - these visualizations will provide us a great initial look at the distribution of each feature as well as a simple regression line to see there is a linear relationship with the target variable, `price`."
   ]
  },
  {
   "cell_type": "code",
   "execution_count": 21,
   "metadata": {
    "scrolled": true
   },
   "outputs": [
    {
     "data": {
      "image/png": "[encoded data removed]",
      "text/plain": [
       "<Figure size 216x216 with 3 Axes>"
      ]
     },
     "metadata": {
      "needs_background": "light"
     },
     "output_type": "display_data"
    },
    {
     "data": {
      "image/png": "[encoded data removed]",
      "text/plain": [
       "<Figure size 216x216 with 3 Axes>"
      ]
     },
     "metadata": {
      "needs_background": "light"
     },
     "output_type": "display_data"
    },
    {
     "data": {
      "image/png": "[encoded data removed]",
      "text/plain": [
       "<Figure size 216x216 with 3 Axes>"
      ]
     },
     "metadata": {
      "needs_background": "light"
     },
     "output_type": "display_data"
    },
    {
     "data": {
      "image/png": "[encoded data removed]",
      "text/plain": [
       "<Figure size 216x216 with 3 Axes>"
      ]
     },
     "metadata": {
      "needs_background": "light"
     },
     "output_type": "display_data"
    },
    {
     "data": {
      "image/png": "[encoded data removed]",
      "text/plain": [
       "<Figure size 216x216 with 3 Axes>"
      ]
     },
     "metadata": {
      "needs_background": "light"
     },
     "output_type": "display_data"
    },
    {
     "data": {
      "image/png": "[encoded data removed]",
      "text/plain": [
       "<Figure size 216x216 with 3 Axes>"
      ]
     },
     "metadata": {
      "needs_background": "light"
     },
     "output_type": "display_data"
    },
    {
     "data": {
      "image/png": "[encoded data removed]",
      "text/plain": [
       "<Figure size 216x216 with 3 Axes>"
      ]
     },
     "metadata": {
      "needs_background": "light"
     },
     "output_type": "display_data"
    },
    {
     "data": {
      "image/png": "[encoded data removed]",
      "text/plain": [
       "<Figure size 216x216 with 3 Axes>"
      ]
     },
     "metadata": {
      "needs_background": "light"
     },
     "output_type": "display_data"
    },
    {
     "data": {
      "image/png": "[encoded data removed]",
      "text/plain": [
       "<Figure size 216x216 with 3 Axes>"
      ]
     },
     "metadata": {
      "needs_background": "light"
     },
     "output_type": "display_data"
    },
    {
     "data": {
      "image/png": "[encoded data removed]",
      "text/plain": [
       "<Figure size 216x216 with 3 Axes>"
      ]
     },
     "metadata": {
      "needs_background": "light"
     },
     "output_type": "display_data"
    },
    {
     "data": {
      "image/png": "[encoded data removed]",
      "text/plain": [
       "<Figure size 216x216 with 3 Axes>"
      ]
     },
     "metadata": {
      "needs_background": "light"
     },
     "output_type": "display_data"
    },
    {
     "data": {
      "image/png": "[encoded data removed]",
      "text/plain": [
       "<Figure size 216x216 with 3 Axes>"
      ]
     },
     "metadata": {
      "needs_background": "light"
     },
     "output_type": "display_data"
    },
    {
     "data": {
      "image/png": "[encoded data removed]",
      "text/plain": [
       "<Figure size 216x216 with 3 Axes>"
      ]
     },
     "metadata": {
      "needs_background": "light"
     },
     "output_type": "display_data"
    },
    {
     "data": {
      "image/png": "[encoded data removed]",
      "text/plain": [
       "<Figure size 216x216 with 3 Axes>"
      ]
     },
     "metadata": {
      "needs_background": "light"
     },
     "output_type": "display_data"
    },
    {
     "data": {
      "image/png": "[encoded data removed]",
      "text/plain": [
       "<Figure size 216x216 with 3 Axes>"
      ]
     },
     "metadata": {
      "needs_background": "light"
     },
     "output_type": "display_data"
    },
    {
     "data": {
      "image/png": "[encoded data removed]",
      "text/plain": [
       "<Figure size 216x216 with 3 Axes>"
      ]
     },
     "metadata": {
      "needs_background": "light"
     },
     "output_type": "display_data"
    },
    {
     "data": {
      "image/png": "[encoded data removed]",
      "text/plain": [
       "<Figure size 216x216 with 3 Axes>"
      ]
     },
     "metadata": {
      "needs_background": "light"
     },
     "output_type": "display_data"
    },
    {
     "data": {
      "image/png": "[encoded data removed]",
      "text/plain": [
       "<Figure size 216x216 with 3 Axes>"
      ]
     },
     "metadata": {
      "needs_background": "light"
     },
     "output_type": "display_data"
    }
   ],
   "source": [
    "# use the `cols` variable defined above when we examined outliers\n",
    "for col in cols:\n",
    "    sns.jointplot(x= df[col], y= df['price'], data=df, kind='reg', height=3)"
   ]
  },
  {
   "cell_type": "markdown",
   "metadata": {},
   "source": [
    "> A visual inspection confirms our observation earlier about the datatype misclassification of certain features that are dichotomous (`waterfront`), nominal (`zipcode`), and ordinal (`view`, `condition`, `grade`). Note that `yr_built` and `yr_renovated` could be considered categorical as well, but due to the number of values, we are treating them as continous variables in this regression.<br><br>\n",
    "*reference for classifying categorical/continous variables: https://statistics.laerd.com/statistical-guides/types-of-variable.php*"
   ]
  },
  {
   "cell_type": "code",
   "execution_count": 22,
   "metadata": {},
   "outputs": [],
   "source": [
    "# change relevant features to `object` dtype\n",
    "cat_features = ['waterfront', 'view', 'condition', 'grade', 'zipcode']\n",
    "\n",
    "for feat in cat_features:\n",
    "        df[feat] = df[feat].astype('object')"
   ]
  },
  {
   "cell_type": "code",
   "execution_count": 23,
   "metadata": {
    "scrolled": false
   },
   "outputs": [
    {
     "name": "stdout",
     "output_type": "stream",
     "text": [
      "<class 'pandas.core.frame.DataFrame'>\n",
      "RangeIndex: 21597 entries, 0 to 21596\n",
      "Data columns (total 21 columns):\n",
      " #   Column         Non-Null Count  Dtype  \n",
      "---  ------         --------------  -----  \n",
      " 0   id             21597 non-null  int64  \n",
      " 1   date           21597 non-null  int64  \n",
      " 2   price          21597 non-null  float64\n",
      " 3   bedrooms       21597 non-null  int64  \n",
      " 4   bathrooms      21597 non-null  float64\n",
      " 5   sqft_living    21597 non-null  int64  \n",
      " 6   sqft_lot       21597 non-null  int64  \n",
      " 7   floors         21597 non-null  float64\n",
      " 8   waterfront     21597 non-null  object \n",
      " 9   view           21597 non-null  object \n",
      " 10  condition      21597 non-null  object \n",
      " 11  grade          21597 non-null  object \n",
      " 12  sqft_above     21597 non-null  int64  \n",
      " 13  sqft_basement  21597 non-null  float64\n",
      " 14  yr_built       21597 non-null  int64  \n",
      " 15  yr_renovated   21597 non-null  float64\n",
      " 16  zipcode        21597 non-null  object \n",
      " 17  lat            21597 non-null  float64\n",
      " 18  long           21597 non-null  float64\n",
      " 19  sqft_living15  21597 non-null  int64  \n",
      " 20  sqft_lot15     21597 non-null  int64  \n",
      "dtypes: float64(7), int64(9), object(5)\n",
      "memory usage: 3.5+ MB\n"
     ]
    }
   ],
   "source": [
    "# confirm datatypes have been successfully updated\n",
    "df.info()"
   ]
  },
  {
   "cell_type": "markdown",
   "metadata": {},
   "source": [
    "#### address multicollinearity"
   ]
  },
  {
   "cell_type": "markdown",
   "metadata": {},
   "source": [
    "In our experiment, we want to understand the role of each independent variable, or predictor, keeping all other predictors constant (the premise of regression analysis). Therefore, we need to address multicollinearity as it violates this premise and coefficients and p-values might not be reliable for correlated predictors."
   ]
  },
  {
   "cell_type": "code",
   "execution_count": 24,
   "metadata": {},
   "outputs": [
    {
     "data": {
      "image/png": "[encoded data removed]",
      "text/plain": [
       "<Figure size 864x576 with 2 Axes>"
      ]
     },
     "metadata": {},
     "output_type": "display_data"
    }
   ],
   "source": [
    "# create a heatmap, setting 0.75 as a threshold for determining multicollinearity\n",
    "corr = df.corr()\n",
    "mask = np.zeros_like(corr)\n",
    "mask[np.triu_indices_from(mask)] = True\n",
    "with sns.axes_style(\"white\"):\n",
    "    f, ax = plt.subplots(figsize=(12, 8))\n",
    "    ax = sns.heatmap(corr, mask=mask, vmin=-0.75, vmax=0.75, annot=True, cmap=\"RdBu_r\")\n",
    "    bottom, top = ax.get_ylim()\n",
    "    ax.set_ylim(bottom + 0.5, top - 0.5)"
   ]
  },
  {
   "cell_type": "markdown",
   "metadata": {},
   "source": [
    "> We see the following highly correlated features:\n",
    "- `bathrooms` and `sqft_living` (0.76)\n",
    "- `sqft_above` and  `sqft_living` (0.88)\n",
    "- `sqft_living15` and `sqft_living` (0.76)\n",
    "\n",
    "We'll look at each feature's relationship to the target variable, `price`, using simple linear regression to determine which to keep for our model."
   ]
  },
  {
   "cell_type": "code",
   "execution_count": 25,
   "metadata": {
    "scrolled": true
   },
   "outputs": [
    {
     "data": {
      "text/html": [
       "<div>\n",
       "<style scoped>\n",
       "    .dataframe tbody tr th:only-of-type {\n",
       "        vertical-align: middle;\n",
       "    }\n",
       "\n",
       "    .dataframe tbody tr th {\n",
       "        vertical-align: top;\n",
       "    }\n",
       "\n",
       "    .dataframe thead th {\n",
       "        text-align: right;\n",
       "    }\n",
       "</style>\n",
       "<table border=\"1\" class=\"dataframe\">\n",
       "  <thead>\n",
       "    <tr style=\"text-align: right;\">\n",
       "      <th></th>\n",
       "      <th>ind_var</th>\n",
       "      <th>r_squared</th>\n",
       "      <th>intercept</th>\n",
       "      <th>slope</th>\n",
       "      <th>p-value</th>\n",
       "    </tr>\n",
       "  </thead>\n",
       "  <tbody>\n",
       "    <tr>\n",
       "      <th>0</th>\n",
       "      <td>sqft_living</td>\n",
       "      <td>0.492688</td>\n",
       "      <td>-4.398889e+04</td>\n",
       "      <td>280.863014</td>\n",
       "      <td>0.0</td>\n",
       "    </tr>\n",
       "    <tr>\n",
       "      <th>1</th>\n",
       "      <td>bathrooms</td>\n",
       "      <td>0.276577</td>\n",
       "      <td>8.712652e+03</td>\n",
       "      <td>251241.762495</td>\n",
       "      <td>0.0</td>\n",
       "    </tr>\n",
       "    <tr>\n",
       "      <th>2</th>\n",
       "      <td>sqft_above</td>\n",
       "      <td>0.366470</td>\n",
       "      <td>5.975711e+04</td>\n",
       "      <td>268.668406</td>\n",
       "      <td>0.0</td>\n",
       "    </tr>\n",
       "    <tr>\n",
       "      <th>3</th>\n",
       "      <td>sqft_living15</td>\n",
       "      <td>0.342507</td>\n",
       "      <td>-8.302849e+04</td>\n",
       "      <td>313.761545</td>\n",
       "      <td>0.0</td>\n",
       "    </tr>\n",
       "    <tr>\n",
       "      <th>4</th>\n",
       "      <td>price</td>\n",
       "      <td>1.000000</td>\n",
       "      <td>-1.496119e-10</td>\n",
       "      <td>1.000000</td>\n",
       "      <td>0.0</td>\n",
       "    </tr>\n",
       "  </tbody>\n",
       "</table>\n",
       "</div>"
      ],
      "text/plain": [
       "         ind_var  r_squared     intercept          slope  p-value\n",
       "0    sqft_living   0.492688 -4.398889e+04     280.863014      0.0\n",
       "1      bathrooms   0.276577  8.712652e+03  251241.762495      0.0\n",
       "2     sqft_above   0.366470  5.975711e+04     268.668406      0.0\n",
       "3  sqft_living15   0.342507 -8.302849e+04     313.761545      0.0\n",
       "4          price   1.000000 -1.496119e-10       1.000000      0.0"
      ]
     },
     "execution_count": 25,
     "metadata": {},
     "output_type": "execute_result"
    }
   ],
   "source": [
    "# create a dataframe with relevant features to run a simple OLS regression for each feature\n",
    "subset = ['sqft_living', 'bathrooms', 'sqft_above', 'sqft_living15', 'price']\n",
    "data = df.loc[:, subset]\n",
    "\n",
    "results = []\n",
    "for column in data.columns:\n",
    "    \n",
    "    # simple OLS regression model\n",
    "    f = f'price~{column}'\n",
    "    model = smf.ols(formula=f, data=data).fit()\n",
    "    \n",
    "    results.append([column, model.rsquared, model.params[0], model.params[1], model.pvalues[1]])\n",
    "    \n",
    "# show results in a DataFrame\n",
    "pd.DataFrame(results, columns=['ind_var', 'r_squared', 'intercept', 'slope', 'p-value'])"
   ]
  },
  {
   "cell_type": "markdown",
   "metadata": {},
   "source": [
    "A good general rule is to drop the feature that isn’t as strongly correlated with the target variable. Even though these variables are significant with a 0.05 $a$ threshold, we see that `bathrooms`, `sqft_above`, and `sqft_living15` relatively capture a smaller proportion of the variation that can be attributed to the target variable of `price`.\n",
    "\n",
    "Dropping `sqft_above` makes sense as it can represent the same space as `sqft_living`. \n",
    "\n",
    "`bathrooms` could be turned into a dichotomous variable (yes/no), but every property would have bathroom(s). Alternatively, if we combined it with `bedrooms` as a new feature, we would be sacrificing interpretability for accuracy, so we made a choice to drop it, as well.\n",
    "\n",
    "We decided to drop the `sqft_living15` feature as well, rather than create a combined feature with `sqft_lot15` for the same reasons of balancing interpretability and accuracy."
   ]
  },
  {
   "cell_type": "code",
   "execution_count": 26,
   "metadata": {},
   "outputs": [],
   "source": [
    "# drop aforementioned features to create the final preprocessed dataframe\n",
    "drop_cols = ['bathrooms', 'sqft_above', 'sqft_living15']\n",
    "data = df.drop(drop_cols, axis=1)"
   ]
  },
  {
   "cell_type": "markdown",
   "metadata": {},
   "source": [
    "### Modeling"
   ]
  },
  {
   "cell_type": "markdown",
   "metadata": {},
   "source": [
    "First, let's set up our predictors and target variable."
   ]
  },
  {
   "cell_type": "code",
   "execution_count": 27,
   "metadata": {
    "scrolled": true
   },
   "outputs": [],
   "source": [
    "# set independent and dependent variables\n",
    "X = data.drop('price', axis=1)\n",
    "y = data['price']"
   ]
  },
  {
   "cell_type": "markdown",
   "metadata": {},
   "source": [
    "#### normalizing target value"
   ]
  },
  {
   "cell_type": "markdown",
   "metadata": {},
   "source": [
    "Before taking steps to fit our model, let's take a quick look at the distribution of our target variable, `price`. "
   ]
  },
  {
   "cell_type": "code",
   "execution_count": 28,
   "metadata": {},
   "outputs": [
    {
     "data": {
      "text/plain": [
       "<matplotlib.axes._subplots.AxesSubplot at 0x7fd748f7f470>"
      ]
     },
     "execution_count": 28,
     "metadata": {},
     "output_type": "execute_result"
    },
    {
     "data": {
      "image/png": "[encoded data removed]",
      "text/plain": [
       "<Figure size 432x288 with 1 Axes>"
      ]
     },
     "metadata": {
      "needs_background": "light"
     },
     "output_type": "display_data"
    }
   ],
   "source": [
    "sns.distplot(y)"
   ]
  },
  {
   "cell_type": "markdown",
   "metadata": {},
   "source": [
    "> We can see the data is heavily positively skewed and needs to be normalized. An alternative option would be trim the outliers, but that would unnecessarily cut down on our data. Slightly increasing the difficulty of the model interpretability is the easier choice in this case."
   ]
  },
  {
   "cell_type": "code",
   "execution_count": 29,
   "metadata": {},
   "outputs": [],
   "source": [
    "# normalize the target variable\n",
    "log_y = np.log(y)"
   ]
  },
  {
   "cell_type": "markdown",
   "metadata": {},
   "source": [
    "#### train-test-split"
   ]
  },
  {
   "cell_type": "markdown",
   "metadata": {},
   "source": [
    "We'll split the data into training and test sets - using the training set to select features to train our model and the test set to test the performance of these features. Keep in mind we're using our log transformed target variable, `log_y`."
   ]
  },
  {
   "cell_type": "code",
   "execution_count": 30,
   "metadata": {},
   "outputs": [
    {
     "name": "stdout",
     "output_type": "stream",
     "text": [
      "17277 4320 17277 4320\n"
     ]
    }
   ],
   "source": [
    "# set a random state for results reproducibility \n",
    "X_train, X_test, y_train, y_test = train_test_split(X, log_y, test_size=0.20, random_state=73)\n",
    "print(len(X_train), len(X_test), len(y_train), len(y_test))"
   ]
  },
  {
   "cell_type": "markdown",
   "metadata": {},
   "source": [
    "#### create baseline model"
   ]
  },
  {
   "cell_type": "code",
   "execution_count": 31,
   "metadata": {
    "scrolled": true
   },
   "outputs": [
    {
     "name": "stdout",
     "output_type": "stream",
     "text": [
      "r_squared: 0.765228740877692\n",
      "Train Mean Squared Error: 0.06535743268881858\n",
      "Test Mean Squared Error: 0.06617200806162483\n"
     ]
    }
   ],
   "source": [
    "# fit the model to the train data\n",
    "linreg = LinearRegression()\n",
    "linreg.fit(X_train, y_train)\n",
    "\n",
    "# calculate predictions on training and test sets\n",
    "y_hat_train = linreg.predict(X_train)\n",
    "y_hat_test = linreg.predict(X_test)\n",
    "\n",
    "print('r_squared:', linreg.score(X_test, y_test))\n",
    "print('Train Mean Squared Error:', mean_squared_error(y_train, y_hat_train))\n",
    "print('Test Mean Squared Error:', mean_squared_error(y_test, y_hat_test))"
   ]
  },
  {
   "cell_type": "markdown",
   "metadata": {},
   "source": [
    "The **r_squared** score is the proportion of the variance in the target variable, `price`, that is predictable from the independent variables or features. In other words, 76.52% of the variance in `price` can be explained by the predictors in our model.\n",
    "\n",
    "There is no correct value for **Mean Squared Error**. Simply put, the lower the value the better and 0 means the model is perfect. Since it's a relative measure against another model, we'll use this MSE calculation as a baseline."
   ]
  },
  {
   "cell_type": "markdown",
   "metadata": {},
   "source": [
    "#### k-fold cross-validation"
   ]
  },
  {
   "cell_type": "markdown",
   "metadata": {},
   "source": [
    "We'll examine k-fold cross-validation for another model validation comparison."
   ]
  },
  {
   "cell_type": "code",
   "execution_count": 32,
   "metadata": {},
   "outputs": [
    {
     "name": "stdout",
     "output_type": "stream",
     "text": [
      "Accuracy: 76.02%\n"
     ]
    }
   ],
   "source": [
    "# cross-validation using scikit-learn\n",
    "kfold = model_selection.KFold(n_splits=10)\n",
    "model_kfold = LinearRegression()\n",
    "results_kfold = model_selection.cross_val_score(model_kfold, X, log_y, cv=kfold)\n",
    "print(\"Accuracy: %.2f%%\" % (results_kfold.mean()*100.0))"
   ]
  },
  {
   "cell_type": "markdown",
   "metadata": {},
   "source": [
    "> Given that the r_squared value is slightly lower to the train-test-split method, we'll continue using train-test-split sets for further analsis."
   ]
  },
  {
   "cell_type": "markdown",
   "metadata": {},
   "source": [
    "#### one-hot encoding (OHE)"
   ]
  },
  {
   "cell_type": "markdown",
   "metadata": {},
   "source": [
    "We chose to utilize one-hot encoding (OHE) for our categorical predictors only after splitting our data into train and test sets. This ensures we don't have train-test contamination (data leakage) that might result in an overfitted model. As a result, we will have to perform OHE on the training and test sets separately."
   ]
  },
  {
   "cell_type": "markdown",
   "metadata": {},
   "source": [
    "##### training set OHE"
   ]
  },
  {
   "cell_type": "code",
   "execution_count": 33,
   "metadata": {},
   "outputs": [],
   "source": [
    "# create a subset of the columns that are categorical variables\n",
    "train_categoricals = [col for col in X_train if X_train[col].dtype == object]\n",
    "\n",
    "# create dummy variables, dropping the first category to address the dummy variable trap\n",
    "df_train_ohe = pd.get_dummies(X_train[train_categoricals], prefix=train_categoricals, drop_first=True)"
   ]
  },
  {
   "cell_type": "code",
   "execution_count": 34,
   "metadata": {
    "scrolled": true
   },
   "outputs": [
    {
     "data": {
      "text/html": [
       "<div>\n",
       "<style scoped>\n",
       "    .dataframe tbody tr th:only-of-type {\n",
       "        vertical-align: middle;\n",
       "    }\n",
       "\n",
       "    .dataframe tbody tr th {\n",
       "        vertical-align: top;\n",
       "    }\n",
       "\n",
       "    .dataframe thead th {\n",
       "        text-align: right;\n",
       "    }\n",
       "</style>\n",
       "<table border=\"1\" class=\"dataframe\">\n",
       "  <thead>\n",
       "    <tr style=\"text-align: right;\">\n",
       "      <th></th>\n",
       "      <th>id</th>\n",
       "      <th>date</th>\n",
       "      <th>bedrooms</th>\n",
       "      <th>sqft_living</th>\n",
       "      <th>sqft_lot</th>\n",
       "      <th>floors</th>\n",
       "      <th>sqft_basement</th>\n",
       "      <th>yr_built</th>\n",
       "      <th>yr_renovated</th>\n",
       "      <th>lat</th>\n",
       "      <th>...</th>\n",
       "      <th>zipcode_98146</th>\n",
       "      <th>zipcode_98148</th>\n",
       "      <th>zipcode_98155</th>\n",
       "      <th>zipcode_98166</th>\n",
       "      <th>zipcode_98168</th>\n",
       "      <th>zipcode_98177</th>\n",
       "      <th>zipcode_98178</th>\n",
       "      <th>zipcode_98188</th>\n",
       "      <th>zipcode_98198</th>\n",
       "      <th>zipcode_98199</th>\n",
       "    </tr>\n",
       "  </thead>\n",
       "  <tbody>\n",
       "    <tr>\n",
       "      <th>7847</th>\n",
       "      <td>9129100040</td>\n",
       "      <td>735470</td>\n",
       "      <td>4</td>\n",
       "      <td>3320</td>\n",
       "      <td>8587</td>\n",
       "      <td>3.0</td>\n",
       "      <td>370.0</td>\n",
       "      <td>2008</td>\n",
       "      <td>0.0</td>\n",
       "      <td>47.6910</td>\n",
       "      <td>...</td>\n",
       "      <td>0</td>\n",
       "      <td>0</td>\n",
       "      <td>0</td>\n",
       "      <td>0</td>\n",
       "      <td>0</td>\n",
       "      <td>0</td>\n",
       "      <td>0</td>\n",
       "      <td>0</td>\n",
       "      <td>0</td>\n",
       "      <td>0</td>\n",
       "    </tr>\n",
       "    <tr>\n",
       "      <th>13379</th>\n",
       "      <td>7137800085</td>\n",
       "      <td>735509</td>\n",
       "      <td>3</td>\n",
       "      <td>1170</td>\n",
       "      <td>9085</td>\n",
       "      <td>1.0</td>\n",
       "      <td>0.0</td>\n",
       "      <td>1967</td>\n",
       "      <td>0.0</td>\n",
       "      <td>47.2808</td>\n",
       "      <td>...</td>\n",
       "      <td>0</td>\n",
       "      <td>0</td>\n",
       "      <td>0</td>\n",
       "      <td>0</td>\n",
       "      <td>0</td>\n",
       "      <td>0</td>\n",
       "      <td>0</td>\n",
       "      <td>0</td>\n",
       "      <td>0</td>\n",
       "      <td>0</td>\n",
       "    </tr>\n",
       "    <tr>\n",
       "      <th>1017</th>\n",
       "      <td>1623049214</td>\n",
       "      <td>735502</td>\n",
       "      <td>4</td>\n",
       "      <td>1480</td>\n",
       "      <td>47045</td>\n",
       "      <td>1.0</td>\n",
       "      <td>0.0</td>\n",
       "      <td>1942</td>\n",
       "      <td>0.0</td>\n",
       "      <td>47.4809</td>\n",
       "      <td>...</td>\n",
       "      <td>0</td>\n",
       "      <td>0</td>\n",
       "      <td>0</td>\n",
       "      <td>0</td>\n",
       "      <td>1</td>\n",
       "      <td>0</td>\n",
       "      <td>0</td>\n",
       "      <td>0</td>\n",
       "      <td>0</td>\n",
       "      <td>0</td>\n",
       "    </tr>\n",
       "    <tr>\n",
       "      <th>5410</th>\n",
       "      <td>2568200170</td>\n",
       "      <td>735668</td>\n",
       "      <td>5</td>\n",
       "      <td>3220</td>\n",
       "      <td>5934</td>\n",
       "      <td>2.0</td>\n",
       "      <td>0.0</td>\n",
       "      <td>2006</td>\n",
       "      <td>0.0</td>\n",
       "      <td>47.7076</td>\n",
       "      <td>...</td>\n",
       "      <td>0</td>\n",
       "      <td>0</td>\n",
       "      <td>0</td>\n",
       "      <td>0</td>\n",
       "      <td>0</td>\n",
       "      <td>0</td>\n",
       "      <td>0</td>\n",
       "      <td>0</td>\n",
       "      <td>0</td>\n",
       "      <td>0</td>\n",
       "    </tr>\n",
       "    <tr>\n",
       "      <th>19971</th>\n",
       "      <td>2726059144</td>\n",
       "      <td>735698</td>\n",
       "      <td>5</td>\n",
       "      <td>4570</td>\n",
       "      <td>10194</td>\n",
       "      <td>2.0</td>\n",
       "      <td>0.0</td>\n",
       "      <td>2006</td>\n",
       "      <td>0.0</td>\n",
       "      <td>47.7180</td>\n",
       "      <td>...</td>\n",
       "      <td>0</td>\n",
       "      <td>0</td>\n",
       "      <td>0</td>\n",
       "      <td>0</td>\n",
       "      <td>0</td>\n",
       "      <td>0</td>\n",
       "      <td>0</td>\n",
       "      <td>0</td>\n",
       "      <td>0</td>\n",
       "      <td>0</td>\n",
       "    </tr>\n",
       "    <tr>\n",
       "      <th>...</th>\n",
       "      <td>...</td>\n",
       "      <td>...</td>\n",
       "      <td>...</td>\n",
       "      <td>...</td>\n",
       "      <td>...</td>\n",
       "      <td>...</td>\n",
       "      <td>...</td>\n",
       "      <td>...</td>\n",
       "      <td>...</td>\n",
       "      <td>...</td>\n",
       "      <td>...</td>\n",
       "      <td>...</td>\n",
       "      <td>...</td>\n",
       "      <td>...</td>\n",
       "      <td>...</td>\n",
       "      <td>...</td>\n",
       "      <td>...</td>\n",
       "      <td>...</td>\n",
       "      <td>...</td>\n",
       "      <td>...</td>\n",
       "      <td>...</td>\n",
       "    </tr>\n",
       "    <tr>\n",
       "      <th>13704</th>\n",
       "      <td>6192400180</td>\n",
       "      <td>735512</td>\n",
       "      <td>5</td>\n",
       "      <td>3290</td>\n",
       "      <td>5600</td>\n",
       "      <td>2.0</td>\n",
       "      <td>620.0</td>\n",
       "      <td>2004</td>\n",
       "      <td>0.0</td>\n",
       "      <td>47.7056</td>\n",
       "      <td>...</td>\n",
       "      <td>0</td>\n",
       "      <td>0</td>\n",
       "      <td>0</td>\n",
       "      <td>0</td>\n",
       "      <td>0</td>\n",
       "      <td>0</td>\n",
       "      <td>0</td>\n",
       "      <td>0</td>\n",
       "      <td>0</td>\n",
       "      <td>0</td>\n",
       "    </tr>\n",
       "    <tr>\n",
       "      <th>16144</th>\n",
       "      <td>4137070440</td>\n",
       "      <td>735506</td>\n",
       "      <td>5</td>\n",
       "      <td>2570</td>\n",
       "      <td>7260</td>\n",
       "      <td>2.0</td>\n",
       "      <td>0.0</td>\n",
       "      <td>1996</td>\n",
       "      <td>0.0</td>\n",
       "      <td>47.2622</td>\n",
       "      <td>...</td>\n",
       "      <td>0</td>\n",
       "      <td>0</td>\n",
       "      <td>0</td>\n",
       "      <td>0</td>\n",
       "      <td>0</td>\n",
       "      <td>0</td>\n",
       "      <td>0</td>\n",
       "      <td>0</td>\n",
       "      <td>0</td>\n",
       "      <td>0</td>\n",
       "    </tr>\n",
       "    <tr>\n",
       "      <th>8586</th>\n",
       "      <td>6303401395</td>\n",
       "      <td>735648</td>\n",
       "      <td>2</td>\n",
       "      <td>1220</td>\n",
       "      <td>8382</td>\n",
       "      <td>1.0</td>\n",
       "      <td>0.0</td>\n",
       "      <td>1942</td>\n",
       "      <td>0.0</td>\n",
       "      <td>47.5033</td>\n",
       "      <td>...</td>\n",
       "      <td>1</td>\n",
       "      <td>0</td>\n",
       "      <td>0</td>\n",
       "      <td>0</td>\n",
       "      <td>0</td>\n",
       "      <td>0</td>\n",
       "      <td>0</td>\n",
       "      <td>0</td>\n",
       "      <td>0</td>\n",
       "      <td>0</td>\n",
       "    </tr>\n",
       "    <tr>\n",
       "      <th>4014</th>\n",
       "      <td>622059031</td>\n",
       "      <td>735388</td>\n",
       "      <td>4</td>\n",
       "      <td>1540</td>\n",
       "      <td>115434</td>\n",
       "      <td>1.5</td>\n",
       "      <td>0.0</td>\n",
       "      <td>1923</td>\n",
       "      <td>0.0</td>\n",
       "      <td>47.4163</td>\n",
       "      <td>...</td>\n",
       "      <td>0</td>\n",
       "      <td>0</td>\n",
       "      <td>0</td>\n",
       "      <td>0</td>\n",
       "      <td>0</td>\n",
       "      <td>0</td>\n",
       "      <td>0</td>\n",
       "      <td>0</td>\n",
       "      <td>0</td>\n",
       "      <td>0</td>\n",
       "    </tr>\n",
       "    <tr>\n",
       "      <th>21398</th>\n",
       "      <td>1624049291</td>\n",
       "      <td>735514</td>\n",
       "      <td>3</td>\n",
       "      <td>3350</td>\n",
       "      <td>5025</td>\n",
       "      <td>2.0</td>\n",
       "      <td>680.0</td>\n",
       "      <td>2014</td>\n",
       "      <td>0.0</td>\n",
       "      <td>47.5699</td>\n",
       "      <td>...</td>\n",
       "      <td>0</td>\n",
       "      <td>0</td>\n",
       "      <td>0</td>\n",
       "      <td>0</td>\n",
       "      <td>0</td>\n",
       "      <td>0</td>\n",
       "      <td>0</td>\n",
       "      <td>0</td>\n",
       "      <td>0</td>\n",
       "      <td>0</td>\n",
       "    </tr>\n",
       "  </tbody>\n",
       "</table>\n",
       "<p>17277 rows × 100 columns</p>\n",
       "</div>"
      ],
      "text/plain": [
       "               id    date  bedrooms  sqft_living  sqft_lot  floors  \\\n",
       "7847   9129100040  735470         4         3320      8587     3.0   \n",
       "13379  7137800085  735509         3         1170      9085     1.0   \n",
       "1017   1623049214  735502         4         1480     47045     1.0   \n",
       "5410   2568200170  735668         5         3220      5934     2.0   \n",
       "19971  2726059144  735698         5         4570     10194     2.0   \n",
       "...           ...     ...       ...          ...       ...     ...   \n",
       "13704  6192400180  735512         5         3290      5600     2.0   \n",
       "16144  4137070440  735506         5         2570      7260     2.0   \n",
       "8586   6303401395  735648         2         1220      8382     1.0   \n",
       "4014    622059031  735388         4         1540    115434     1.5   \n",
       "21398  1624049291  735514         3         3350      5025     2.0   \n",
       "\n",
       "       sqft_basement  yr_built  yr_renovated      lat  ...  zipcode_98146  \\\n",
       "7847           370.0      2008           0.0  47.6910  ...              0   \n",
       "13379            0.0      1967           0.0  47.2808  ...              0   \n",
       "1017             0.0      1942           0.0  47.4809  ...              0   \n",
       "5410             0.0      2006           0.0  47.7076  ...              0   \n",
       "19971            0.0      2006           0.0  47.7180  ...              0   \n",
       "...              ...       ...           ...      ...  ...            ...   \n",
       "13704          620.0      2004           0.0  47.7056  ...              0   \n",
       "16144            0.0      1996           0.0  47.2622  ...              0   \n",
       "8586             0.0      1942           0.0  47.5033  ...              1   \n",
       "4014             0.0      1923           0.0  47.4163  ...              0   \n",
       "21398          680.0      2014           0.0  47.5699  ...              0   \n",
       "\n",
       "       zipcode_98148  zipcode_98155  zipcode_98166  zipcode_98168  \\\n",
       "7847               0              0              0              0   \n",
       "13379              0              0              0              0   \n",
       "1017               0              0              0              1   \n",
       "5410               0              0              0              0   \n",
       "19971              0              0              0              0   \n",
       "...              ...            ...            ...            ...   \n",
       "13704              0              0              0              0   \n",
       "16144              0              0              0              0   \n",
       "8586               0              0              0              0   \n",
       "4014               0              0              0              0   \n",
       "21398              0              0              0              0   \n",
       "\n",
       "       zipcode_98177  zipcode_98178  zipcode_98188  zipcode_98198  \\\n",
       "7847               0              0              0              0   \n",
       "13379              0              0              0              0   \n",
       "1017               0              0              0              0   \n",
       "5410               0              0              0              0   \n",
       "19971              0              0              0              0   \n",
       "...              ...            ...            ...            ...   \n",
       "13704              0              0              0              0   \n",
       "16144              0              0              0              0   \n",
       "8586               0              0              0              0   \n",
       "4014               0              0              0              0   \n",
       "21398              0              0              0              0   \n",
       "\n",
       "       zipcode_98199  \n",
       "7847               0  \n",
       "13379              0  \n",
       "1017               0  \n",
       "5410               0  \n",
       "19971              0  \n",
       "...              ...  \n",
       "13704              0  \n",
       "16144              0  \n",
       "8586               0  \n",
       "4014               0  \n",
       "21398              0  \n",
       "\n",
       "[17277 rows x 100 columns]"
      ]
     },
     "execution_count": 34,
     "metadata": {},
     "output_type": "execute_result"
    }
   ],
   "source": [
    "# drop the original categorical columns and replace with the dummy variables\n",
    "df_train_continuous = X_train.drop(train_categoricals, axis=1)\n",
    "\n",
    "X_train_preprocessed = pd.concat([df_train_continuous, df_train_ohe], axis=1)\n",
    "X_train_preprocessed"
   ]
  },
  {
   "cell_type": "markdown",
   "metadata": {},
   "source": [
    "##### test set OHE"
   ]
  },
  {
   "cell_type": "code",
   "execution_count": 35,
   "metadata": {},
   "outputs": [],
   "source": [
    "# create a subset of the columns that are categorical variables\n",
    "test_categoricals = [col for col in X_test if X_test[col].dtype == object]\n",
    "\n",
    "# create dummy variables, dropping the first category to address the dummy variable trap\n",
    "df_test_ohe = pd.get_dummies(X_test[test_categoricals], prefix=test_categoricals, drop_first=True)"
   ]
  },
  {
   "cell_type": "code",
   "execution_count": 36,
   "metadata": {
    "scrolled": true
   },
   "outputs": [
    {
     "data": {
      "text/html": [
       "<div>\n",
       "<style scoped>\n",
       "    .dataframe tbody tr th:only-of-type {\n",
       "        vertical-align: middle;\n",
       "    }\n",
       "\n",
       "    .dataframe tbody tr th {\n",
       "        vertical-align: top;\n",
       "    }\n",
       "\n",
       "    .dataframe thead th {\n",
       "        text-align: right;\n",
       "    }\n",
       "</style>\n",
       "<table border=\"1\" class=\"dataframe\">\n",
       "  <thead>\n",
       "    <tr style=\"text-align: right;\">\n",
       "      <th></th>\n",
       "      <th>id</th>\n",
       "      <th>date</th>\n",
       "      <th>bedrooms</th>\n",
       "      <th>sqft_living</th>\n",
       "      <th>sqft_lot</th>\n",
       "      <th>floors</th>\n",
       "      <th>sqft_basement</th>\n",
       "      <th>yr_built</th>\n",
       "      <th>yr_renovated</th>\n",
       "      <th>lat</th>\n",
       "      <th>...</th>\n",
       "      <th>zipcode_98146</th>\n",
       "      <th>zipcode_98148</th>\n",
       "      <th>zipcode_98155</th>\n",
       "      <th>zipcode_98166</th>\n",
       "      <th>zipcode_98168</th>\n",
       "      <th>zipcode_98177</th>\n",
       "      <th>zipcode_98178</th>\n",
       "      <th>zipcode_98188</th>\n",
       "      <th>zipcode_98198</th>\n",
       "      <th>zipcode_98199</th>\n",
       "    </tr>\n",
       "  </thead>\n",
       "  <tbody>\n",
       "    <tr>\n",
       "      <th>13856</th>\n",
       "      <td>824059042</td>\n",
       "      <td>735383</td>\n",
       "      <td>5</td>\n",
       "      <td>4180</td>\n",
       "      <td>17935</td>\n",
       "      <td>2.0</td>\n",
       "      <td>0.0</td>\n",
       "      <td>2004</td>\n",
       "      <td>0.0</td>\n",
       "      <td>47.5873</td>\n",
       "      <td>...</td>\n",
       "      <td>0</td>\n",
       "      <td>0</td>\n",
       "      <td>0</td>\n",
       "      <td>0</td>\n",
       "      <td>0</td>\n",
       "      <td>0</td>\n",
       "      <td>0</td>\n",
       "      <td>0</td>\n",
       "      <td>0</td>\n",
       "      <td>0</td>\n",
       "    </tr>\n",
       "    <tr>\n",
       "      <th>9135</th>\n",
       "      <td>4048400191</td>\n",
       "      <td>735389</td>\n",
       "      <td>3</td>\n",
       "      <td>1700</td>\n",
       "      <td>51649</td>\n",
       "      <td>1.5</td>\n",
       "      <td>0.0</td>\n",
       "      <td>1931</td>\n",
       "      <td>0.0</td>\n",
       "      <td>47.4704</td>\n",
       "      <td>...</td>\n",
       "      <td>0</td>\n",
       "      <td>0</td>\n",
       "      <td>0</td>\n",
       "      <td>0</td>\n",
       "      <td>0</td>\n",
       "      <td>0</td>\n",
       "      <td>0</td>\n",
       "      <td>0</td>\n",
       "      <td>0</td>\n",
       "      <td>0</td>\n",
       "    </tr>\n",
       "    <tr>\n",
       "      <th>13905</th>\n",
       "      <td>5683500085</td>\n",
       "      <td>735502</td>\n",
       "      <td>2</td>\n",
       "      <td>880</td>\n",
       "      <td>4558</td>\n",
       "      <td>1.0</td>\n",
       "      <td>0.0</td>\n",
       "      <td>1951</td>\n",
       "      <td>0.0</td>\n",
       "      <td>47.6803</td>\n",
       "      <td>...</td>\n",
       "      <td>0</td>\n",
       "      <td>0</td>\n",
       "      <td>0</td>\n",
       "      <td>0</td>\n",
       "      <td>0</td>\n",
       "      <td>0</td>\n",
       "      <td>0</td>\n",
       "      <td>0</td>\n",
       "      <td>0</td>\n",
       "      <td>0</td>\n",
       "    </tr>\n",
       "    <tr>\n",
       "      <th>20080</th>\n",
       "      <td>3262300485</td>\n",
       "      <td>735709</td>\n",
       "      <td>5</td>\n",
       "      <td>3410</td>\n",
       "      <td>8118</td>\n",
       "      <td>2.0</td>\n",
       "      <td>0.0</td>\n",
       "      <td>2006</td>\n",
       "      <td>0.0</td>\n",
       "      <td>47.6295</td>\n",
       "      <td>...</td>\n",
       "      <td>0</td>\n",
       "      <td>0</td>\n",
       "      <td>0</td>\n",
       "      <td>0</td>\n",
       "      <td>0</td>\n",
       "      <td>0</td>\n",
       "      <td>0</td>\n",
       "      <td>0</td>\n",
       "      <td>0</td>\n",
       "      <td>0</td>\n",
       "    </tr>\n",
       "    <tr>\n",
       "      <th>19753</th>\n",
       "      <td>6781200013</td>\n",
       "      <td>735360</td>\n",
       "      <td>3</td>\n",
       "      <td>1260</td>\n",
       "      <td>1270</td>\n",
       "      <td>2.0</td>\n",
       "      <td>220.0</td>\n",
       "      <td>2005</td>\n",
       "      <td>0.0</td>\n",
       "      <td>47.7111</td>\n",
       "      <td>...</td>\n",
       "      <td>0</td>\n",
       "      <td>0</td>\n",
       "      <td>0</td>\n",
       "      <td>0</td>\n",
       "      <td>0</td>\n",
       "      <td>0</td>\n",
       "      <td>0</td>\n",
       "      <td>0</td>\n",
       "      <td>0</td>\n",
       "      <td>0</td>\n",
       "    </tr>\n",
       "    <tr>\n",
       "      <th>...</th>\n",
       "      <td>...</td>\n",
       "      <td>...</td>\n",
       "      <td>...</td>\n",
       "      <td>...</td>\n",
       "      <td>...</td>\n",
       "      <td>...</td>\n",
       "      <td>...</td>\n",
       "      <td>...</td>\n",
       "      <td>...</td>\n",
       "      <td>...</td>\n",
       "      <td>...</td>\n",
       "      <td>...</td>\n",
       "      <td>...</td>\n",
       "      <td>...</td>\n",
       "      <td>...</td>\n",
       "      <td>...</td>\n",
       "      <td>...</td>\n",
       "      <td>...</td>\n",
       "      <td>...</td>\n",
       "      <td>...</td>\n",
       "      <td>...</td>\n",
       "    </tr>\n",
       "    <tr>\n",
       "      <th>15778</th>\n",
       "      <td>4027700795</td>\n",
       "      <td>735675</td>\n",
       "      <td>3</td>\n",
       "      <td>1190</td>\n",
       "      <td>9000</td>\n",
       "      <td>1.0</td>\n",
       "      <td>0.0</td>\n",
       "      <td>1968</td>\n",
       "      <td>0.0</td>\n",
       "      <td>47.7700</td>\n",
       "      <td>...</td>\n",
       "      <td>0</td>\n",
       "      <td>0</td>\n",
       "      <td>0</td>\n",
       "      <td>0</td>\n",
       "      <td>0</td>\n",
       "      <td>0</td>\n",
       "      <td>0</td>\n",
       "      <td>0</td>\n",
       "      <td>0</td>\n",
       "      <td>0</td>\n",
       "    </tr>\n",
       "    <tr>\n",
       "      <th>16898</th>\n",
       "      <td>3278602040</td>\n",
       "      <td>735527</td>\n",
       "      <td>3</td>\n",
       "      <td>1570</td>\n",
       "      <td>2048</td>\n",
       "      <td>2.0</td>\n",
       "      <td>280.0</td>\n",
       "      <td>2006</td>\n",
       "      <td>0.0</td>\n",
       "      <td>47.5480</td>\n",
       "      <td>...</td>\n",
       "      <td>0</td>\n",
       "      <td>0</td>\n",
       "      <td>0</td>\n",
       "      <td>0</td>\n",
       "      <td>0</td>\n",
       "      <td>0</td>\n",
       "      <td>0</td>\n",
       "      <td>0</td>\n",
       "      <td>0</td>\n",
       "      <td>0</td>\n",
       "    </tr>\n",
       "    <tr>\n",
       "      <th>973</th>\n",
       "      <td>1778350070</td>\n",
       "      <td>735362</td>\n",
       "      <td>4</td>\n",
       "      <td>2790</td>\n",
       "      <td>10819</td>\n",
       "      <td>2.0</td>\n",
       "      <td>0.0</td>\n",
       "      <td>1996</td>\n",
       "      <td>0.0</td>\n",
       "      <td>47.5515</td>\n",
       "      <td>...</td>\n",
       "      <td>0</td>\n",
       "      <td>0</td>\n",
       "      <td>0</td>\n",
       "      <td>0</td>\n",
       "      <td>0</td>\n",
       "      <td>0</td>\n",
       "      <td>0</td>\n",
       "      <td>0</td>\n",
       "      <td>0</td>\n",
       "      <td>0</td>\n",
       "    </tr>\n",
       "    <tr>\n",
       "      <th>11491</th>\n",
       "      <td>9294300070</td>\n",
       "      <td>735355</td>\n",
       "      <td>4</td>\n",
       "      <td>1820</td>\n",
       "      <td>5000</td>\n",
       "      <td>1.5</td>\n",
       "      <td>180.0</td>\n",
       "      <td>1945</td>\n",
       "      <td>0.0</td>\n",
       "      <td>47.6815</td>\n",
       "      <td>...</td>\n",
       "      <td>0</td>\n",
       "      <td>0</td>\n",
       "      <td>0</td>\n",
       "      <td>0</td>\n",
       "      <td>0</td>\n",
       "      <td>0</td>\n",
       "      <td>0</td>\n",
       "      <td>0</td>\n",
       "      <td>0</td>\n",
       "      <td>0</td>\n",
       "    </tr>\n",
       "    <tr>\n",
       "      <th>17315</th>\n",
       "      <td>4168100020</td>\n",
       "      <td>735571</td>\n",
       "      <td>3</td>\n",
       "      <td>1660</td>\n",
       "      <td>8800</td>\n",
       "      <td>1.0</td>\n",
       "      <td>700.0</td>\n",
       "      <td>1963</td>\n",
       "      <td>0.0</td>\n",
       "      <td>47.3212</td>\n",
       "      <td>...</td>\n",
       "      <td>0</td>\n",
       "      <td>0</td>\n",
       "      <td>0</td>\n",
       "      <td>0</td>\n",
       "      <td>0</td>\n",
       "      <td>0</td>\n",
       "      <td>0</td>\n",
       "      <td>0</td>\n",
       "      <td>0</td>\n",
       "      <td>0</td>\n",
       "    </tr>\n",
       "  </tbody>\n",
       "</table>\n",
       "<p>4320 rows × 99 columns</p>\n",
       "</div>"
      ],
      "text/plain": [
       "               id    date  bedrooms  sqft_living  sqft_lot  floors  \\\n",
       "13856   824059042  735383         5         4180     17935     2.0   \n",
       "9135   4048400191  735389         3         1700     51649     1.5   \n",
       "13905  5683500085  735502         2          880      4558     1.0   \n",
       "20080  3262300485  735709         5         3410      8118     2.0   \n",
       "19753  6781200013  735360         3         1260      1270     2.0   \n",
       "...           ...     ...       ...          ...       ...     ...   \n",
       "15778  4027700795  735675         3         1190      9000     1.0   \n",
       "16898  3278602040  735527         3         1570      2048     2.0   \n",
       "973    1778350070  735362         4         2790     10819     2.0   \n",
       "11491  9294300070  735355         4         1820      5000     1.5   \n",
       "17315  4168100020  735571         3         1660      8800     1.0   \n",
       "\n",
       "       sqft_basement  yr_built  yr_renovated      lat  ...  zipcode_98146  \\\n",
       "13856            0.0      2004           0.0  47.5873  ...              0   \n",
       "9135             0.0      1931           0.0  47.4704  ...              0   \n",
       "13905            0.0      1951           0.0  47.6803  ...              0   \n",
       "20080            0.0      2006           0.0  47.6295  ...              0   \n",
       "19753          220.0      2005           0.0  47.7111  ...              0   \n",
       "...              ...       ...           ...      ...  ...            ...   \n",
       "15778            0.0      1968           0.0  47.7700  ...              0   \n",
       "16898          280.0      2006           0.0  47.5480  ...              0   \n",
       "973              0.0      1996           0.0  47.5515  ...              0   \n",
       "11491          180.0      1945           0.0  47.6815  ...              0   \n",
       "17315          700.0      1963           0.0  47.3212  ...              0   \n",
       "\n",
       "       zipcode_98148  zipcode_98155  zipcode_98166  zipcode_98168  \\\n",
       "13856              0              0              0              0   \n",
       "9135               0              0              0              0   \n",
       "13905              0              0              0              0   \n",
       "20080              0              0              0              0   \n",
       "19753              0              0              0              0   \n",
       "...              ...            ...            ...            ...   \n",
       "15778              0              0              0              0   \n",
       "16898              0              0              0              0   \n",
       "973                0              0              0              0   \n",
       "11491              0              0              0              0   \n",
       "17315              0              0              0              0   \n",
       "\n",
       "       zipcode_98177  zipcode_98178  zipcode_98188  zipcode_98198  \\\n",
       "13856              0              0              0              0   \n",
       "9135               0              0              0              0   \n",
       "13905              0              0              0              0   \n",
       "20080              0              0              0              0   \n",
       "19753              0              0              0              0   \n",
       "...              ...            ...            ...            ...   \n",
       "15778              0              0              0              0   \n",
       "16898              0              0              0              0   \n",
       "973                0              0              0              0   \n",
       "11491              0              0              0              0   \n",
       "17315              0              0              0              0   \n",
       "\n",
       "       zipcode_98199  \n",
       "13856              0  \n",
       "9135               0  \n",
       "13905              0  \n",
       "20080              0  \n",
       "19753              0  \n",
       "...              ...  \n",
       "15778              0  \n",
       "16898              0  \n",
       "973                0  \n",
       "11491              0  \n",
       "17315              0  \n",
       "\n",
       "[4320 rows x 99 columns]"
      ]
     },
     "execution_count": 36,
     "metadata": {},
     "output_type": "execute_result"
    }
   ],
   "source": [
    "# drop the original categorical columns and replace with the dummy variables\n",
    "df_test_continuous = X_test.drop(test_categoricals, axis=1)\n",
    "\n",
    "X_test_preprocessed = pd.concat([df_test_continuous, df_test_ohe], axis=1)\n",
    "X_test_preprocessed"
   ]
  },
  {
   "cell_type": "markdown",
   "metadata": {},
   "source": [
    "##### reconcile missing columns"
   ]
  },
  {
   "cell_type": "markdown",
   "metadata": {},
   "source": [
    "We have to reconcile the difference in number of columns of the preprocessed data as OHE was performed independently on each set of data."
   ]
  },
  {
   "cell_type": "code",
   "execution_count": 37,
   "metadata": {},
   "outputs": [],
   "source": [
    "# get missing columns in the training test\n",
    "missing_cols = set(X_train_preprocessed.columns ) - set(X_test_preprocessed.columns )\n",
    "# add a missing column in test set with default value equal to 0\n",
    "for col in missing_cols:\n",
    "    X_test_preprocessed[col] = 0\n",
    "# ensure the order of column in the test set is in the same order than in train set\n",
    "X_test_preprocessed = X_test_preprocessed[X_train_preprocessed.columns]"
   ]
  },
  {
   "cell_type": "markdown",
   "metadata": {},
   "source": [
    "##### fit model again"
   ]
  },
  {
   "cell_type": "markdown",
   "metadata": {},
   "source": [
    "Having one-hot encoded our data, let's examine the impact on our model."
   ]
  },
  {
   "cell_type": "code",
   "execution_count": 40,
   "metadata": {
    "scrolled": true
   },
   "outputs": [
    {
     "name": "stdout",
     "output_type": "stream",
     "text": [
      "                            OLS Regression Results                            \n",
      "==============================================================================\n",
      "Dep. Variable:                  price   R-squared:                       0.875\n",
      "Model:                            OLS   Adj. R-squared:                  0.874\n",
      "Method:                 Least Squares   F-statistic:                     1215.\n",
      "Date:                Wed, 30 Sep 2020   Prob (F-statistic):               0.00\n",
      "Time:                        17:56:37   Log-Likelihood:                 4566.5\n",
      "No. Observations:               17277   AIC:                            -8933.\n",
      "Df Residuals:                   17177   BIC:                            -8157.\n",
      "Df Model:                          99                                         \n",
      "Covariance Type:            nonrobust                                         \n",
      "==================================================================================\n",
      "                     coef    std err          t      P>|t|      [0.025      0.975]\n",
      "----------------------------------------------------------------------------------\n",
      "const           -201.9932     12.388    -16.305      0.000    -226.275    -177.711\n",
      "id             -3.789e-14   5.13e-13     -0.074      0.941   -1.04e-12    9.68e-13\n",
      "date               0.0002   1.26e-05     16.851      0.000       0.000       0.000\n",
      "bedrooms           0.0021      0.002      1.074      0.283      -0.002       0.006\n",
      "sqft_living        0.0003   3.56e-06     70.573      0.000       0.000       0.000\n",
      "sqft_lot        5.805e-07   4.76e-08     12.183      0.000    4.87e-07    6.74e-07\n",
      "floors            -0.0295      0.004     -7.304      0.000      -0.037      -0.022\n",
      "sqft_basement  -8.272e-05   4.68e-06    -17.683      0.000   -9.19e-05   -7.36e-05\n",
      "yr_built          -0.0006   8.05e-05     -7.153      0.000      -0.001      -0.000\n",
      "yr_renovated    3.872e-05   4.23e-06      9.152      0.000    3.04e-05     4.7e-05\n",
      "lat                0.5233      0.082      6.363      0.000       0.362       0.684\n",
      "long              -0.2780      0.062     -4.477      0.000      -0.400      -0.156\n",
      "sqft_lot15      9.981e-08   7.78e-08      1.282      0.200   -5.28e-08    2.52e-07\n",
      "waterfront_1.0     0.4156      0.022     19.107      0.000       0.373       0.458\n",
      "view_1.0           0.1289      0.012     11.013      0.000       0.106       0.152\n",
      "view_2.0           0.1240      0.007     17.127      0.000       0.110       0.138\n",
      "view_3.0           0.1965      0.010     19.504      0.000       0.177       0.216\n",
      "view_4.0           0.3319      0.015     21.756      0.000       0.302       0.362\n",
      "condition_2        0.0696      0.045      1.551      0.121      -0.018       0.157\n",
      "condition_3        0.2122      0.042      5.030      0.000       0.130       0.295\n",
      "condition_4        0.2545      0.042      6.030      0.000       0.172       0.337\n",
      "condition_5        0.3189      0.042      7.520      0.000       0.236       0.402\n",
      "grade_4           -0.5008      0.191     -2.622      0.009      -0.875      -0.126\n",
      "grade_5           -0.4113      0.187     -2.194      0.028      -0.779      -0.044\n",
      "grade_6           -0.3107      0.187     -1.662      0.097      -0.677       0.056\n",
      "grade_7           -0.1690      0.187     -0.904      0.366      -0.536       0.198\n",
      "grade_8           -0.0465      0.187     -0.248      0.804      -0.413       0.320\n",
      "grade_9            0.0717      0.187      0.383      0.702      -0.295       0.439\n",
      "grade_10           0.1410      0.187      0.753      0.451      -0.226       0.508\n",
      "grade_11           0.1846      0.188      0.984      0.325      -0.183       0.552\n",
      "grade_12           0.1838      0.189      0.973      0.331      -0.186       0.554\n",
      "grade_13           0.2379      0.196      1.212      0.225      -0.147       0.623\n",
      "zipcode_98002     -0.0144      0.019     -0.753      0.451      -0.052       0.023\n",
      "zipcode_98003      0.0016      0.017      0.096      0.924      -0.032       0.035\n",
      "zipcode_98004      0.9695      0.031     31.422      0.000       0.909       1.030\n",
      "zipcode_98005      0.6109      0.033     18.398      0.000       0.546       0.676\n",
      "zipcode_98006      0.5439      0.027     20.189      0.000       0.491       0.597\n",
      "zipcode_98007      0.5163      0.034     15.114      0.000       0.449       0.583\n",
      "zipcode_98008      0.5121      0.032     15.786      0.000       0.448       0.576\n",
      "zipcode_98010      0.3185      0.029     11.053      0.000       0.262       0.375\n",
      "zipcode_98011      0.2450      0.042      5.876      0.000       0.163       0.327\n",
      "zipcode_98014      0.2185      0.046      4.747      0.000       0.128       0.309\n",
      "zipcode_98019      0.2031      0.046      4.426      0.000       0.113       0.293\n",
      "zipcode_98022      0.1610      0.025      6.326      0.000       0.111       0.211\n",
      "zipcode_98023     -0.0541      0.016     -3.455      0.001      -0.085      -0.023\n",
      "zipcode_98024      0.3865      0.041      9.330      0.000       0.305       0.468\n",
      "zipcode_98027      0.4668      0.028     16.745      0.000       0.412       0.521\n",
      "zipcode_98028      0.2055      0.041      5.071      0.000       0.126       0.285\n",
      "zipcode_98029      0.5435      0.032     17.028      0.000       0.481       0.606\n",
      "zipcode_98030      0.0478      0.019      2.550      0.011       0.011       0.085\n",
      "zipcode_98031      0.0574      0.019      2.969      0.003       0.020       0.095\n",
      "zipcode_98032     -0.0976      0.023     -4.303      0.000      -0.142      -0.053\n",
      "zipcode_98033      0.6105      0.035     17.553      0.000       0.542       0.679\n",
      "zipcode_98034      0.3421      0.037      9.179      0.000       0.269       0.415\n",
      "zipcode_98038      0.2093      0.021      9.839      0.000       0.168       0.251\n",
      "zipcode_98039      1.1249      0.042     26.892      0.000       1.043       1.207\n",
      "zipcode_98040      0.7583      0.027     27.943      0.000       0.705       0.811\n",
      "zipcode_98042      0.0797      0.018      4.428      0.000       0.044       0.115\n",
      "zipcode_98045      0.3860      0.040      9.672      0.000       0.308       0.464\n",
      "zipcode_98052      0.4927      0.036     13.798      0.000       0.423       0.563\n",
      "zipcode_98053      0.4659      0.038     12.110      0.000       0.390       0.541\n",
      "zipcode_98055      0.0777      0.021      3.624      0.000       0.036       0.120\n",
      "zipcode_98056      0.2372      0.024     10.068      0.000       0.191       0.283\n",
      "zipcode_98058      0.1263      0.021      6.159      0.000       0.086       0.167\n",
      "zipcode_98059      0.2926      0.023     12.657      0.000       0.247       0.338\n",
      "zipcode_98065      0.4244      0.037     11.605      0.000       0.353       0.496\n",
      "zipcode_98070      0.2262      0.028      8.152      0.000       0.172       0.281\n",
      "zipcode_98072      0.3151      0.042      7.571      0.000       0.234       0.397\n",
      "zipcode_98074      0.4561      0.034     13.401      0.000       0.389       0.523\n",
      "zipcode_98075      0.5025      0.033     15.329      0.000       0.438       0.567\n",
      "zipcode_98077      0.2982      0.043      6.877      0.000       0.213       0.383\n",
      "zipcode_98092      0.0639      0.017      3.731      0.000       0.030       0.097\n",
      "zipcode_98102      0.7553      0.036     21.230      0.000       0.686       0.825\n",
      "zipcode_98103      0.5663      0.033     16.963      0.000       0.501       0.632\n",
      "zipcode_98105      0.7219      0.034     21.084      0.000       0.655       0.789\n",
      "zipcode_98106      0.1674      0.025      6.764      0.000       0.119       0.216\n",
      "zipcode_98107      0.5893      0.034     17.115      0.000       0.522       0.657\n",
      "zipcode_98108      0.2150      0.028      7.780      0.000       0.161       0.269\n",
      "zipcode_98109      0.7696      0.035     21.821      0.000       0.700       0.839\n",
      "zipcode_98112      0.8488      0.032     26.896      0.000       0.787       0.911\n",
      "zipcode_98115      0.5776      0.034     16.948      0.000       0.511       0.644\n",
      "zipcode_98116      0.5544      0.028     20.063      0.000       0.500       0.609\n",
      "zipcode_98117      0.5414      0.034     15.766      0.000       0.474       0.609\n",
      "zipcode_98118      0.3026      0.024     12.502      0.000       0.255       0.350\n",
      "zipcode_98119      0.7461      0.034     22.268      0.000       0.680       0.812\n",
      "zipcode_98122      0.5948      0.030     19.816      0.000       0.536       0.654\n",
      "zipcode_98125      0.3186      0.037      8.672      0.000       0.247       0.391\n",
      "zipcode_98126      0.3492      0.025     13.705      0.000       0.299       0.399\n",
      "zipcode_98133      0.1868      0.038      4.924      0.000       0.112       0.261\n",
      "zipcode_98136      0.4852      0.026     18.741      0.000       0.434       0.536\n",
      "zipcode_98144      0.4834      0.028     17.331      0.000       0.429       0.538\n",
      "zipcode_98146      0.1218      0.023      5.206      0.000       0.076       0.168\n",
      "zipcode_98148      0.0619      0.032      1.945      0.052      -0.000       0.124\n",
      "zipcode_98155      0.1665      0.039      4.229      0.000       0.089       0.244\n",
      "zipcode_98166      0.2033      0.021      9.515      0.000       0.161       0.245\n",
      "zipcode_98168     -0.0436      0.023     -1.917      0.055      -0.088       0.001\n",
      "zipcode_98177      0.3184      0.040      8.046      0.000       0.241       0.396\n",
      "zipcode_98178      0.0333      0.023      1.435      0.151      -0.012       0.079\n",
      "zipcode_98188     -0.0024      0.024     -0.098      0.922      -0.050       0.045\n",
      "zipcode_98198     -0.0127      0.018     -0.700      0.484      -0.048       0.023\n",
      "zipcode_98199      0.6207      0.033     18.992      0.000       0.557       0.685\n",
      "==============================================================================\n",
      "Omnibus:                     1545.391   Durbin-Watson:                   1.982\n",
      "Prob(Omnibus):                  0.000   Jarque-Bera (JB):             7373.634\n",
      "Skew:                          -0.314   Prob(JB):                         0.00\n",
      "Kurtosis:                       6.138   Cond. No.                     4.72e+13\n",
      "==============================================================================\n",
      "\n",
      "Warnings:\n",
      "[1] Standard Errors assume that the covariance matrix of the errors is correctly specified.\n",
      "[2] The condition number is large, 4.72e+13. This might indicate that there are\n",
      "strong multicollinearity or other numerical problems.\n"
     ]
    }
   ],
   "source": [
    "# add a constant term\n",
    "predictors_int = sm.add_constant(X_train_preprocessed)\n",
    "model = sm.OLS(y_train, predictors_int).fit()\n",
    "print(model.summary())"
   ]
  },
  {
   "cell_type": "markdown",
   "metadata": {},
   "source": [
    "> We do see the **r_squared** value having increased from our baseline model of **0.765** to **0.875**. However, we have also increased the number of predictors from **17** to **100**. "
   ]
  },
  {
   "cell_type": "markdown",
   "metadata": {},
   "source": [
    "#### remove insignificant predictors"
   ]
  },
  {
   "cell_type": "markdown",
   "metadata": {},
   "source": [
    "We'll remove some predictors that are causing noise in the model by examining the p-value significance levels of the predictors. If a coefficient's p-value is below 0.05, we can reject the null hypothesis that there is no effect on the model and continue to include it."
   ]
  },
  {
   "cell_type": "code",
   "execution_count": 41,
   "metadata": {},
   "outputs": [
    {
     "name": "stdout",
     "output_type": "stream",
     "text": [
      "101 81\n"
     ]
    }
   ],
   "source": [
    "# keep predictors with p-value < 0.05\n",
    "summary = model.summary()\n",
    "p_table = summary.tables[1]\n",
    "p_table = pd.DataFrame(p_table.data)\n",
    "p_table.columns = p_table.iloc[0] # rename column names to the stats\n",
    "p_table = p_table.drop(0) # drop first row\n",
    "p_table = p_table.set_index(p_table.columns[0]) # set index as feature names\n",
    "p_table['P>|t|'] = p_table['P>|t|'].astype(float)\n",
    "x_cols = list(p_table[p_table['P>|t|'] < 0.05].index)\n",
    "x_cols.remove('const')\n",
    "print(len(p_table), len(x_cols))"
   ]
  },
  {
   "cell_type": "markdown",
   "metadata": {},
   "source": [
    "> We were able to reduce the number of coefficents by **19 predictors**."
   ]
  },
  {
   "cell_type": "code",
   "execution_count": 42,
   "metadata": {},
   "outputs": [],
   "source": [
    "# create a new DataFrame with the significant features\n",
    "df_significant = X_train_preprocessed[x_cols]"
   ]
  },
  {
   "cell_type": "markdown",
   "metadata": {},
   "source": [
    "Just like before, we'll have to reconcile the difference in columns between this newly created dataset and the preprocessed test set."
   ]
  },
  {
   "cell_type": "code",
   "execution_count": 43,
   "metadata": {},
   "outputs": [],
   "source": [
    "# Get missing columns in the training test\n",
    "missing_cols = set(df_significant.columns ) - set(X_test_preprocessed.columns )\n",
    "# Add a missing column in test set with default value equal to 0\n",
    "for col in missing_cols:\n",
    "    X_test_preprocessed[col] = 0\n",
    "# Ensure the order of column in the test set is in the same order than in train set\n",
    "X_test_preprocessed = X_test_preprocessed[df_significant.columns]"
   ]
  },
  {
   "cell_type": "code",
   "execution_count": 44,
   "metadata": {
    "scrolled": false
   },
   "outputs": [
    {
     "name": "stdout",
     "output_type": "stream",
     "text": [
      "r_squared: 0.8676544634130477\n",
      "Train Mean Squared Error: 0.03949696940939696\n",
      "Test Mean Squared Error: 0.0373025639794753\n"
     ]
    }
   ],
   "source": [
    "# run linear model as before\n",
    "linreg2 = LinearRegression()\n",
    "linreg2.fit(df_significant, y_train)\n",
    "\n",
    "y_hat_train = linreg2.predict(df_significant)\n",
    "y_hat_test = linreg2.predict(X_test_preprocessed)\n",
    "\n",
    "print('r_squared:', linreg2.score(X_test_preprocessed, y_test))\n",
    "print('Train Mean Squared Error:', mean_squared_error(y_train, y_hat_train))\n",
    "print('Test Mean Squared Error:', mean_squared_error(y_test, y_hat_test))"
   ]
  },
  {
   "cell_type": "markdown",
   "metadata": {},
   "source": [
    "> As a result of removing insignificant predictors with p-values above 0.05, our **r_squared** value has only *slightly decreased* from **0.875** to **0.868**, but we do see a **noticeable drop** in our MSE from our base line model, which is a good sign this model is more accurately predicting the variability."
   ]
  },
  {
   "cell_type": "markdown",
   "metadata": {},
   "source": [
    "We'll check the model's coeffients one more time to see if there are any more p-values greater than 0.05 using the same steps above."
   ]
  },
  {
   "cell_type": "code",
   "execution_count": 45,
   "metadata": {
    "scrolled": true
   },
   "outputs": [
    {
     "name": "stdout",
     "output_type": "stream",
     "text": [
      "82 81\n"
     ]
    }
   ],
   "source": [
    "# run OLS regression on df_significant using statsmodel\n",
    "predictors_int = sm.add_constant(df_significant)\n",
    "model = sm.OLS(y_train, predictors_int).fit()\n",
    "\n",
    "# remove insignificant p-values\n",
    "summary = model.summary()\n",
    "p_table = summary.tables[1]\n",
    "p_table = pd.DataFrame(p_table.data)\n",
    "p_table.columns = p_table.iloc[0] # rename column names to the stats\n",
    "p_table = p_table.drop(0) # drop first row\n",
    "p_table = p_table.set_index(p_table.columns[0]) # set index as feature names\n",
    "p_table['P>|t|'] = p_table['P>|t|'].astype(float)\n",
    "x_cols = list(p_table[p_table['P>|t|'] < 0.05].index)\n",
    "x_cols.remove('const')\n",
    "print(len(p_table), len(x_cols))"
   ]
  },
  {
   "cell_type": "markdown",
   "metadata": {},
   "source": [
    "> We see that the number of predictors stayed the same, hence, there are no more predictors with p-values greater than 0.05."
   ]
  },
  {
   "cell_type": "code",
   "execution_count": 46,
   "metadata": {},
   "outputs": [],
   "source": [
    "# create the final DataFrame with the significant features\n",
    "df_significant_final = X_train_preprocessed[x_cols]"
   ]
  },
  {
   "cell_type": "markdown",
   "metadata": {},
   "source": [
    "### final model"
   ]
  },
  {
   "cell_type": "code",
   "execution_count": 47,
   "metadata": {
    "scrolled": true
   },
   "outputs": [
    {
     "name": "stdout",
     "output_type": "stream",
     "text": [
      "                            OLS Regression Results                            \n",
      "==============================================================================\n",
      "Dep. Variable:                  price   R-squared:                       0.857\n",
      "Model:                            OLS   Adj. R-squared:                  0.856\n",
      "Method:                 Least Squares   F-statistic:                     1272.\n",
      "Date:                Wed, 30 Sep 2020   Prob (F-statistic):               0.00\n",
      "Time:                        17:59:51   Log-Likelihood:                 3400.6\n",
      "No. Observations:               17277   AIC:                            -6637.\n",
      "Df Residuals:                   17195   BIC:                            -6001.\n",
      "Df Model:                          81                                         \n",
      "Covariance Type:            nonrobust                                         \n",
      "==================================================================================\n",
      "                     coef    std err          t      P>|t|      [0.025      0.975]\n",
      "----------------------------------------------------------------------------------\n",
      "const           -207.5974     12.568    -16.518      0.000    -232.232    -182.963\n",
      "date               0.0002   1.35e-05     15.140      0.000       0.000       0.000\n",
      "sqft_living        0.0003   2.57e-06    130.674      0.000       0.000       0.000\n",
      "sqft_lot        6.602e-07   3.88e-08     17.016      0.000    5.84e-07    7.36e-07\n",
      "floors            -0.0199      0.004     -4.679      0.000      -0.028      -0.012\n",
      "sqft_basement     -0.0001   4.78e-06    -25.528      0.000      -0.000      -0.000\n",
      "yr_built           0.0007   8.08e-05      8.224      0.000       0.001       0.001\n",
      "yr_renovated    4.687e-05   4.51e-06     10.396      0.000     3.8e-05    5.57e-05\n",
      "lat                0.5010      0.053      9.406      0.000       0.397       0.605\n",
      "long              -0.3612      0.061     -5.946      0.000      -0.480      -0.242\n",
      "waterfront_1.0     0.4097      0.023     17.664      0.000       0.364       0.455\n",
      "view_1.0           0.1505      0.012     12.055      0.000       0.126       0.175\n",
      "view_2.0           0.1587      0.008     20.651      0.000       0.144       0.174\n",
      "view_3.0           0.2430      0.011     22.751      0.000       0.222       0.264\n",
      "view_4.0           0.3857      0.016     23.832      0.000       0.354       0.417\n",
      "condition_3        0.1754      0.016     10.764      0.000       0.143       0.207\n",
      "condition_4        0.2159      0.016     13.191      0.000       0.184       0.248\n",
      "condition_5        0.2814      0.017     16.537      0.000       0.248       0.315\n",
      "grade_4           -0.2249      0.042     -5.360      0.000      -0.307      -0.143\n",
      "grade_5           -0.1651      0.015    -10.734      0.000      -0.195      -0.135\n",
      "zipcode_98004      1.0571      0.019     54.224      0.000       1.019       1.095\n",
      "zipcode_98005      0.7176      0.024     30.254      0.000       0.671       0.764\n",
      "zipcode_98006      0.6383      0.017     37.277      0.000       0.605       0.672\n",
      "zipcode_98007      0.6086      0.025     24.257      0.000       0.559       0.658\n",
      "zipcode_98008      0.5793      0.022     26.619      0.000       0.537       0.622\n",
      "zipcode_98010      0.3379      0.028     11.981      0.000       0.283       0.393\n",
      "zipcode_98011      0.2915      0.027     10.994      0.000       0.240       0.343\n",
      "zipcode_98014      0.2602      0.037      7.077      0.000       0.188       0.332\n",
      "zipcode_98019      0.2269      0.033      6.871      0.000       0.162       0.292\n",
      "zipcode_98022      0.1785      0.025      7.214      0.000       0.130       0.227\n",
      "zipcode_98023     -0.0287      0.013     -2.163      0.031      -0.055      -0.003\n",
      "zipcode_98024      0.4306      0.036     11.828      0.000       0.359       0.502\n",
      "zipcode_98027      0.5377      0.021     26.109      0.000       0.497       0.578\n",
      "zipcode_98028      0.2492      0.025     10.149      0.000       0.201       0.297\n",
      "zipcode_98029      0.6374      0.024     26.625      0.000       0.590       0.684\n",
      "zipcode_98030      0.0662      0.016      4.115      0.000       0.035       0.098\n",
      "zipcode_98031      0.0807      0.015      5.210      0.000       0.050       0.111\n",
      "zipcode_98032     -0.0606      0.021     -2.879      0.004      -0.102      -0.019\n",
      "zipcode_98033      0.6702      0.021     32.307      0.000       0.630       0.711\n",
      "zipcode_98034      0.3862      0.022     17.952      0.000       0.344       0.428\n",
      "zipcode_98038      0.2231      0.018     12.139      0.000       0.187       0.259\n",
      "zipcode_98039      1.1944      0.036     33.563      0.000       1.125       1.264\n",
      "zipcode_98040      0.8572      0.018     48.335      0.000       0.822       0.892\n",
      "zipcode_98042      0.0981      0.015      6.633      0.000       0.069       0.127\n",
      "zipcode_98045      0.4504      0.036     12.449      0.000       0.379       0.521\n",
      "zipcode_98052      0.5775      0.022     26.320      0.000       0.535       0.621\n",
      "zipcode_98053      0.5156      0.026     19.719      0.000       0.464       0.567\n",
      "zipcode_98055      0.1011      0.016      6.459      0.000       0.070       0.132\n",
      "zipcode_98056      0.2659      0.015     17.217      0.000       0.236       0.296\n",
      "zipcode_98058      0.1672      0.015     11.342      0.000       0.138       0.196\n",
      "zipcode_98059      0.3214      0.016     20.332      0.000       0.290       0.352\n",
      "zipcode_98065      0.4419      0.031     14.418      0.000       0.382       0.502\n",
      "zipcode_98070      0.2209      0.025      8.739      0.000       0.171       0.270\n",
      "zipcode_98072      0.3901      0.026     14.816      0.000       0.338       0.442\n",
      "zipcode_98074      0.5640      0.023     24.341      0.000       0.519       0.609\n",
      "zipcode_98075      0.5965      0.024     25.263      0.000       0.550       0.643\n",
      "zipcode_98077      0.3925      0.029     13.397      0.000       0.335       0.450\n",
      "zipcode_98092      0.1049      0.015      6.781      0.000       0.075       0.135\n",
      "zipcode_98102      0.8862      0.026     34.021      0.000       0.835       0.937\n",
      "zipcode_98103      0.6399      0.019     34.168      0.000       0.603       0.677\n",
      "zipcode_98105      0.8206      0.021     38.651      0.000       0.779       0.862\n",
      "zipcode_98106      0.1769      0.016     11.249      0.000       0.146       0.208\n",
      "zipcode_98107      0.6556      0.021     30.625      0.000       0.614       0.698\n",
      "zipcode_98108      0.2425      0.020     12.432      0.000       0.204       0.281\n",
      "zipcode_98109      0.8792      0.025     34.532      0.000       0.829       0.929\n",
      "zipcode_98112      0.9819      0.020     50.136      0.000       0.943       1.020\n",
      "zipcode_98115      0.6457      0.019     33.986      0.000       0.608       0.683\n",
      "zipcode_98116      0.6225      0.018     35.418      0.000       0.588       0.657\n",
      "zipcode_98117      0.6042      0.020     30.901      0.000       0.566       0.643\n",
      "zipcode_98118      0.3266      0.014     23.590      0.000       0.299       0.354\n",
      "zipcode_98119      0.8593      0.022     38.661      0.000       0.816       0.903\n",
      "zipcode_98122      0.6986      0.019     37.610      0.000       0.662       0.735\n",
      "zipcode_98125      0.3553      0.021     16.794      0.000       0.314       0.397\n",
      "zipcode_98126      0.3730      0.016     22.922      0.000       0.341       0.405\n",
      "zipcode_98133      0.2202      0.022     10.151      0.000       0.178       0.263\n",
      "zipcode_98136      0.5343      0.017     30.661      0.000       0.500       0.568\n",
      "zipcode_98144      0.5360      0.017     31.602      0.000       0.503       0.569\n",
      "zipcode_98146      0.1194      0.016      7.457      0.000       0.088       0.151\n",
      "zipcode_98155      0.2005      0.022      8.913      0.000       0.156       0.245\n",
      "zipcode_98166      0.2218      0.016     14.032      0.000       0.191       0.253\n",
      "zipcode_98177      0.3832      0.024     15.790      0.000       0.336       0.431\n",
      "zipcode_98199      0.7072      0.020     35.052      0.000       0.668       0.747\n",
      "==============================================================================\n",
      "Omnibus:                     1891.315   Durbin-Watson:                   1.984\n",
      "Prob(Omnibus):                  0.000   Jarque-Bera (JB):            10060.366\n",
      "Skew:                          -0.400   Prob(JB):                         0.00\n",
      "Kurtosis:                       6.652   Cond. No.                     6.10e+09\n",
      "==============================================================================\n",
      "\n",
      "Warnings:\n",
      "[1] Standard Errors assume that the covariance matrix of the errors is correctly specified.\n",
      "[2] The condition number is large, 6.1e+09. This might indicate that there are\n",
      "strong multicollinearity or other numerical problems.\n"
     ]
    }
   ],
   "source": [
    "# run OLS regression using statsmodel\n",
    "predictors_int = sm.add_constant(df_significant_final)\n",
    "final_model = sm.OLS(y_train, predictors_int).fit()\n",
    "print(final_model.summary())"
   ]
  },
  {
   "cell_type": "markdown",
   "metadata": {},
   "source": [
    "> Our analysis entailed performing EDA on the King County House Sales dataset to create a model that can predict the sale price of houses as accurately as possible. Our model can explain **85.7%** of the variance in the selling price of a house."
   ]
  },
  {
   "cell_type": "markdown",
   "metadata": {},
   "source": [
    "#### interpreting coefficients"
   ]
  },
  {
   "cell_type": "markdown",
   "metadata": {},
   "source": [
    "We have to remember that our target variable, `price`, is in a log-transformed state, but the predictors are in the original metric. Since the scale of `price` has changed, some computation is required to accurately interpret the coefficients. Let's look at some examples:"
   ]
  },
  {
   "cell_type": "code",
   "execution_count": 65,
   "metadata": {},
   "outputs": [
    {
     "name": "stdout",
     "output_type": "stream",
     "text": [
      "percentage change of zipcode_98112: 166.95\n"
     ]
    }
   ],
   "source": [
    "# exponentiate the coefficient of zipcode_98112 (value: 0.9819)\n",
    "print('percentage change of zipcode_98112:', round(((np.exp(0.9819) - 1) * 100),2))"
   ]
  },
  {
   "cell_type": "markdown",
   "metadata": {},
   "source": [
    "> In other words, being in **zipcode 98112**, the average sale price **increases** by **166.95%**."
   ]
  },
  {
   "cell_type": "code",
   "execution_count": 64,
   "metadata": {},
   "outputs": [
    {
     "name": "stdout",
     "output_type": "stream",
     "text": [
      "percentage change of waterfront_1.0: 50.64\n"
     ]
    }
   ],
   "source": [
    "# exponentiate the coefficient of waterfront_1.0 (value: 0.4097)\n",
    "print('percentage change of waterfront_1.0:', round(((np.exp(0.4097) - 1) * 100),2))"
   ]
  },
  {
   "cell_type": "markdown",
   "metadata": {},
   "source": [
    "> In other words, having a **waterfront** property increases the average sale price by **50.64%.**"
   ]
  },
  {
   "cell_type": "markdown",
   "metadata": {},
   "source": [
    "#### comparing coefficients"
   ]
  },
  {
   "cell_type": "markdown",
   "metadata": {},
   "source": [
    "As our predictors are on the same scale, we can compare the coefficients to determine which predictor has the greatest impact on the average sale price of the house."
   ]
  },
  {
   "cell_type": "code",
   "execution_count": 82,
   "metadata": {
    "scrolled": true
   },
   "outputs": [
    {
     "name": "stdout",
     "output_type": "stream",
     "text": [
      "top 10 coefficients: \n",
      " zipcode_98039    1.194438\n",
      "zipcode_98004    1.057075\n",
      "zipcode_98112    0.981877\n",
      "zipcode_98102    0.886237\n",
      "zipcode_98109    0.879212\n",
      "zipcode_98119    0.859262\n",
      "zipcode_98040    0.857240\n",
      "zipcode_98105    0.820572\n",
      "zipcode_98005    0.717550\n",
      "zipcode_98199    0.707212\n",
      "Name: coefficient, dtype: float64\n",
      "-----------\n",
      "bottom 10 coefficients: \n",
      " const           -2.075974e+02\n",
      "long            -3.612106e-01\n",
      "grade_4         -2.249398e-01\n",
      "grade_5         -1.651393e-01\n",
      "zipcode_98032   -6.059745e-02\n",
      "zipcode_98023   -2.868669e-02\n",
      "floors          -1.991803e-02\n",
      "sqft_basement   -1.221048e-04\n",
      "sqft_lot         6.602107e-07\n",
      "yr_renovated     4.686938e-05\n",
      "Name: coefficient, dtype: float64\n"
     ]
    }
   ],
   "source": [
    "# use the final model's parameters to sort the coefficients in descending order\n",
    "results = pd.DataFrame(model.params, columns=['coefficient'])\n",
    "\n",
    "# display top 10 results\n",
    "print('top 10 coefficients: \\n', results['coefficient'].sort_values(ascending=False)[:10])\n",
    "print('-----------')\n",
    "# display last 10 results\n",
    "print('bottom 10 coefficients: \\n', results['coefficient'].sort_values(ascending=True)[:10])"
   ]
  },
  {
   "cell_type": "markdown",
   "metadata": {},
   "source": [
    "### Conclusion"
   ]
  },
  {
   "cell_type": "markdown",
   "metadata": {},
   "source": [
    "We see that relative to other predictors, the property's **zipcode** has the most impact on the average sale price of the home, with properties in zipcode 98039 having the highest impact on the average sale price. This conclusion makes sense as certain tracts of land could be better positioned for higher average home values, whether it be a geographical advantage, socioeconomic effects, or neighborhood factors like school systems, community, and crime rates.\n",
    "\n",
    "Alternatively, we see predictors like **longitude** and the **grade** assigned to the property having the lowest relative impact on the average sale price.\n",
    "\n",
    "The conclusion is that there are no immediate, highly impactful actions to take to maximize profit when selling their home, as it isn't feasible to transplant their home into one of the zipcodes that had higher average home values, as modeled by the data."
   ]
  },
  {
   "cell_type": "markdown",
   "metadata": {},
   "source": [
    "<img src=\"images/Snoqualmie_Falls.jpeg\" width=450>"
   ]
  },
  {
   "cell_type": "markdown",
   "metadata": {},
   "source": [
    "<center><i> Snoqualmie Falls in King County</i></center>"
   ]
  }
 ],
 "metadata": {
  "kernelspec": {
   "display_name": "Python [conda env:learn-env] *",
   "language": "python",
   "name": "conda-env-learn-env-py"
  },
  "language_info": {
   "codemirror_mode": {
    "name": "ipython",
    "version": 3
   },
   "file_extension": ".py",
   "mimetype": "text/x-python",
   "name": "python",
   "nbconvert_exporter": "python",
   "pygments_lexer": "ipython3",
   "version": "3.6.9"
  }
 },
 "nbformat": 4,
 "nbformat_minor": 2
}
